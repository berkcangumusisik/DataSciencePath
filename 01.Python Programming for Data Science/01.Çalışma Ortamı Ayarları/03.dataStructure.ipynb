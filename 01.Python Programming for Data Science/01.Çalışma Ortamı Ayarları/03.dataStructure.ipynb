{
 "cells": [
  {
   "cell_type": "markdown",
   "metadata": {},
   "source": [
    "# Veri Yapıları (Data Structers)"
   ]
  },
  {
   "cell_type": "markdown",
   "metadata": {},
   "source": [
    "Sayılar : int"
   ]
  },
  {
   "cell_type": "code",
   "execution_count": 1,
   "metadata": {},
   "outputs": [
    {
     "data": {
      "text/plain": [
       "int"
      ]
     },
     "execution_count": 1,
     "metadata": {},
     "output_type": "execute_result"
    }
   ],
   "source": [
    "x = 46\n",
    "type(x)"
   ]
  },
  {
   "cell_type": "markdown",
   "metadata": {},
   "source": [
    "Sayılar : float"
   ]
  },
  {
   "cell_type": "code",
   "execution_count": 3,
   "metadata": {},
   "outputs": [
    {
     "data": {
      "text/plain": [
       "float"
      ]
     },
     "execution_count": 3,
     "metadata": {},
     "output_type": "execute_result"
    }
   ],
   "source": [
    "y = 10.3\n",
    "type(y)"
   ]
  },
  {
   "cell_type": "markdown",
   "metadata": {},
   "source": [
    "Sayılar : complex"
   ]
  },
  {
   "cell_type": "code",
   "execution_count": 4,
   "metadata": {},
   "outputs": [
    {
     "data": {
      "text/plain": [
       "complex"
      ]
     },
     "execution_count": 4,
     "metadata": {},
     "output_type": "execute_result"
    }
   ],
   "source": [
    "x = 2j + 1\n",
    "type(x)"
   ]
  },
  {
   "cell_type": "markdown",
   "metadata": {},
   "source": [
    "String"
   ]
  },
  {
   "cell_type": "code",
   "execution_count": 1,
   "metadata": {},
   "outputs": [
    {
     "data": {
      "text/plain": [
       "str"
      ]
     },
     "execution_count": 1,
     "metadata": {},
     "output_type": "execute_result"
    }
   ],
   "source": [
    "x = \"Hello Ai Era\"\n",
    "type(x)"
   ]
  },
  {
   "cell_type": "markdown",
   "metadata": {},
   "source": [
    "Boolean "
   ]
  },
  {
   "cell_type": "code",
   "execution_count": 3,
   "metadata": {},
   "outputs": [
    {
     "data": {
      "text/plain": [
       "bool"
      ]
     },
     "execution_count": 3,
     "metadata": {},
     "output_type": "execute_result"
    }
   ],
   "source": [
    "type(True)"
   ]
  },
  {
   "cell_type": "code",
   "execution_count": 4,
   "metadata": {},
   "outputs": [
    {
     "data": {
      "text/plain": [
       "bool"
      ]
     },
     "execution_count": 4,
     "metadata": {},
     "output_type": "execute_result"
    }
   ],
   "source": [
    "type(False)"
   ]
  },
  {
   "cell_type": "code",
   "execution_count": 5,
   "metadata": {},
   "outputs": [
    {
     "data": {
      "text/plain": [
       "False"
      ]
     },
     "execution_count": 5,
     "metadata": {},
     "output_type": "execute_result"
    }
   ],
   "source": [
    "5 == 4"
   ]
  },
  {
   "cell_type": "code",
   "execution_count": 6,
   "metadata": {},
   "outputs": [
    {
     "data": {
      "text/plain": [
       "False"
      ]
     },
     "execution_count": 6,
     "metadata": {},
     "output_type": "execute_result"
    }
   ],
   "source": [
    "3 == 2"
   ]
  },
  {
   "cell_type": "code",
   "execution_count": 7,
   "metadata": {},
   "outputs": [
    {
     "data": {
      "text/plain": [
       "True"
      ]
     },
     "execution_count": 7,
     "metadata": {},
     "output_type": "execute_result"
    }
   ],
   "source": [
    "1 == 1"
   ]
  },
  {
   "cell_type": "code",
   "execution_count": 8,
   "metadata": {},
   "outputs": [
    {
     "data": {
      "text/plain": [
       "bool"
      ]
     },
     "execution_count": 8,
     "metadata": {},
     "output_type": "execute_result"
    }
   ],
   "source": [
    "type(3 == 2)"
   ]
  },
  {
   "cell_type": "markdown",
   "metadata": {},
   "source": [
    "Liste"
   ]
  },
  {
   "cell_type": "code",
   "execution_count": 9,
   "metadata": {},
   "outputs": [
    {
     "data": {
      "text/plain": [
       "list"
      ]
     },
     "execution_count": 9,
     "metadata": {},
     "output_type": "execute_result"
    }
   ],
   "source": [
    "x = [\"btc\",\"eth\",\"xrp\",\"ltc\"]\n",
    "type(x)"
   ]
  },
  {
   "cell_type": "markdown",
   "metadata": {},
   "source": [
    "Sözlük(Dictinary)"
   ]
  },
  {
   "cell_type": "code",
   "execution_count": 10,
   "metadata": {},
   "outputs": [
    {
     "data": {
      "text/plain": [
       "dict"
      ]
     },
     "execution_count": 10,
     "metadata": {},
     "output_type": "execute_result"
    }
   ],
   "source": [
    "x = {\"name\" : \"Peter\", \"Age\": 36}\n",
    "type(x)"
   ]
  },
  {
   "cell_type": "markdown",
   "metadata": {},
   "source": [
    "Tuple"
   ]
  },
  {
   "cell_type": "code",
   "execution_count": 11,
   "metadata": {},
   "outputs": [
    {
     "data": {
      "text/plain": [
       "tuple"
      ]
     },
     "execution_count": 11,
     "metadata": {},
     "output_type": "execute_result"
    }
   ],
   "source": [
    "x = (\"python\",\"ml\",\"ai\")\n",
    "type(x)"
   ]
  },
  {
   "cell_type": "markdown",
   "metadata": {},
   "source": [
    "Set"
   ]
  },
  {
   "cell_type": "code",
   "execution_count": 12,
   "metadata": {},
   "outputs": [
    {
     "data": {
      "text/plain": [
       "set"
      ]
     },
     "execution_count": 12,
     "metadata": {},
     "output_type": "execute_result"
    }
   ],
   "source": [
    "x = {\"python\",\"ml\",\"ai\"}\n",
    "type(x)"
   ]
  },
  {
   "cell_type": "markdown",
   "metadata": {},
   "source": [
    "### Sayılar : int, float, complex"
   ]
  },
  {
   "cell_type": "code",
   "execution_count": 13,
   "metadata": {},
   "outputs": [
    {
     "data": {
      "text/plain": [
       "5"
      ]
     },
     "execution_count": 13,
     "metadata": {},
     "output_type": "execute_result"
    }
   ],
   "source": [
    "a = 5\n",
    "a"
   ]
  },
  {
   "cell_type": "code",
   "execution_count": 14,
   "metadata": {},
   "outputs": [
    {
     "data": {
      "text/plain": [
       "10.5"
      ]
     },
     "execution_count": 14,
     "metadata": {},
     "output_type": "execute_result"
    }
   ],
   "source": [
    "b = 10.5\n",
    "b"
   ]
  },
  {
   "cell_type": "code",
   "execution_count": 15,
   "metadata": {},
   "outputs": [
    {
     "name": "stdout",
     "output_type": "stream",
     "text": [
      "15\n",
      "1.6666666666666667\n"
     ]
    }
   ],
   "source": [
    "print(a * 3)\n",
    "print(a / 3)"
   ]
  },
  {
   "cell_type": "code",
   "execution_count": 16,
   "metadata": {},
   "outputs": [
    {
     "name": "stdout",
     "output_type": "stream",
     "text": [
      "5.25\n",
      "25\n"
     ]
    }
   ],
   "source": [
    "print(a * b / 10)\n",
    "print(a ** 2)"
   ]
  },
  {
   "cell_type": "markdown",
   "metadata": {},
   "source": [
    "### Tipleri Değiştirme"
   ]
  },
  {
   "cell_type": "code",
   "execution_count": 18,
   "metadata": {},
   "outputs": [
    {
     "data": {
      "text/plain": [
       "10"
      ]
     },
     "execution_count": 18,
     "metadata": {},
     "output_type": "execute_result"
    }
   ],
   "source": [
    "int(b)"
   ]
  },
  {
   "cell_type": "code",
   "execution_count": 19,
   "metadata": {},
   "outputs": [
    {
     "data": {
      "text/plain": [
       "5.0"
      ]
     },
     "execution_count": 19,
     "metadata": {},
     "output_type": "execute_result"
    }
   ],
   "source": [
    "float(a)"
   ]
  },
  {
   "cell_type": "code",
   "execution_count": 20,
   "metadata": {},
   "outputs": [
    {
     "data": {
      "text/plain": [
       "5"
      ]
     },
     "execution_count": 20,
     "metadata": {},
     "output_type": "execute_result"
    }
   ],
   "source": [
    "int(a * b / 10)"
   ]
  },
  {
   "cell_type": "markdown",
   "metadata": {},
   "source": [
    "### Karakter Dizileri (String)"
   ]
  },
  {
   "cell_type": "code",
   "execution_count": 21,
   "metadata": {},
   "outputs": [
    {
     "name": "stdout",
     "output_type": "stream",
     "text": [
      "John\n",
      "John\n"
     ]
    }
   ],
   "source": [
    "print(\"John\")\n",
    "print(\"John\")\n",
    "\n",
    "name = \"Berkcan\"\n"
   ]
  },
  {
   "cell_type": "code",
   "execution_count": 23,
   "metadata": {},
   "outputs": [
    {
     "name": "stdout",
     "output_type": "stream",
     "text": [
      "\n",
      "    Veri Yapıları: Hızlı Özet, \n",
      "Sayılar (Numbers): int, float, complex, \n",
      "Karakter Dizileri (Strings): str, \n",
      "List, Dictionary, Tuple, Set, \n",
      "Boolean (TRUE-FALSE): bool\n",
      "    \n"
     ]
    }
   ],
   "source": [
    "# Çok Satırlı Karakter Dizileri => 3 tane tek tırnak ya da 3 çift tırnak içerisinde yazılır.\n",
    "\n",
    "print(\n",
    "    \"\"\"\n",
    "    Veri Yapıları: Hızlı Özet, \n",
    "Sayılar (Numbers): int, float, complex, \n",
    "Karakter Dizileri (Strings): str, \n",
    "List, Dictionary, Tuple, Set, \n",
    "Boolean (TRUE-FALSE): bool\n",
    "    \"\"\"\n",
    ")"
   ]
  },
  {
   "cell_type": "code",
   "execution_count": 24,
   "metadata": {},
   "outputs": [
    {
     "name": "stdout",
     "output_type": "stream",
     "text": [
      "Veri Yapıları: Hızlı Özet, \n",
      "Sayılar (Numbers): int, float, complex, \n",
      "Karakter Dizileri (Strings): str, \n",
      "List, Dictionary, Tuple, Set, \n",
      "Boolean (TRUE-FALSE): bool\n"
     ]
    }
   ],
   "source": [
    "longStr = \"\"\"Veri Yapıları: Hızlı Özet, \n",
    "Sayılar (Numbers): int, float, complex, \n",
    "Karakter Dizileri (Strings): str, \n",
    "List, Dictionary, Tuple, Set, \n",
    "Boolean (TRUE-FALSE): bool\"\"\"\n",
    "print(longStr)"
   ]
  },
  {
   "cell_type": "markdown",
   "metadata": {},
   "source": [
    "#### Karakter Dizilerinin Elemanlarına Erişmek\n",
    "- Python programlama dilinde index 0'dan başlar.\n",
    "- İstenilen indexe erişimek için [] içerisinde yazılır."
   ]
  },
  {
   "cell_type": "code",
   "execution_count": 25,
   "metadata": {},
   "outputs": [
    {
     "name": "stdout",
     "output_type": "stream",
     "text": [
      "B\n",
      "k\n"
     ]
    }
   ],
   "source": [
    "print(name[0])\n",
    "print(name[3])"
   ]
  },
  {
   "cell_type": "markdown",
   "metadata": {},
   "source": [
    "Karakter Dizilerinde Slice İşlemi => belirlenen indexten istenen indexe kadar almayı sağlar.\n"
   ]
  },
  {
   "cell_type": "code",
   "execution_count": 26,
   "metadata": {},
   "outputs": [
    {
     "name": "stdout",
     "output_type": "stream",
     "text": [
      "Be\n",
      "Veri Yapıl\n"
     ]
    }
   ],
   "source": [
    "print(name[0:2])\n",
    "print(longStr[0:10])"
   ]
  },
  {
   "cell_type": "markdown",
   "metadata": {},
   "source": [
    "##### String içerisinde karakter sorgulama\n",
    "- in operatörü ile yapılır.\n",
    "- Büyük küçük harf duyarlıdır."
   ]
  },
  {
   "cell_type": "code",
   "execution_count": 27,
   "metadata": {},
   "outputs": [
    {
     "name": "stdout",
     "output_type": "stream",
     "text": [
      "True\n",
      "False\n",
      "True\n"
     ]
    }
   ],
   "source": [
    "print(\"Veri\" in longStr)\n",
    "print(\"veri\" in longStr)\n",
    "print(\"bool\" in longStr)"
   ]
  },
  {
   "cell_type": "markdown",
   "metadata": {},
   "source": [
    "### String Metotları"
   ]
  },
  {
   "cell_type": "markdown",
   "metadata": {},
   "source": [
    "len metodu => string değerin kaç elemandan oluştuğun verir."
   ]
  },
  {
   "cell_type": "code",
   "execution_count": 29,
   "metadata": {},
   "outputs": [
    {
     "name": "stdout",
     "output_type": "stream",
     "text": [
      "7\n",
      "7\n",
      "5\n"
     ]
    }
   ],
   "source": [
    "print(len(name))\n",
    "print(len(\"berkcan\"))\n",
    "print(len(\"miuul\"))"
   ]
  },
  {
   "cell_type": "markdown",
   "metadata": {},
   "source": [
    "upper() & lower(): küçük-büyük dönüşümleri"
   ]
  },
  {
   "cell_type": "code",
   "execution_count": 30,
   "metadata": {},
   "outputs": [
    {
     "name": "stdout",
     "output_type": "stream",
     "text": [
      "BERKCAN\n",
      "berkcan\n"
     ]
    }
   ],
   "source": [
    "print(name.upper())\n",
    "print(name.lower())"
   ]
  },
  {
   "cell_type": "markdown",
   "metadata": {},
   "source": [
    "replace: karakter değiştirir"
   ]
  },
  {
   "cell_type": "code",
   "execution_count": 31,
   "metadata": {},
   "outputs": [
    {
     "name": "stdout",
     "output_type": "stream",
     "text": [
      "Hello AI Era\n"
     ]
    }
   ],
   "source": [
    "hi = \"Hello AI Era\"\n",
    "hi.replace(\"l\", \"p\")\n",
    "print(hi)"
   ]
  },
  {
   "cell_type": "markdown",
   "metadata": {},
   "source": [
    "split: Belli bir boşluğa ya da karaktere göre böler"
   ]
  },
  {
   "cell_type": "code",
   "execution_count": 32,
   "metadata": {},
   "outputs": [
    {
     "name": "stdout",
     "output_type": "stream",
     "text": [
      "['Hello', 'AI', 'Era']\n"
     ]
    }
   ],
   "source": [
    "print(hi.split())"
   ]
  },
  {
   "cell_type": "markdown",
   "metadata": {},
   "source": [
    "strip: Baştan ve sondan boşlukları kırpa"
   ]
  },
  {
   "cell_type": "code",
   "execution_count": 33,
   "metadata": {},
   "outputs": [
    {
     "name": "stdout",
     "output_type": "stream",
     "text": [
      "ofofo\n",
      "fof\n"
     ]
    }
   ],
   "source": [
    "print(\" ofofo \".strip())\n",
    "print(\"ofofo\".strip(\"o\"))"
   ]
  },
  {
   "cell_type": "markdown",
   "metadata": {},
   "source": [
    "capitalize : İlk harfi büyütür.\n"
   ]
  },
  {
   "cell_type": "code",
   "execution_count": 34,
   "metadata": {},
   "outputs": [
    {
     "name": "stdout",
     "output_type": "stream",
     "text": [
      "Foo\n"
     ]
    }
   ],
   "source": [
    "print(\"foo\".capitalize())"
   ]
  },
  {
   "cell_type": "markdown",
   "metadata": {},
   "source": [
    "## Listeler"
   ]
  },
  {
   "cell_type": "markdown",
   "metadata": {},
   "source": [
    "- Değiştirilebilir\n",
    "- Sıralıdır. Index işlemleri yapılabilir.\n",
    "- Kapsayıcıdır.\n",
    "- [] içerisine yazılır ve , ile ayrılır.\n",
    "- Her tür veri tipi içeride olabilir."
   ]
  },
  {
   "cell_type": "code",
   "execution_count": 35,
   "metadata": {},
   "outputs": [
    {
     "name": "stdout",
     "output_type": "stream",
     "text": [
      "<class 'list'>\n",
      "1\n",
      "True\n",
      "[1, 2, 3]\n",
      "2\n"
     ]
    }
   ],
   "source": [
    "notes = [1,2,3,4]\n",
    "print(type(notes))\n",
    "names = [\"a\", \"b\", \"v\", \"d\"]\n",
    "not_nam = [1, 2, 3, \"a\", \"b\", True, [1, 2, 3]]\n",
    "print(not_nam[0])\n",
    "print(not_nam[5])\n",
    "print(not_nam[6])\n",
    "print(not_nam[6][1])"
   ]
  },
  {
   "cell_type": "code",
   "execution_count": 36,
   "metadata": {},
   "outputs": [
    {
     "name": "stdout",
     "output_type": "stream",
     "text": [
      "[99, 2, 3, 4]\n",
      "[1, 2, 3]\n"
     ]
    }
   ],
   "source": [
    "notes[0] = 99\n",
    "print(notes)\n",
    "print(not_nam[0:3])"
   ]
  },
  {
   "cell_type": "markdown",
   "metadata": {},
   "source": [
    "##### Liste Metodları (List Methods)\n",
    "- len() => kaç elemandan oluştuğu bilgisini verir.\n",
    "- append: Listenin sonuna eleman ekler.\n",
    "- pop: indexe göre silme işlemi yapar.\n",
    "- insert: indexe göre eleman ekler\n"
   ]
  },
  {
   "cell_type": "code",
   "execution_count": 37,
   "metadata": {},
   "outputs": [
    {
     "name": "stdout",
     "output_type": "stream",
     "text": [
      "4\n",
      "7\n"
     ]
    }
   ],
   "source": [
    "print(len(notes))\n",
    "print(len(not_nam))"
   ]
  },
  {
   "cell_type": "code",
   "execution_count": 38,
   "metadata": {},
   "outputs": [
    {
     "name": "stdout",
     "output_type": "stream",
     "text": [
      "[99, 2, 3, 4, 100]\n"
     ]
    }
   ],
   "source": [
    "notes.append(100)\n",
    "print(notes)"
   ]
  },
  {
   "cell_type": "code",
   "execution_count": 39,
   "metadata": {},
   "outputs": [
    {
     "name": "stdout",
     "output_type": "stream",
     "text": [
      "[99, 3, 4, 100]\n"
     ]
    }
   ],
   "source": [
    "notes.pop(1)\n",
    "print(notes)"
   ]
  },
  {
   "cell_type": "code",
   "execution_count": 40,
   "metadata": {},
   "outputs": [
    {
     "name": "stdout",
     "output_type": "stream",
     "text": [
      "[99, 3, 5, 4, 100]\n"
     ]
    }
   ],
   "source": [
    "notes.insert(2,5)\n",
    "print(notes)"
   ]
  },
  {
   "cell_type": "markdown",
   "metadata": {},
   "source": [
    "#### Dictionary(Sözlük)\n",
    "\n",
    "- Değiştirilebilir.\n",
    "- Normal şartlarda sırasızdır. Ama 3.7 versiyonuyla birlikte sıralı özelliği kazanmıştır.\n",
    "- Her veri tipini içerisinde barındırır.\n",
    "- {} içerisine yazılır. {key:value}\n",
    "- key-value"
   ]
  },
  {
   "cell_type": "code",
   "execution_count": 41,
   "metadata": {},
   "outputs": [
    {
     "name": "stdout",
     "output_type": "stream",
     "text": [
      "REG\n"
     ]
    }
   ],
   "source": [
    "dictionary = {\"REG\": \"Regression\",\n",
    "              \"LOG\": \"Logistic Regression\",\n",
    "              \"CART\": \"Classification and Reg\"}\n",
    "print(\"REG\")"
   ]
  },
  {
   "cell_type": "code",
   "execution_count": 42,
   "metadata": {},
   "outputs": [
    {
     "name": "stdout",
     "output_type": "stream",
     "text": [
      "30\n"
     ]
    }
   ],
   "source": [
    "\n",
    "dictionary = {\"REG\": [\"RMSE\", 10],\n",
    "              \"LOG\": [\"MSE\", 20],\n",
    "              \"CART\": [\"SSE\", 30]}\n",
    "\n",
    "dictionary = {\"REG\": 10,\n",
    "              \"LOG\": 20,\n",
    "              \"CART\": 30}\n",
    "\n",
    "print(dictionary[\"CART\"])"
   ]
  },
  {
   "cell_type": "code",
   "execution_count": 43,
   "metadata": {},
   "outputs": [
    {
     "name": "stdout",
     "output_type": "stream",
     "text": [
      "False\n"
     ]
    }
   ],
   "source": [
    "# Key Sorgulama\n",
    "\n",
    "print(\"YSA\" in dictionary)"
   ]
  },
  {
   "cell_type": "code",
   "execution_count": 44,
   "metadata": {},
   "outputs": [
    {
     "name": "stdout",
     "output_type": "stream",
     "text": [
      "10\n",
      "10\n"
     ]
    }
   ],
   "source": [
    "# Key'e Göre Value'ya Erişmek => [\"\"] ya da get metoduyla erişiriz.\n",
    "\n",
    "\n",
    "print(dictionary[\"REG\"])\n",
    "print(dictionary.get(\"REG\"))"
   ]
  },
  {
   "cell_type": "code",
   "execution_count": 45,
   "metadata": {},
   "outputs": [
    {
     "name": "stdout",
     "output_type": "stream",
     "text": [
      "{'REG': ['YSA', 10], 'LOG': 20, 'CART': 30}\n"
     ]
    }
   ],
   "source": [
    "# Value Değiştirmek\n",
    "\n",
    "dictionary[\"REG\"] = [\"YSA\", 10]\n",
    "print(dictionary)\n"
   ]
  },
  {
   "cell_type": "code",
   "execution_count": 46,
   "metadata": {},
   "outputs": [
    {
     "name": "stdout",
     "output_type": "stream",
     "text": [
      "dict_keys(['REG', 'LOG', 'CART'])\n"
     ]
    }
   ],
   "source": [
    "# Tüm Key'lere Erişmek\n",
    "\n",
    "print(dictionary.keys())"
   ]
  },
  {
   "cell_type": "code",
   "execution_count": 47,
   "metadata": {},
   "outputs": [
    {
     "name": "stdout",
     "output_type": "stream",
     "text": [
      "dict_values([['YSA', 10], 20, 30])\n"
     ]
    }
   ],
   "source": [
    "# Tüm Value'lara Erişmek\n",
    "\n",
    "print(dictionary.values())"
   ]
  },
  {
   "cell_type": "code",
   "execution_count": 48,
   "metadata": {},
   "outputs": [
    {
     "name": "stdout",
     "output_type": "stream",
     "text": [
      "dict_items([('REG', ['YSA', 10]), ('LOG', 20), ('CART', 30)])\n"
     ]
    }
   ],
   "source": [
    "# Tüm Çiftleri Tuple Halinde Listeye Çevirme\n",
    "print(dictionary.items())"
   ]
  },
  {
   "cell_type": "code",
   "execution_count": 49,
   "metadata": {},
   "outputs": [],
   "source": [
    "# Key-Value Değerini Güncellemek\n",
    "\n",
    "dictionary.update({\"REG\": 11})"
   ]
  },
  {
   "cell_type": "code",
   "execution_count": 50,
   "metadata": {},
   "outputs": [
    {
     "name": "stdout",
     "output_type": "stream",
     "text": [
      "{'REG': 11, 'LOG': 20, 'CART': 30, 'RF': 10}\n"
     ]
    }
   ],
   "source": [
    "# Yeni Key-Value Eklemek\n",
    "\n",
    "dictionary.update({\"RF\": 10})\n",
    "\n",
    "print(dictionary)"
   ]
  },
  {
   "cell_type": "markdown",
   "metadata": {},
   "source": [
    "#### Demet (Tuple)\n",
    "- Değiştirilemez.\n",
    "- Sıralıdır.\n",
    "- Kapsayıcıdır.\n",
    "- () içerisine yazılır"
   ]
  },
  {
   "cell_type": "code",
   "execution_count": 51,
   "metadata": {},
   "outputs": [
    {
     "name": "stdout",
     "output_type": "stream",
     "text": [
      "<class 'tuple'>\n",
      "john\n",
      "('john', 'mark', 1)\n",
      "['john', 'mark', 1, 2]\n",
      "(99, 'mark', 1, 2)\n"
     ]
    }
   ],
   "source": [
    "t = (\"john\", \"mark\", 1, 2)\n",
    "print(type(t))\n",
    "\n",
    "print(t[0])\n",
    "print(t[0:3])\n",
    "\n",
    "\n",
    "t = list(t)\n",
    "print(t)\n",
    "t[0] = 99\n",
    "t = tuple(t)\n",
    "print(t)"
   ]
  },
  {
   "cell_type": "markdown",
   "metadata": {},
   "source": [
    "#### Set(Küme)\n",
    "- Değiştirilebilir.\n",
    "- Sırasız + Eşsizdir.\n",
    "- Kapsayıcıdır.\n",
    "\n",
    "difference(): İki kümenin farkı\n"
   ]
  },
  {
   "cell_type": "code",
   "execution_count": 52,
   "metadata": {},
   "outputs": [
    {
     "name": "stdout",
     "output_type": "stream",
     "text": [
      "{5}\n",
      "{2}\n"
     ]
    }
   ],
   "source": [
    "set1 = set([1, 3, 5])\n",
    "set2 = set([1, 2, 3])\n",
    "print(set1.difference(set2))\n",
    "print(set2.difference(set1))\n"
   ]
  },
  {
   "cell_type": "code",
   "execution_count": 53,
   "metadata": {},
   "outputs": [
    {
     "name": "stdout",
     "output_type": "stream",
     "text": [
      "{2, 5}\n",
      "{2, 5}\n"
     ]
    }
   ],
   "source": [
    "# symmetric_difference(): İki kümede de birbirlerine göre olmayanlar\n",
    "print(set1.symmetric_difference(set2))\n",
    "print(set2.symmetric_difference(set1))\n"
   ]
  },
  {
   "cell_type": "code",
   "execution_count": 54,
   "metadata": {},
   "outputs": [
    {
     "name": "stdout",
     "output_type": "stream",
     "text": [
      "{1, 3}\n"
     ]
    }
   ],
   "source": [
    "\n",
    "# intersection(): İki kümenin kesişimi\n",
    "print(set1.intersection(set2))\n"
   ]
  },
  {
   "cell_type": "code",
   "execution_count": 55,
   "metadata": {},
   "outputs": [
    {
     "name": "stdout",
     "output_type": "stream",
     "text": [
      "{1, 2, 3, 5}\n"
     ]
    }
   ],
   "source": [
    "# union(): İki kümenin birleşimi\n",
    "print(set1.union(set2))"
   ]
  },
  {
   "cell_type": "code",
   "execution_count": 56,
   "metadata": {},
   "outputs": [
    {
     "name": "stdout",
     "output_type": "stream",
     "text": [
      "False\n"
     ]
    }
   ],
   "source": [
    "# isdisjoint(): İki kümenin kesişimi boş mu?\n",
    "set1 = set([7, 8, 9])\n",
    "set2 = set([5, 6, 7, 8, 9, 10])\n",
    "print(set1.isdisjoint(set2))"
   ]
  },
  {
   "cell_type": "code",
   "execution_count": 57,
   "metadata": {},
   "outputs": [
    {
     "name": "stdout",
     "output_type": "stream",
     "text": [
      "True\n",
      "False\n"
     ]
    }
   ],
   "source": [
    "# issubset(): Bir küme diğer kümenin alt kümesi mi?\n",
    "print(set1.issubset(set2))\n",
    "print(set2.issubset(set1))"
   ]
  },
  {
   "cell_type": "code",
   "execution_count": 58,
   "metadata": {},
   "outputs": [
    {
     "name": "stdout",
     "output_type": "stream",
     "text": [
      "False\n",
      "True\n"
     ]
    }
   ],
   "source": [
    "# issuperset(): Bir küme diğer kümeyi kapsıyor mu?\n",
    "print(set1.issuperset(set2))\n",
    "print(set2.issuperset(set1))"
   ]
  }
 ],
 "metadata": {
  "kernelspec": {
   "display_name": "Python 3.10.5 64-bit",
   "language": "python",
   "name": "python3"
  },
  "language_info": {
   "codemirror_mode": {
    "name": "ipython",
    "version": 3
   },
   "file_extension": ".py",
   "mimetype": "text/x-python",
   "name": "python",
   "nbconvert_exporter": "python",
   "pygments_lexer": "ipython3",
   "version": "3.10.5"
  },
  "orig_nbformat": 4,
  "vscode": {
   "interpreter": {
    "hash": "5026d2d6e7aaaaba093def813beadff083d8733e4a511af01735cbabd156995d"
   }
  }
 },
 "nbformat": 4,
 "nbformat_minor": 2
}
