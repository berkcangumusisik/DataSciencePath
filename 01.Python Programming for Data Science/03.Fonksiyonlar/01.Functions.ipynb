{
 "cells": [
  {
   "cell_type": "markdown",
   "metadata": {},
   "source": [
    "# Fonksiyonlar\n",
    "- Fonksiyonlar, kodunuzu tekrar tekrar kullanmanızı sağlar."
   ]
  },
  {
   "cell_type": "code",
   "execution_count": 1,
   "metadata": {},
   "outputs": [
    {
     "name": "stdout",
     "output_type": "stream",
     "text": [
      "a--b\n"
     ]
    }
   ],
   "source": [
    "print(\"a\", \"b\", sep=\"--\")  # sep ile veriler arasına koymak istediğimiz içeriklerdir.\n"
   ]
  },
  {
   "cell_type": "markdown",
   "metadata": {},
   "source": [
    "### Fonksiyon Tanımlama\n",
    "```python\n",
    "def fonksiyon_adi(parametre1, parametre2, ...):\n",
    "    # fonksiyonun yapacağı işlemler\n",
    "    return deger\n",
    "```\n"
   ]
  },
  {
   "cell_type": "code",
   "execution_count": 2,
   "metadata": {},
   "outputs": [
    {
     "name": "stdout",
     "output_type": "stream",
     "text": [
      "10\n"
     ]
    }
   ],
   "source": [
    "def calculate(x):\n",
    "    print(x * 2)\n",
    "calculate(5)"
   ]
  },
  {
   "cell_type": "markdown",
   "metadata": {},
   "source": [
    "#iki argümanlı ya da iki parametreli bir fonnksiyon tanımlarken argümanlarlar ya da parametreler arasına , konur\n"
   ]
  },
  {
   "cell_type": "code",
   "execution_count": 3,
   "metadata": {},
   "outputs": [
    {
     "name": "stdout",
     "output_type": "stream",
     "text": [
      "15\n",
      "15\n",
      "15\n"
     ]
    }
   ],
   "source": [
    "def summer(arg1, arg2):\n",
    "    print(arg1 + arg2)\n",
    "summer(7,8)\n",
    "summer(8,7)\n",
    "summer(arg2 = 7, arg1 = 8)"
   ]
  },
  {
   "cell_type": "markdown",
   "metadata": {},
   "source": [
    "#### Docstring\n",
    "Ortak bir dilde bilgi notu eklemektir.\n",
    "Yaygın olarak numpy kullanılır.\n",
    "3 bölümden oluşur.\n",
    "- 1. bölümde fonksiyonun ne yaptığı ifade edilir.\n",
    "- 2. bölümde parametrelerin tipleri ve görevi  ifade edilir.\n",
    "- 3. bölümde return bilgisi girilir."
   ]
  },
  {
   "cell_type": "code",
   "execution_count": 4,
   "metadata": {},
   "outputs": [],
   "source": [
    "def summer(arg1 ,arg2):\n",
    "    \"\"\"\n",
    "    Sum of two numbers\n",
    "    Parameters\n",
    "    ----------\n",
    "    arg1: float, int\n",
    "    arg2: float, int\n",
    "    Returns:\n",
    "        int, float\n",
    "    -------\n",
    "    \"\"\"\n",
    "    print(arg1 ,arg2)\n"
   ]
  },
  {
   "cell_type": "markdown",
   "metadata": {},
   "source": [
    "#### Fonksiyonların gövdesi(Statement bölümleri)\n"
   ]
  },
  {
   "cell_type": "code",
   "execution_count": 6,
   "metadata": {},
   "outputs": [
    {
     "name": "stdout",
     "output_type": "stream",
     "text": [
      "Hi\n",
      "Hello\n",
      "Merhaba\n"
     ]
    }
   ],
   "source": [
    "def say_hi():\n",
    "    print(\"Hi\")\n",
    "    print(\"Hello\")\n",
    "    print(\"Merhaba\")\n",
    "say_hi()"
   ]
  },
  {
   "cell_type": "code",
   "execution_count": 7,
   "metadata": {},
   "outputs": [
    {
     "name": "stdout",
     "output_type": "stream",
     "text": [
      "Hi\n",
      "Hello\n",
      "Merhaba\n"
     ]
    }
   ],
   "source": [
    "def say_hi(string):\n",
    "    print(string)\n",
    "    print(\"Hello\")\n",
    "    print(\"Merhaba\")\n",
    "say_hi(\"Hi\")"
   ]
  },
  {
   "cell_type": "markdown",
   "metadata": {},
   "source": [
    "Fonksiyonları birbirini tekrar eden durumlarda kullanırız. DRY prensibini sağlar."
   ]
  },
  {
   "cell_type": "code",
   "execution_count": 8,
   "metadata": {},
   "outputs": [
    {
     "name": "stdout",
     "output_type": "stream",
     "text": [
      "30\n"
     ]
    }
   ],
   "source": [
    "def multiplication(a,b):\n",
    "    c = a * b\n",
    "    print(c)\n",
    "multiplication(5,6)"
   ]
  },
  {
   "cell_type": "code",
   "execution_count": 9,
   "metadata": {},
   "outputs": [
    {
     "name": "stdout",
     "output_type": "stream",
     "text": [
      "[8]\n",
      "[8, 144]\n",
      "[8, 144, 1800]\n"
     ]
    }
   ],
   "source": [
    "# Girilen değerleri bir liste içinde saklayacak fonksiyon yazınız.\n",
    "from audioop import add\n",
    "\n",
    "\n",
    "list_store = []\n",
    "def add_element(a,b):\n",
    "    c = a * b\n",
    "    list_store.append(c)\n",
    "    print(list_store)\n",
    "add_element(1,8)\n",
    "add_element(18,8)\n",
    "add_element(180,10)\n"
   ]
  },
  {
   "cell_type": "markdown",
   "metadata": {},
   "source": [
    "#### Ön Tanımlı Argümanlar/Parametreler (Default Parameters/Arguments)\n",
    "\n",
    "Fonksiyonun hiçbir değer verilmezse sabit bir değer verilmesidir."
   ]
  },
  {
   "cell_type": "code",
   "execution_count": 10,
   "metadata": {},
   "outputs": [
    {
     "name": "stdout",
     "output_type": "stream",
     "text": [
      "0.5\n"
     ]
    }
   ],
   "source": [
    "def divide(a,b):\n",
    "    print(a / b)\n",
    "\n",
    "divide(1,2)"
   ]
  },
  {
   "cell_type": "code",
   "execution_count": 11,
   "metadata": {},
   "outputs": [
    {
     "name": "stdout",
     "output_type": "stream",
     "text": [
      "5.0\n"
     ]
    }
   ],
   "source": [
    "def divide(a, b=2):\n",
    "    print(a / b)\n",
    "\n",
    "\n",
    "divide(10)\n"
   ]
  },
  {
   "cell_type": "code",
   "execution_count": 12,
   "metadata": {},
   "outputs": [
    {
     "name": "stdout",
     "output_type": "stream",
     "text": [
      "Merhaba\n",
      "Hi\n",
      "Hello\n"
     ]
    }
   ],
   "source": [
    "def say_hi(string=\"Merhaba\"):\n",
    "    print(string)\n",
    "    print(\"Hi\")\n",
    "    print(\"Hello\")\n",
    "\n",
    "\n",
    "say_hi()"
   ]
  },
  {
   "cell_type": "code",
   "execution_count": 13,
   "metadata": {},
   "outputs": [
    {
     "name": "stdout",
     "output_type": "stream",
     "text": [
      "1.4102564102564104\n"
     ]
    }
   ],
   "source": [
    "def calculate(varm, moisture, charge):\n",
    "    print((varm + moisture) / charge)\n",
    "\n",
    "\n",
    "calculate(98, 12, 78)\n"
   ]
  },
  {
   "cell_type": "markdown",
   "metadata": {},
   "source": [
    "#### Return: Fonksiyon Çıktılarını Girdi Olarak Kullanmak\n"
   ]
  },
  {
   "cell_type": "code",
   "execution_count": 14,
   "metadata": {},
   "outputs": [
    {
     "name": "stdout",
     "output_type": "stream",
     "text": [
      "14.102564102564104\n"
     ]
    }
   ],
   "source": [
    "def calculate(varm, moisture, charge):\n",
    "    return (varm + moisture) / charge\n",
    "\n",
    "\n",
    "print(calculate(98, 12, 78) * 10)"
   ]
  },
  {
   "cell_type": "code",
   "execution_count": 15,
   "metadata": {},
   "outputs": [
    {
     "name": "stdout",
     "output_type": "stream",
     "text": [
      "<class 'tuple'>\n"
     ]
    }
   ],
   "source": [
    "def calculate(varm, moisture, charge):\n",
    "    varm = varm * 2\n",
    "    moisture = moisture * 2\n",
    "    charge = charge * 2\n",
    "    output = (varm + moisture) / charge\n",
    "    return varm, moisture, charge, output\n",
    "print(type(calculate(98, 12, 78)))"
   ]
  },
  {
   "cell_type": "markdown",
   "metadata": {},
   "source": [
    "####   Fonksiyon İçerisinden Fonksiyon Çağırmak\n"
   ]
  },
  {
   "cell_type": "code",
   "execution_count": 16,
   "metadata": {},
   "outputs": [
    {
     "name": "stdout",
     "output_type": "stream",
     "text": [
      "4.5\n"
     ]
    }
   ],
   "source": [
    "def standardization(a, p):\n",
    "    return a * 10 / 100 * p * p\n",
    "\n",
    "\n",
    "print(standardization(45, 1))"
   ]
  },
  {
   "cell_type": "code",
   "execution_count": 20,
   "metadata": {},
   "outputs": [
    {
     "name": "stdout",
     "output_type": "stream",
     "text": [
      "(2, 6, 10, 0.8)\n",
      "2735.9999999999995\n"
     ]
    }
   ],
   "source": [
    "def all_calculation(varm, moisture, charge, a, p):\n",
    "    print(calculate(varm, moisture, charge))\n",
    "    b = standardization(a, p)\n",
    "    print(b * 10)\n",
    "\n",
    "\n",
    "all_calculation(1, 3, 5, 19, 12)\n"
   ]
  },
  {
   "cell_type": "markdown",
   "metadata": {},
   "source": [
    "#### Lokal & Global Değişkenler (Local & Global Variables)"
   ]
  },
  {
   "cell_type": "code",
   "execution_count": 21,
   "metadata": {},
   "outputs": [
    {
     "name": "stdout",
     "output_type": "stream",
     "text": [
      "[1, 2, 9]\n"
     ]
    }
   ],
   "source": [
    "list_store = [1, 2]\n",
    "\n",
    "def add_element(a, b):\n",
    "    c = a * b\n",
    "    list_store.append(c)\n",
    "    print(list_store)\n",
    "\n",
    "add_element(1, 9)"
   ]
  }
 ],
 "metadata": {
  "kernelspec": {
   "display_name": "Python 3.10.5 64-bit",
   "language": "python",
   "name": "python3"
  },
  "language_info": {
   "codemirror_mode": {
    "name": "ipython",
    "version": 3
   },
   "file_extension": ".py",
   "mimetype": "text/x-python",
   "name": "python",
   "nbconvert_exporter": "python",
   "pygments_lexer": "ipython3",
   "version": "3.10.5"
  },
  "orig_nbformat": 4,
  "vscode": {
   "interpreter": {
    "hash": "5026d2d6e7aaaaba093def813beadff083d8733e4a511af01735cbabd156995d"
   }
  }
 },
 "nbformat": 4,
 "nbformat_minor": 2
}
