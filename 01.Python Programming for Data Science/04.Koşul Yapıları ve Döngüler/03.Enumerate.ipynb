{
 "cells": [
  {
   "cell_type": "markdown",
   "metadata": {},
   "source": [
    "# Enumerate: Otomatik Counter/Indexer ile for loop"
   ]
  },
  {
   "cell_type": "code",
   "execution_count": 1,
   "metadata": {},
   "outputs": [
    {
     "name": "stdout",
     "output_type": "stream",
     "text": [
      "John\n",
      "Mark\n",
      "Venessa\n",
      "Mariam\n"
     ]
    }
   ],
   "source": [
    "students = [\"John\", \"Mark\", \"Venessa\", \"Mariam\"]\n",
    "\n",
    "for student in students:\n",
    "    print(student)"
   ]
  },
  {
   "cell_type": "code",
   "execution_count": 2,
   "metadata": {},
   "outputs": [
    {
     "name": "stdout",
     "output_type": "stream",
     "text": [
      "0 John\n",
      "1 Mark\n",
      "2 Venessa\n",
      "3 Mariam\n"
     ]
    }
   ],
   "source": [
    "for index, student in enumerate(students):\n",
    "    print(index, student)"
   ]
  },
  {
   "cell_type": "code",
   "execution_count": 3,
   "metadata": {},
   "outputs": [
    {
     "name": "stdout",
     "output_type": "stream",
     "text": [
      "['John', 'Venessa']\n",
      "['Mark', 'Mariam']\n"
     ]
    }
   ],
   "source": [
    "A = []\n",
    "B = []\n",
    "for index,student in enumerate(students):\n",
    "    if index % 2 == 0:\n",
    "        A.append(student)\n",
    "    else:\n",
    "        B.append(student)\n",
    "print(A)\n",
    "print(B)"
   ]
  },
  {
   "cell_type": "code",
   "execution_count": 4,
   "metadata": {},
   "outputs": [
    {
     "name": "stdout",
     "output_type": "stream",
     "text": [
      "[['John', 'Venessa'], ['Mark', 'Mariam']]\n"
     ]
    }
   ],
   "source": [
    "#Uygulama - Mülakat sorusu\n",
    "# divide_students fonksiyonu yazınız.\n",
    "# Çift indexte yer alan öğrencileri bir listeye alınız.\n",
    "# Tek indexte yer alan öğrencileri başka bir listeye alınız.\n",
    "# Fakat bu iki liste tek bir liste olarak return olsun.\n",
    "\n",
    "students = [\"John\", \"Mark\", \"Venessa\", \"Mariam\"]\n",
    "def divide_students(students):\n",
    "    groups = [[],[]]\n",
    "    for index, student in enumerate(students):\n",
    "        if index % 2 == 0:\n",
    "            groups[0].append(student)\n",
    "        else:\n",
    "            groups[1].append(student)\n",
    "    print(groups)\n",
    "divide_students(students)\n"
   ]
  },
  {
   "cell_type": "code",
   "execution_count": 5,
   "metadata": {},
   "outputs": [
    {
     "name": "stdout",
     "output_type": "stream",
     "text": [
      "Hi mY NaMe iS JoHn aNd i aM LeArNiNg pYtHoN\n"
     ]
    }
   ],
   "source": [
    "# alternating fonksiyonunun enumerate ile yazılması\n",
    "def alternatingWithEnumarate(string):\n",
    "    newString = \"\"\n",
    "    for i, letter in enumerate(string):\n",
    "        if i % 2 == 0:\n",
    "            newString += letter.upper()\n",
    "        else:\n",
    "            newString += letter.lower()\n",
    "    print(newString)\n",
    "\n",
    "\n",
    "alternatingWithEnumarate(\"hi my name is john and i am learning python\")"
   ]
  }
 ],
 "metadata": {
  "kernelspec": {
   "display_name": "Python 3.10.5 64-bit",
   "language": "python",
   "name": "python3"
  },
  "language_info": {
   "codemirror_mode": {
    "name": "ipython",
    "version": 3
   },
   "file_extension": ".py",
   "mimetype": "text/x-python",
   "name": "python",
   "nbconvert_exporter": "python",
   "pygments_lexer": "ipython3",
   "version": "3.10.5"
  },
  "orig_nbformat": 4,
  "vscode": {
   "interpreter": {
    "hash": "5026d2d6e7aaaaba093def813beadff083d8733e4a511af01735cbabd156995d"
   }
  }
 },
 "nbformat": 4,
 "nbformat_minor": 2
}
