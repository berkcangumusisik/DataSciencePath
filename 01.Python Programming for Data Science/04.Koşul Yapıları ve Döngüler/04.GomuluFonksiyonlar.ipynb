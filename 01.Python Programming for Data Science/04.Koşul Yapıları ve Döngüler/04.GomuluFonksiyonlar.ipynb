{
 "cells": [
  {
   "cell_type": "markdown",
   "metadata": {},
   "source": [
    "## zip gruplama işlemi yapmaktadır.\n"
   ]
  },
  {
   "cell_type": "code",
   "execution_count": 1,
   "metadata": {},
   "outputs": [
    {
     "name": "stdout",
     "output_type": "stream",
     "text": [
      "[('John', 'mathematics', 23), ('Mark', 'statistics', 30), ('Venessa', 'physics', 26), ('Mariam', 'astronomy', 22)]\n"
     ]
    }
   ],
   "source": [
    "students = [\"John\", \"Mark\", \"Venessa\", \"Mariam\"]\n",
    "\n",
    "departments = [\"mathematics\", \"statistics\", \"physics\", \"astronomy\"]\n",
    "\n",
    "ages = [23, 30, 26, 22]\n",
    "\n",
    "print(list(zip(students, departments, ages)))"
   ]
  },
  {
   "cell_type": "markdown",
   "metadata": {},
   "source": [
    "#### lambda  \n",
    "- Fonksiyonu tek satırda yazmayı sağlar.\n",
    "- lambda parametre(ler) : yapılacak işlemler\n"
   ]
  },
  {
   "cell_type": "code",
   "execution_count": 2,
   "metadata": {},
   "outputs": [
    {
     "name": "stdout",
     "output_type": "stream",
     "text": [
      "5\n"
     ]
    }
   ],
   "source": [
    "summer = lambda a,b : a + b\n",
    "print(summer(2,3))\n"
   ]
  },
  {
   "cell_type": "markdown",
   "metadata": {},
   "source": [
    "#### map\n",
    "Elinizdeki bir fonksiyona, elinizdeki bir datanın elemanlarını sırasıyla gönderir ve sonucu tek bir obje olarak geri döner."
   ]
  },
  {
   "cell_type": "code",
   "execution_count": 3,
   "metadata": {},
   "outputs": [
    {
     "data": {
      "text/plain": [
       "6000.0"
      ]
     },
     "execution_count": 3,
     "metadata": {},
     "output_type": "execute_result"
    }
   ],
   "source": [
    "salaries = [1000, 2000, 3000, 4000, 5000]\n",
    "\n",
    "def newSalary(x):\n",
    "    return x * 20 / 100 + x\n",
    "\n",
    "newSalary(5000)"
   ]
  },
  {
   "cell_type": "code",
   "execution_count": 5,
   "metadata": {},
   "outputs": [
    {
     "name": "stdout",
     "output_type": "stream",
     "text": [
      "1200.0\n",
      "2400.0\n",
      "3600.0\n",
      "4800.0\n",
      "6000.0\n",
      "[1200.0, 2400.0, 3600.0, 4800.0, 6000.0]\n"
     ]
    }
   ],
   "source": [
    "for salary in salaries:\n",
    "    print(newSalary(salary))\n",
    "\n",
    "print(list(map(newSalary, salaries)))"
   ]
  },
  {
   "cell_type": "code",
   "execution_count": 6,
   "metadata": {},
   "outputs": [
    {
     "name": "stdout",
     "output_type": "stream",
     "text": [
      "[1200.0, 2400.0, 3600.0, 4800.0, 6000.0]\n",
      "[1000000, 4000000, 9000000, 16000000, 25000000]\n"
     ]
    }
   ],
   "source": [
    "print(list(map(lambda x: x * 20 / 100 + x, salaries)))\n",
    "print(list(map(lambda x: x ** 2 , salaries)))"
   ]
  },
  {
   "cell_type": "markdown",
   "metadata": {},
   "source": [
    "### filter"
   ]
  },
  {
   "cell_type": "code",
   "execution_count": 7,
   "metadata": {},
   "outputs": [
    {
     "name": "stdout",
     "output_type": "stream",
     "text": [
      "[2, 4, 6, 8, 10]\n"
     ]
    }
   ],
   "source": [
    "list_store = [1, 2, 3, 4, 5, 6, 7, 8, 9, 10]\n",
    "print(list(filter(lambda x: x % 2 == 0, list_store)))"
   ]
  },
  {
   "cell_type": "markdown",
   "metadata": {},
   "source": [
    "### reduce\n",
    "Reduce fonksiyonu, döngüye sokabileceğiniz herhangi bir veri tipi içinde, veri tipinin içindeki tüm elemanları azaltarak dolaşan ve karşılaştırma yapmaya imkan tanıyan bir yapıdır.\n"
   ]
  },
  {
   "cell_type": "code",
   "execution_count": 8,
   "metadata": {},
   "outputs": [
    {
     "name": "stdout",
     "output_type": "stream",
     "text": [
      "10\n"
     ]
    }
   ],
   "source": [
    "from functools import reduce\n",
    "list_store = [1, 2, 3, 4]\n",
    "print(reduce(lambda a, b: a + b, list_store))"
   ]
  }
 ],
 "metadata": {
  "kernelspec": {
   "display_name": "Python 3.10.5 64-bit",
   "language": "python",
   "name": "python3"
  },
  "language_info": {
   "codemirror_mode": {
    "name": "ipython",
    "version": 3
   },
   "file_extension": ".py",
   "mimetype": "text/x-python",
   "name": "python",
   "nbconvert_exporter": "python",
   "pygments_lexer": "ipython3",
   "version": "3.10.5"
  },
  "orig_nbformat": 4,
  "vscode": {
   "interpreter": {
    "hash": "5026d2d6e7aaaaba093def813beadff083d8733e4a511af01735cbabd156995d"
   }
  }
 },
 "nbformat": 4,
 "nbformat_minor": 2
}
