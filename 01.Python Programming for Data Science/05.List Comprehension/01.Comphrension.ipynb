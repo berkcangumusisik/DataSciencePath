{
 "cells": [
  {
   "cell_type": "code",
   "execution_count": 1,
   "metadata": {},
   "outputs": [
    {
     "name": "stdout",
     "output_type": "stream",
     "text": [
      "[1200.0, 2400.0, 3600.0, 4800.0, 6000.0]\n"
     ]
    }
   ],
   "source": [
    "salaries = [1000, 2000, 3000, 4000, 5000]\n",
    "\n",
    "def newSalary(x):\n",
    "    return x * 20 / 100 + x\n",
    "\n",
    "nullList = []\n",
    "for salary in salaries:\n",
    "    nullList.append(newSalary(salary))\n",
    "print(nullList)"
   ]
  },
  {
   "cell_type": "code",
   "execution_count": 2,
   "metadata": {},
   "outputs": [
    {
     "name": "stdout",
     "output_type": "stream",
     "text": [
      "[2400.0, 4800.0, 7200.0, 4800.0, 6000.0]\n"
     ]
    }
   ],
   "source": [
    "nullList = []\n",
    "for salary in salaries:\n",
    "    if salary > 3000:\n",
    "        nullList.append(newSalary(salary))\n",
    "    else:\n",
    "        nullList.append(newSalary(salary) * 2)\n",
    "print(nullList)"
   ]
  },
  {
   "cell_type": "code",
   "execution_count": 4,
   "metadata": {},
   "outputs": [
    {
     "name": "stdout",
     "output_type": "stream",
     "text": [
      "[2400.0, 4800.0, 3600.0, 4800.0, 6000.0]\n"
     ]
    }
   ],
   "source": [
    "print([newSalary(salary * 2) if salary < 3000 else newSalary(salary) for salary in salaries])"
   ]
  },
  {
   "cell_type": "code",
   "execution_count": 5,
   "metadata": {},
   "outputs": [
    {
     "name": "stdout",
     "output_type": "stream",
     "text": [
      "<generator object <genexpr> at 0x00000257D2B1E8F0>\n"
     ]
    }
   ],
   "source": [
    "print(salary * 2 for salary in salaries)\n"
   ]
  },
  {
   "cell_type": "code",
   "execution_count": 6,
   "metadata": {},
   "outputs": [
    {
     "name": "stdout",
     "output_type": "stream",
     "text": [
      "[2000, 4000]\n"
     ]
    }
   ],
   "source": [
    "print([salary * 2 for salary in salaries if salary < 3000])"
   ]
  },
  {
   "cell_type": "code",
   "execution_count": 7,
   "metadata": {},
   "outputs": [
    {
     "name": "stdout",
     "output_type": "stream",
     "text": [
      "[2000, 4000, 0, 0, 0]\n"
     ]
    }
   ],
   "source": [
    "print([salary * 2 if salary < 3000 else salary * 0 for salary in salaries])"
   ]
  },
  {
   "cell_type": "code",
   "execution_count": 8,
   "metadata": {},
   "outputs": [
    {
     "name": "stdout",
     "output_type": "stream",
     "text": [
      "[2400.0, 4800.0, 720.0, 960.0, 1200.0]\n"
     ]
    }
   ],
   "source": [
    "print([newSalary(salary * 2) if salary < 3000 else newSalary(salary * 0.2) for salary in salaries])\n"
   ]
  },
  {
   "cell_type": "code",
   "execution_count": 9,
   "metadata": {},
   "outputs": [
    {
     "name": "stdout",
     "output_type": "stream",
     "text": [
      "<generator object <genexpr> at 0x00000257D2B1EB90>\n",
      "['john', 'MARK', 'venessa', 'MARIAM']\n"
     ]
    }
   ],
   "source": [
    "students = [\"John\", \"Mark\", \"Venessa\", \"Mariam\"]\n",
    "students_no = [\"John\", \"Venessa\"]\n",
    "\n",
    "\n",
    "print(student.lower() if student in students_no else student.upper() for student in students)\n",
    "print([student.upper() if student not in students_no else student.lower() for student in students])\n"
   ]
  },
  {
   "cell_type": "code",
   "execution_count": 10,
   "metadata": {},
   "outputs": [
    {
     "name": "stdout",
     "output_type": "stream",
     "text": [
      "{'a': 1, 'b': 4, 'c': 9, 'd': 16}\n",
      "{'A': 1, 'B': 2, 'C': 3, 'D': 4}\n",
      "{'A': 2, 'B': 4, 'C': 6, 'D': 8}\n"
     ]
    }
   ],
   "source": [
    "dictionary = {'a': 1,\n",
    "              'b': 2,\n",
    "              'c': 3,\n",
    "              'd': 4}\n",
    "\n",
    "\n",
    "\n",
    "print({k: v ** 2 for (k, v) in dictionary.items()})\n",
    "print({k.upper(): v for (k, v) in dictionary.items()})\n",
    "print({k.upper(): v*2 for (k, v) in dictionary.items()})"
   ]
  }
 ],
 "metadata": {
  "kernelspec": {
   "display_name": "Python 3.10.5 64-bit",
   "language": "python",
   "name": "python3"
  },
  "language_info": {
   "codemirror_mode": {
    "name": "ipython",
    "version": 3
   },
   "file_extension": ".py",
   "mimetype": "text/x-python",
   "name": "python",
   "nbconvert_exporter": "python",
   "pygments_lexer": "ipython3",
   "version": "3.10.5"
  },
  "orig_nbformat": 4,
  "vscode": {
   "interpreter": {
    "hash": "5026d2d6e7aaaaba093def813beadff083d8733e4a511af01735cbabd156995d"
   }
  }
 },
 "nbformat": 4,
 "nbformat_minor": 2
}
