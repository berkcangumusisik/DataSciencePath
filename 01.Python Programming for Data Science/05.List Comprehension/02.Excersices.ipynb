{
 "cells": [
  {
   "cell_type": "markdown",
   "metadata": {},
   "source": [
    "Amaç: çift sayıların karesi alınarak bir sözlüğe eklenmek istemektedir. Key'ler orjinal değerler value'lar ise değiştirilmiş değerler olacak."
   ]
  },
  {
   "cell_type": "code",
   "execution_count": 1,
   "metadata": {},
   "outputs": [
    {
     "name": "stdout",
     "output_type": "stream",
     "text": [
      "{0: 0, 2: 4, 4: 16, 6: 36, 8: 64}\n",
      "{0: 0, 2: 4, 4: 16, 6: 36, 8: 64}\n"
     ]
    }
   ],
   "source": [
    "numbers = range(10)\n",
    "newDict = {}\n",
    "for n in numbers:\n",
    "    if n % 2 == 0:\n",
    "        newDict[n] = n ** 2\n",
    "print(newDict)\n",
    "\n",
    "print({n: n ** 2 for n in numbers if n % 2 == 0})"
   ]
  },
  {
   "cell_type": "markdown",
   "metadata": {},
   "source": [
    "Bir Veri Setindeki Değişken İsimlerini Değiştirmek\n",
    "\n",
    "\n",
    " before:\n",
    " ['total', 'speeding', 'alcohol', 'not_distracted', 'no_previous', 'ins_premium', 'ins_losses', 'abbrev']\n",
    "\n",
    " after:\n",
    " ['TOTAL', 'SPEEDING', 'ALCOHOL', 'NOT_DISTRACTED', 'NO_PREVIOUS', 'INS_PREMIUM', 'INS_LOSSES', 'ABBREV']"
   ]
  },
  {
   "cell_type": "code",
   "execution_count": 2,
   "metadata": {},
   "outputs": [
    {
     "name": "stdout",
     "output_type": "stream",
     "text": [
      "    total  speeding  alcohol  not_distracted  no_previous  ins_premium  \\\n",
      "0    18.8     7.332    5.640          18.048       15.040       784.55   \n",
      "1    18.1     7.421    4.525          16.290       17.014      1053.48   \n",
      "2    18.6     6.510    5.208          15.624       17.856       899.47   \n",
      "3    22.4     4.032    5.824          21.056       21.280       827.34   \n",
      "4    12.0     4.200    3.360          10.920       10.680       878.41   \n",
      "5    13.6     5.032    3.808          10.744       12.920       835.50   \n",
      "6    10.8     4.968    3.888           9.396        8.856      1068.73   \n",
      "7    16.2     6.156    4.860          14.094       16.038      1137.87   \n",
      "8     5.9     2.006    1.593           5.900        5.900      1273.89   \n",
      "9    17.9     3.759    5.191          16.468       16.826      1160.13   \n",
      "10   15.6     2.964    3.900          14.820       14.508       913.15   \n",
      "11   17.5     9.450    7.175          14.350       15.225       861.18   \n",
      "12   15.3     5.508    4.437          13.005       14.994       641.96   \n",
      "13   12.8     4.608    4.352          12.032       12.288       803.11   \n",
      "14   14.5     3.625    4.205          13.775       13.775       710.46   \n",
      "15   15.7     2.669    3.925          15.229       13.659       649.06   \n",
      "16   17.8     4.806    4.272          13.706       15.130       780.45   \n",
      "17   21.4     4.066    4.922          16.692       16.264       872.51   \n",
      "18   20.5     7.175    6.765          14.965       20.090      1281.55   \n",
      "19   15.1     5.738    4.530          13.137       12.684       661.88   \n",
      "20   12.5     4.250    4.000           8.875       12.375      1048.78   \n",
      "21    8.2     1.886    2.870           7.134        6.560      1011.14   \n",
      "22   14.1     3.384    3.948          13.395       10.857      1110.61   \n",
      "23    9.6     2.208    2.784           8.448        8.448       777.18   \n",
      "24   17.6     2.640    5.456           1.760       17.600       896.07   \n",
      "25   16.1     6.923    5.474          14.812       13.524       790.32   \n",
      "26   21.4     8.346    9.416          17.976       18.190       816.21   \n",
      "27   14.9     1.937    5.215          13.857       13.410       732.28   \n",
      "28   14.7     5.439    4.704          13.965       14.553      1029.87   \n",
      "29   11.6     4.060    3.480          10.092        9.628       746.54   \n",
      "30   11.2     1.792    3.136           9.632        8.736      1301.52   \n",
      "31   18.4     3.496    4.968          12.328       18.032       869.85   \n",
      "32   12.3     3.936    3.567          10.824        9.840      1234.31   \n",
      "33   16.8     6.552    5.208          15.792       13.608       708.24   \n",
      "34   23.9     5.497   10.038          23.661       20.554       688.75   \n",
      "35   14.1     3.948    4.794          13.959       11.562       697.73   \n",
      "36   19.9     6.368    5.771          18.308       18.706       881.51   \n",
      "37   12.8     4.224    3.328           8.576       11.520       804.71   \n",
      "38   18.2     9.100    5.642          17.472       16.016       905.99   \n",
      "39   11.1     3.774    4.218          10.212        8.769      1148.99   \n",
      "40   23.9     9.082    9.799          22.944       19.359       858.97   \n",
      "41   19.4     6.014    6.402          19.012       16.684       669.31   \n",
      "42   19.5     4.095    5.655          15.990       15.795       767.91   \n",
      "43   19.4     7.760    7.372          17.654       16.878      1004.75   \n",
      "44   11.3     4.859    1.808           9.944       10.848       809.38   \n",
      "45   13.6     4.080    4.080          13.056       12.920       716.20   \n",
      "46   12.7     2.413    3.429          11.049       11.176       768.95   \n",
      "47   10.6     4.452    3.498           8.692        9.116       890.03   \n",
      "48   23.8     8.092    6.664          23.086       20.706       992.61   \n",
      "49   13.8     4.968    4.554           5.382       11.592       670.31   \n",
      "50   17.4     7.308    5.568          14.094       15.660       791.14   \n",
      "\n",
      "    ins_losses abbrev  \n",
      "0       145.08     AL  \n",
      "1       133.93     AK  \n",
      "2       110.35     AZ  \n",
      "3       142.39     AR  \n",
      "4       165.63     CA  \n",
      "5       139.91     CO  \n",
      "6       167.02     CT  \n",
      "7       151.48     DE  \n",
      "8       136.05     DC  \n",
      "9       144.18     FL  \n",
      "10      142.80     GA  \n",
      "11      120.92     HI  \n",
      "12       82.75     ID  \n",
      "13      139.15     IL  \n",
      "14      108.92     IN  \n",
      "15      114.47     IA  \n",
      "16      133.80     KS  \n",
      "17      137.13     KY  \n",
      "18      194.78     LA  \n",
      "19       96.57     ME  \n",
      "20      192.70     MD  \n",
      "21      135.63     MA  \n",
      "22      152.26     MI  \n",
      "23      133.35     MN  \n",
      "24      155.77     MS  \n",
      "25      144.45     MO  \n",
      "26       85.15     MT  \n",
      "27      114.82     NE  \n",
      "28      138.71     NV  \n",
      "29      120.21     NH  \n",
      "30      159.85     NJ  \n",
      "31      120.75     NM  \n",
      "32      150.01     NY  \n",
      "33      127.82     NC  \n",
      "34      109.72     ND  \n",
      "35      133.52     OH  \n",
      "36      178.86     OK  \n",
      "37      104.61     OR  \n",
      "38      153.86     PA  \n",
      "39      148.58     RI  \n",
      "40      116.29     SC  \n",
      "41       96.87     SD  \n",
      "42      155.57     TN  \n",
      "43      156.83     TX  \n",
      "44      109.48     UT  \n",
      "45      109.61     VT  \n",
      "46      153.72     VA  \n",
      "47      111.62     WA  \n",
      "48      152.56     WV  \n",
      "49      106.62     WI  \n",
      "50      122.04     WY  \n",
      "TOTAL\n",
      "SPEEDING\n",
      "ALCOHOL\n",
      "NOT_DISTRACTED\n",
      "NO_PREVIOUS\n",
      "INS_PREMIUM\n",
      "INS_LOSSES\n",
      "ABBREV\n"
     ]
    }
   ],
   "source": [
    "import seaborn as sns\n",
    "df = sns.load_dataset(\"car_crashes\")\n",
    "print(df)\n",
    "\n",
    "for col in df.columns:\n",
    "    print(col.upper())"
   ]
  },
  {
   "cell_type": "code",
   "execution_count": 4,
   "metadata": {},
   "outputs": [
    {
     "name": "stdout",
     "output_type": "stream",
     "text": [
      "Index(['TOTAL', 'SPEEDING', 'ALCOHOL', 'NOT_DISTRACTED', 'NO_PREVIOUS',\n",
      "       'INS_PREMIUM', 'INS_LOSSES', 'ABBREV'],\n",
      "      dtype='object')\n"
     ]
    }
   ],
   "source": [
    "A = []\n",
    "\n",
    "for col in df.columns:\n",
    "    A.append(col.upper())\n",
    "df.columns = A\n",
    "\n",
    "df = sns.load_dataset(\"car_crashes\")\n",
    "\n",
    "df.columns = [col.upper() for col in df.columns]\n",
    "\n",
    "print(df.columns)"
   ]
  },
  {
   "cell_type": "markdown",
   "metadata": {},
   "source": [
    "İsminde \"INS\" olan değişkenlerin başına FLAG diğerlerine NO_FLAG eklemek istiyoruz.\n",
    "\n",
    "before:\n",
    "['TOTAL',\n",
    "'SPEEDING',\n",
    "'ALCOHOL',\n",
    "'NOT_DISTRACTED',\n",
    "'NO_PREVIOUS',\n",
    "'INS_PREMIUM',\n",
    "'INS_LOSSES',\n",
    "'ABBREV']\n",
    "\n",
    "after:\n",
    "['NO_FLAG_TOTAL',\n",
    " 'NO_FLAG_SPEEDING',\n",
    " 'NO_FLAG_ALCOHOL',\n",
    " 'NO_FLAG_NOT_DISTRACTED',\n",
    " 'NO_FLAG_NO_PREVIOUS',\n",
    " 'FLAG_INS_PREMIUM',\n",
    " 'FLAG_INS_LOSSES',\n",
    " 'NO_FLAG_ABBREV']"
   ]
  },
  {
   "cell_type": "code",
   "execution_count": 6,
   "metadata": {},
   "outputs": [
    {
     "name": "stdout",
     "output_type": "stream",
     "text": [
      "['FLAG_INS_PREMIUM', 'FLAG_INS_LOSSES']\n"
     ]
    }
   ],
   "source": [
    "print([col for col in df.columns if \"INS\" in col])"
   ]
  },
  {
   "cell_type": "code",
   "execution_count": 8,
   "metadata": {},
   "outputs": [
    {
     "name": "stdout",
     "output_type": "stream",
     "text": [
      "['FLAG_FLAG_FLAG_INS_PREMIUM', 'FLAG_FLAG_FLAG_INS_LOSSES']\n"
     ]
    }
   ],
   "source": [
    "print([\"FLAG_\" + col for col in df.columns if \"INS\" in col])\n"
   ]
  },
  {
   "cell_type": "code",
   "execution_count": 9,
   "metadata": {},
   "outputs": [
    {
     "name": "stdout",
     "output_type": "stream",
     "text": [
      "['NO_FLAG_NO_FLAG_NO_FLAG_TOTAL', 'NO_FLAG_NO_FLAG_NO_FLAG_SPEEDING', 'NO_FLAG_NO_FLAG_NO_FLAG_ALCOHOL', 'NO_FLAG_NO_FLAG_NO_FLAG_NOT_DISTRACTED', 'NO_FLAG_NO_FLAG_NO_FLAG_NO_PREVIOUS', 'FLAG_FLAG_FLAG_INS_PREMIUM', 'FLAG_FLAG_FLAG_INS_LOSSES', 'NO_FLAG_NO_FLAG_NO_FLAG_ABBREV']\n"
     ]
    }
   ],
   "source": [
    "print([\"FLAG_\" + col if \"INS\" in col else \"NO_FLAG_\" + col for col in df.columns])"
   ]
  },
  {
   "cell_type": "code",
   "execution_count": 10,
   "metadata": {},
   "outputs": [
    {
     "name": "stdout",
     "output_type": "stream",
     "text": [
      "Index(['NO_FLAG_NO_FLAG_NO_FLAG_TOTAL', 'NO_FLAG_NO_FLAG_NO_FLAG_SPEEDING',\n",
      "       'NO_FLAG_NO_FLAG_NO_FLAG_ALCOHOL',\n",
      "       'NO_FLAG_NO_FLAG_NO_FLAG_NOT_DISTRACTED',\n",
      "       'NO_FLAG_NO_FLAG_NO_FLAG_NO_PREVIOUS', 'FLAG_FLAG_FLAG_INS_PREMIUM',\n",
      "       'FLAG_FLAG_FLAG_INS_LOSSES', 'NO_FLAG_NO_FLAG_NO_FLAG_ABBREV'],\n",
      "      dtype='object')\n"
     ]
    }
   ],
   "source": [
    "df.columns = [\"FLAG_\" + col if \"INS\" in col else \"NO_FLAG_\" + col for col in df.columns]\n",
    "print(df.columns)"
   ]
  },
  {
   "cell_type": "markdown",
   "metadata": {},
   "source": [
    "Amaç key'i string, value'su aşağıdaki gibi bir liste olan sözlük oluşturmak.\n",
    "Sadece sayısal değişkenler için yapmak istiyoruz.\n",
    "\n",
    "Output:\n",
    "{'total': ['mean', 'min', 'max', 'var'],\n",
    "\n",
    " 'speeding': ['mean', 'min', 'max', 'var'],\n",
    "\n",
    " 'alcohol': ['mean', 'min', 'max', 'var'],\n",
    "\n",
    " 'not_distracted': ['mean', 'min', 'max', 'var'],\n",
    "\n",
    " 'no_previous': ['mean', 'min', 'max', 'var'],\n",
    "\n",
    " 'ins_premium': ['mean', 'min', 'max', 'var'],\n",
    " \n",
    " 'ins_losses': ['mean', 'min', 'max', 'var']}"
   ]
  },
  {
   "cell_type": "code",
   "execution_count": 11,
   "metadata": {},
   "outputs": [
    {
     "name": "stdout",
     "output_type": "stream",
     "text": [
      "Index(['total', 'speeding', 'alcohol', 'not_distracted', 'no_previous',\n",
      "       'ins_premium', 'ins_losses', 'abbrev'],\n",
      "      dtype='object')\n"
     ]
    }
   ],
   "source": [
    "df = sns.load_dataset(\"car_crashes\")\n",
    "print(df.columns)\n",
    "\n",
    "num_cols = [col for col in df.columns if df[col].dtype != \"O\"]\n",
    "soz = {}\n",
    "agg_list = [\"mean\", \"min\", \"max\", \"sum\"]\n",
    "\n",
    "for col in num_cols:\n",
    "    soz[col] = agg_list"
   ]
  },
  {
   "cell_type": "code",
   "execution_count": 12,
   "metadata": {},
   "outputs": [
    {
     "name": "stdout",
     "output_type": "stream",
     "text": [
      "    total  speeding  alcohol  not_distracted  no_previous  ins_premium  \\\n",
      "0    18.8     7.332    5.640          18.048       15.040       784.55   \n",
      "1    18.1     7.421    4.525          16.290       17.014      1053.48   \n",
      "2    18.6     6.510    5.208          15.624       17.856       899.47   \n",
      "3    22.4     4.032    5.824          21.056       21.280       827.34   \n",
      "4    12.0     4.200    3.360          10.920       10.680       878.41   \n",
      "5    13.6     5.032    3.808          10.744       12.920       835.50   \n",
      "6    10.8     4.968    3.888           9.396        8.856      1068.73   \n",
      "7    16.2     6.156    4.860          14.094       16.038      1137.87   \n",
      "8     5.9     2.006    1.593           5.900        5.900      1273.89   \n",
      "9    17.9     3.759    5.191          16.468       16.826      1160.13   \n",
      "10   15.6     2.964    3.900          14.820       14.508       913.15   \n",
      "11   17.5     9.450    7.175          14.350       15.225       861.18   \n",
      "12   15.3     5.508    4.437          13.005       14.994       641.96   \n",
      "13   12.8     4.608    4.352          12.032       12.288       803.11   \n",
      "14   14.5     3.625    4.205          13.775       13.775       710.46   \n",
      "15   15.7     2.669    3.925          15.229       13.659       649.06   \n",
      "16   17.8     4.806    4.272          13.706       15.130       780.45   \n",
      "17   21.4     4.066    4.922          16.692       16.264       872.51   \n",
      "18   20.5     7.175    6.765          14.965       20.090      1281.55   \n",
      "19   15.1     5.738    4.530          13.137       12.684       661.88   \n",
      "20   12.5     4.250    4.000           8.875       12.375      1048.78   \n",
      "21    8.2     1.886    2.870           7.134        6.560      1011.14   \n",
      "22   14.1     3.384    3.948          13.395       10.857      1110.61   \n",
      "23    9.6     2.208    2.784           8.448        8.448       777.18   \n",
      "24   17.6     2.640    5.456           1.760       17.600       896.07   \n",
      "25   16.1     6.923    5.474          14.812       13.524       790.32   \n",
      "26   21.4     8.346    9.416          17.976       18.190       816.21   \n",
      "27   14.9     1.937    5.215          13.857       13.410       732.28   \n",
      "28   14.7     5.439    4.704          13.965       14.553      1029.87   \n",
      "29   11.6     4.060    3.480          10.092        9.628       746.54   \n",
      "30   11.2     1.792    3.136           9.632        8.736      1301.52   \n",
      "31   18.4     3.496    4.968          12.328       18.032       869.85   \n",
      "32   12.3     3.936    3.567          10.824        9.840      1234.31   \n",
      "33   16.8     6.552    5.208          15.792       13.608       708.24   \n",
      "34   23.9     5.497   10.038          23.661       20.554       688.75   \n",
      "35   14.1     3.948    4.794          13.959       11.562       697.73   \n",
      "36   19.9     6.368    5.771          18.308       18.706       881.51   \n",
      "37   12.8     4.224    3.328           8.576       11.520       804.71   \n",
      "38   18.2     9.100    5.642          17.472       16.016       905.99   \n",
      "39   11.1     3.774    4.218          10.212        8.769      1148.99   \n",
      "40   23.9     9.082    9.799          22.944       19.359       858.97   \n",
      "41   19.4     6.014    6.402          19.012       16.684       669.31   \n",
      "42   19.5     4.095    5.655          15.990       15.795       767.91   \n",
      "43   19.4     7.760    7.372          17.654       16.878      1004.75   \n",
      "44   11.3     4.859    1.808           9.944       10.848       809.38   \n",
      "45   13.6     4.080    4.080          13.056       12.920       716.20   \n",
      "46   12.7     2.413    3.429          11.049       11.176       768.95   \n",
      "47   10.6     4.452    3.498           8.692        9.116       890.03   \n",
      "48   23.8     8.092    6.664          23.086       20.706       992.61   \n",
      "49   13.8     4.968    4.554           5.382       11.592       670.31   \n",
      "50   17.4     7.308    5.568          14.094       15.660       791.14   \n",
      "\n",
      "    ins_losses abbrev  \n",
      "0       145.08     AL  \n",
      "1       133.93     AK  \n",
      "2       110.35     AZ  \n",
      "3       142.39     AR  \n",
      "4       165.63     CA  \n",
      "5       139.91     CO  \n",
      "6       167.02     CT  \n",
      "7       151.48     DE  \n",
      "8       136.05     DC  \n",
      "9       144.18     FL  \n",
      "10      142.80     GA  \n",
      "11      120.92     HI  \n",
      "12       82.75     ID  \n",
      "13      139.15     IL  \n",
      "14      108.92     IN  \n",
      "15      114.47     IA  \n",
      "16      133.80     KS  \n",
      "17      137.13     KY  \n",
      "18      194.78     LA  \n",
      "19       96.57     ME  \n",
      "20      192.70     MD  \n",
      "21      135.63     MA  \n",
      "22      152.26     MI  \n",
      "23      133.35     MN  \n",
      "24      155.77     MS  \n",
      "25      144.45     MO  \n",
      "26       85.15     MT  \n",
      "27      114.82     NE  \n",
      "28      138.71     NV  \n",
      "29      120.21     NH  \n",
      "30      159.85     NJ  \n",
      "31      120.75     NM  \n",
      "32      150.01     NY  \n",
      "33      127.82     NC  \n",
      "34      109.72     ND  \n",
      "35      133.52     OH  \n",
      "36      178.86     OK  \n",
      "37      104.61     OR  \n",
      "38      153.86     PA  \n",
      "39      148.58     RI  \n",
      "40      116.29     SC  \n",
      "41       96.87     SD  \n",
      "42      155.57     TN  \n",
      "43      156.83     TX  \n",
      "44      109.48     UT  \n",
      "45      109.61     VT  \n",
      "46      153.72     VA  \n",
      "47      111.62     WA  \n",
      "48      152.56     WV  \n",
      "49      106.62     WI  \n",
      "50      122.04     WY  \n"
     ]
    }
   ],
   "source": [
    "# kısa yol\n",
    "new_dict = {col: agg_list for col in num_cols}\n",
    "\n",
    "df[num_cols].head()\n",
    "\n",
    "df[num_cols].agg(new_dict)\n",
    "print(df)"
   ]
  }
 ],
 "metadata": {
  "kernelspec": {
   "display_name": "Python 3.10.5 64-bit",
   "language": "python",
   "name": "python3"
  },
  "language_info": {
   "codemirror_mode": {
    "name": "ipython",
    "version": 3
   },
   "file_extension": ".py",
   "mimetype": "text/x-python",
   "name": "python",
   "nbconvert_exporter": "python",
   "pygments_lexer": "ipython3",
   "version": "3.10.5"
  },
  "orig_nbformat": 4,
  "vscode": {
   "interpreter": {
    "hash": "5026d2d6e7aaaaba093def813beadff083d8733e4a511af01735cbabd156995d"
   }
  }
 },
 "nbformat": 4,
 "nbformat_minor": 2
}
