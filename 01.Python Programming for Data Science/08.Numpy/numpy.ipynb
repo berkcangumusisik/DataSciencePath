{
 "cells": [
  {
   "cell_type": "markdown",
   "metadata": {},
   "source": [
    "* Numpy bilimsel hesaplamalar, çok boyutlu arraylar ve matrisler üzerinde yüksek derecede çalışma imkanı sağlar.\n",
    "* Numpy kütüphanesinin listelerden farkı verimli veri saklama ve vektörel işlemlerin yapılmasıdır.\n",
    "* Numpy kütüphanesini öncelikli olarak import etmemiz gerekir.\n",
    "* Daha az çabayla daha çok iş yapmayı sağlar"
   ]
  },
  {
   "cell_type": "code",
   "execution_count": 1,
   "metadata": {},
   "outputs": [],
   "source": [
    "import numpy as np  # Numpy kütüphanesini import ettikten sonra as ile kullanacağımız isimleri belirledik.\n"
   ]
  },
  {
   "cell_type": "code",
   "execution_count": 2,
   "metadata": {},
   "outputs": [
    {
     "name": "stdout",
     "output_type": "stream",
     "text": [
      "[2, 6, 12, 20]\n"
     ]
    }
   ],
   "source": [
    "# Klasik Python\n",
    "a = [1, 2, 3, 4]\n",
    "b = [2, 3, 4, 5]\n",
    "ab = []\n",
    "\n",
    "for i in range(0, len(a)):\n",
    "    ab.append(a[i] * b[i])\n",
    "print(ab)"
   ]
  },
  {
   "cell_type": "code",
   "execution_count": 3,
   "metadata": {},
   "outputs": [
    {
     "data": {
      "text/plain": [
       "array([ 2,  6, 12, 20])"
      ]
     },
     "execution_count": 3,
     "metadata": {},
     "output_type": "execute_result"
    }
   ],
   "source": [
    "#Numpy\n",
    "a = np.array([1, 2, 3, 4])\n",
    "b = np.array([2, 3, 4, 5])\n",
    "a * b"
   ]
  },
  {
   "cell_type": "markdown",
   "metadata": {},
   "source": [
    "### Numpy Array'i Oluşturma (Creating Numpy Array)"
   ]
  },
  {
   "cell_type": "markdown",
   "metadata": {},
   "source": [
    "Numpy arrayleri oluşturmak için np.array() fonksiyonunu kullanabiliriz."
   ]
  },
  {
   "cell_type": "code",
   "execution_count": 4,
   "metadata": {},
   "outputs": [
    {
     "name": "stdout",
     "output_type": "stream",
     "text": [
      "[1 2 3 4 5]\n"
     ]
    }
   ],
   "source": [
    "print(np.array([1, 2, 3, 4, 5]))\n"
   ]
  },
  {
   "cell_type": "code",
   "execution_count": 5,
   "metadata": {},
   "outputs": [
    {
     "name": "stdout",
     "output_type": "stream",
     "text": [
      "<class 'numpy.ndarray'>\n"
     ]
    }
   ],
   "source": [
    "print(type(np.array([1, 2, 3, 4, 5])))"
   ]
  },
  {
   "cell_type": "code",
   "execution_count": 6,
   "metadata": {},
   "outputs": [
    {
     "name": "stdout",
     "output_type": "stream",
     "text": [
      "[0 0 0 0 0 0 0 0 0 0]\n"
     ]
    }
   ],
   "source": [
    "print(np.zeros(10, dtype=int))  # np.zeros() fonksiyonu ile girilen 0 kadar 0 arrayi oluşturur.\n"
   ]
  },
  {
   "cell_type": "code",
   "execution_count": 7,
   "metadata": {},
   "outputs": [
    {
     "name": "stdout",
     "output_type": "stream",
     "text": [
      "[9 3 2 0 0 7 1 6 9 0]\n"
     ]
    }
   ],
   "source": [
    "print(np.random.randint(0, 10, 10))\n",
    "# np.random.randint() fonksiyonu ile başlangıç değeri ile bitiş değeri arasında istenilen adet kadar rasgele sayı oluşturur.\n"
   ]
  },
  {
   "cell_type": "code",
   "execution_count": 8,
   "metadata": {},
   "outputs": [
    {
     "data": {
      "text/plain": [
       "array([[11.44654388, 12.3944752 ,  6.70037602,  7.71066914],\n",
       "       [10.89778683, 12.96267574,  7.13356894, 10.24734357],\n",
       "       [13.43981016, 13.46801469,  8.29835981,  7.69770595]])"
      ]
     },
     "execution_count": 8,
     "metadata": {},
     "output_type": "execute_result"
    }
   ],
   "source": [
    "np.random.normal(10, 4, (3, 4))\n",
    "# np.random.normal() fonksiyonu ile istenilen değerlerden oluşan normal veri oluşturur."
   ]
  },
  {
   "cell_type": "markdown",
   "metadata": {},
   "source": [
    "### Numpy Array Özellikleri\n",
    "- Numpy arraylerinin özelliklerini öğrenmek için np.info() fonksiyonunu kullanabiliriz.\n",
    "- ndim: boyut sayısı\n",
    "- shape: boyut bilgisi\n",
    "- size: toplam eleman sayısı\n",
    "- dtype: array veri tipi\n"
   ]
  },
  {
   "cell_type": "code",
   "execution_count": 9,
   "metadata": {},
   "outputs": [
    {
     "name": "stdout",
     "output_type": "stream",
     "text": [
      "1\n",
      "(5,)\n",
      "5\n",
      "int32\n"
     ]
    }
   ],
   "source": [
    "d = np.random.randint(10, size=5)\n",
    "print(d.ndim)\n",
    "print(d.shape)\n",
    "print(d.size)\n",
    "print(d.dtype)"
   ]
  },
  {
   "cell_type": "markdown",
   "metadata": {},
   "source": [
    "### Yeniden Şekillendirme (Reshaping)"
   ]
  },
  {
   "cell_type": "code",
   "execution_count": 10,
   "metadata": {},
   "outputs": [
    {
     "name": "stdout",
     "output_type": "stream",
     "text": [
      "[2 8 1 3 9 5 9 3 7]\n",
      "[[2 4 6]\n",
      " [9 5 7]\n",
      " [9 3 4]]\n"
     ]
    }
   ],
   "source": [
    "print(np.random.randint(1, 10, size=9))\n",
    "print(np.random.randint(1, 10, size=9).reshape(3, 3))"
   ]
  },
  {
   "cell_type": "code",
   "execution_count": 11,
   "metadata": {},
   "outputs": [
    {
     "name": "stdout",
     "output_type": "stream",
     "text": [
      "[[3 8 8]\n",
      " [6 7 1]\n",
      " [7 4 6]]\n",
      "[3 8 8 6 7 1 7 4 6]\n"
     ]
    }
   ],
   "source": [
    "ar = np.random.randint(1, 10, size=9)\n",
    "print(ar.reshape(3, 3))\n",
    "print(ar)"
   ]
  },
  {
   "cell_type": "markdown",
   "metadata": {},
   "source": [
    "reshape() fonksiyonu ile array'in boyutlarını değiştirebiliriz.\n"
   ]
  },
  {
   "cell_type": "code",
   "execution_count": 12,
   "metadata": {},
   "outputs": [
    {
     "name": "stdout",
     "output_type": "stream",
     "text": [
      "2\n",
      "[2 7 0 7 5]\n"
     ]
    }
   ],
   "source": [
    "x = np.random.randint(10, size=10)\n",
    "print(x[0])\n",
    "print(x[0:5])"
   ]
  },
  {
   "cell_type": "code",
   "execution_count": 13,
   "metadata": {},
   "outputs": [
    {
     "name": "stdout",
     "output_type": "stream",
     "text": [
      "[999   7   0   7   5   6   8   5   7   9]\n"
     ]
    }
   ],
   "source": [
    "x[0] = 999\n",
    "print(x)"
   ]
  },
  {
   "cell_type": "code",
   "execution_count": 14,
   "metadata": {},
   "outputs": [
    {
     "name": "stdout",
     "output_type": "stream",
     "text": [
      "[[4 2 0 8 1]\n",
      " [5 3 1 3 0]\n",
      " [9 2 0 4 5]]\n"
     ]
    }
   ],
   "source": [
    "m = np.random.randint(10, size=(3, 5))\n",
    "print(m)"
   ]
  },
  {
   "cell_type": "code",
   "execution_count": 15,
   "metadata": {},
   "outputs": [
    {
     "name": "stdout",
     "output_type": "stream",
     "text": [
      "4\n"
     ]
    }
   ],
   "source": [
    "print(m[0, 0])"
   ]
  },
  {
   "cell_type": "code",
   "execution_count": 16,
   "metadata": {},
   "outputs": [
    {
     "name": "stdout",
     "output_type": "stream",
     "text": [
      "3\n"
     ]
    }
   ],
   "source": [
    "print(m[1, 1])"
   ]
  },
  {
   "cell_type": "code",
   "execution_count": 17,
   "metadata": {},
   "outputs": [
    {
     "name": "stdout",
     "output_type": "stream",
     "text": [
      "[[  4   2   0   8   1]\n",
      " [  5   3   1   3   0]\n",
      " [  9   2   0 999   5]]\n"
     ]
    }
   ],
   "source": [
    "m[2,3] = 999\n",
    "print(m)"
   ]
  },
  {
   "cell_type": "code",
   "execution_count": 18,
   "metadata": {},
   "outputs": [
    {
     "name": "stdout",
     "output_type": "stream",
     "text": [
      "[[4 2 0 8 1]\n",
      " [5 3 1 3 0]\n",
      " [9 2 0 2 5]]\n"
     ]
    }
   ],
   "source": [
    "m[2, 3] = 2.9\n",
    "print(m)"
   ]
  },
  {
   "cell_type": "code",
   "execution_count": 19,
   "metadata": {},
   "outputs": [
    {
     "name": "stdout",
     "output_type": "stream",
     "text": [
      "[]\n",
      "[[5 3 1 3 0]\n",
      " [9 2 0 2 5]]\n",
      "[[4 2 0]\n",
      " [5 3 1]]\n"
     ]
    }
   ],
   "source": [
    "print(m[:0])\n",
    "print(m[1:])\n",
    "print(m[0:2, 0:3])"
   ]
  },
  {
   "cell_type": "markdown",
   "metadata": {},
   "source": [
    "#### Fancy Index"
   ]
  },
  {
   "cell_type": "code",
   "execution_count": 20,
   "metadata": {},
   "outputs": [
    {
     "name": "stdout",
     "output_type": "stream",
     "text": [
      "3\n"
     ]
    }
   ],
   "source": [
    "v = np.arange(0, 30, 3)  # arange() fonksiyounu 3 parametre alır. arange(start, stop, step)\n",
    "\n",
    "print(v[1])"
   ]
  },
  {
   "cell_type": "code",
   "execution_count": 21,
   "metadata": {},
   "outputs": [
    {
     "name": "stdout",
     "output_type": "stream",
     "text": [
      "12\n"
     ]
    }
   ],
   "source": [
    "print(v[4])"
   ]
  },
  {
   "cell_type": "code",
   "execution_count": 22,
   "metadata": {},
   "outputs": [
    {
     "name": "stdout",
     "output_type": "stream",
     "text": [
      "[3 6 9]\n"
     ]
    }
   ],
   "source": [
    "catch = [1, 2, 3]\n",
    "print(v[catch])"
   ]
  },
  {
   "cell_type": "markdown",
   "metadata": {},
   "source": [
    "### Numpy Koşullu İşlemler"
   ]
  },
  {
   "cell_type": "code",
   "execution_count": 23,
   "metadata": {},
   "outputs": [
    {
     "name": "stdout",
     "output_type": "stream",
     "text": [
      "Klasik Döngü\n",
      "[1, 2]\n"
     ]
    }
   ],
   "source": [
    "n = np.array([1, 2, 3, 4, 5])\n",
    "\n",
    "# 3'ten küçük olanlarını al\n",
    "# Klasik döngü ile\n",
    "print(\"Klasik Döngü\")\n",
    "ab = []\n",
    "for i in n:\n",
    "    if i < 3:\n",
    "        ab.append(i)\n",
    "print(ab)"
   ]
  },
  {
   "cell_type": "code",
   "execution_count": 24,
   "metadata": {},
   "outputs": [
    {
     "name": "stdout",
     "output_type": "stream",
     "text": [
      "Numpy\n",
      "[1 2]\n"
     ]
    }
   ],
   "source": [
    "# Numpy ile\n",
    "print(\"Numpy\")\n",
    "ab = n[n < 3]\n",
    "print(ab)"
   ]
  },
  {
   "cell_type": "code",
   "execution_count": 25,
   "metadata": {},
   "outputs": [
    {
     "name": "stdout",
     "output_type": "stream",
     "text": [
      "[4 5]\n",
      "[1 2 4 5]\n",
      "[3]\n",
      "[3 4 5]\n"
     ]
    }
   ],
   "source": [
    "\n",
    "print(n[n > 3])\n",
    "print(n[n != 3])\n",
    "print(n[n == 3])\n",
    "print(n[n >= 3])"
   ]
  },
  {
   "cell_type": "markdown",
   "metadata": {},
   "source": [
    "#### Matematiksel İşlemler (Mathematical Operations)\n",
    "\n",
    "Numpy array içerisinde matematiksel işlemler yaparken n bir numpy array ise n * 2 dediğimiz zaman tüm değerleri 2 ile çarpar.\n"
   ]
  },
  {
   "cell_type": "code",
   "execution_count": 26,
   "metadata": {},
   "outputs": [
    {
     "name": "stdout",
     "output_type": "stream",
     "text": [
      "[0.2 0.4 0.6 0.8 1. ]\n",
      "[0.5 1.  1.5 2.  2.5]\n",
      "[ 1  4  9 16 25]\n",
      "[0 1 2 3 4]\n"
     ]
    }
   ],
   "source": [
    "n = np.array([1, 2, 3, 4, 5])\n",
    "print(n / 5)\n",
    "print(n * 5 / 10)\n",
    "print(n ** 2)\n",
    "print(n - 1)"
   ]
  },
  {
   "cell_type": "code",
   "execution_count": 27,
   "metadata": {},
   "outputs": [
    {
     "name": "stdout",
     "output_type": "stream",
     "text": [
      "[0 1 2 3 4]\n",
      "[2 3 4 5 6]\n",
      "3.0\n",
      "1\n",
      "5\n",
      "15\n",
      "2.0\n"
     ]
    }
   ],
   "source": [
    "print(np.subtract(n, 1))  # subtract() fonksiyonu ile girilen değerleri ekiltir.\n",
    "print(np.add(n, 1))  # add() fonksiyonu ile girilen değerleri ekler.\n",
    "print(np.mean(n))  # mean() fonksiyonu ile girilen değerlerin ortalamasını alır.\n",
    "print(np.min(n))  # min() fonksiyonu ile girilen değerlerin en küçüğünü alır.\n",
    "print(np.max(n))  # max() fonksiyonu ile girilen değerlerin en büyüğünü alır.\n",
    "print(np.sum(n))  # sum() fonksiyonu ile girilen değerlerin toplamını alır.\n",
    "print(np.var(n))  # var() fonksiyonu ile girilen değerlerin varyansını alır.\n"
   ]
  },
  {
   "cell_type": "code",
   "execution_count": 28,
   "metadata": {},
   "outputs": [
    {
     "name": "stdout",
     "output_type": "stream",
     "text": [
      "[1.85714286 2.71428571]\n"
     ]
    }
   ],
   "source": [
    "# NumPy ile İki Bilinmeyenli Denklem Çözümü\n",
    "# 5*x0 + x1 = 12\n",
    "# x0 + 3*x1 = 10\n",
    "\n",
    "a = np.array([[5, 1], [1, 3]])\n",
    "b = np.array([12, 10])\n",
    "print(np.linalg.solve(a, b)) # linalg.solve() fonksiyonu ile denklemi çözümler."
   ]
  }
 ],
 "metadata": {
  "kernelspec": {
   "display_name": "Python 3.10.5 64-bit",
   "language": "python",
   "name": "python3"
  },
  "language_info": {
   "codemirror_mode": {
    "name": "ipython",
    "version": 3
   },
   "file_extension": ".py",
   "mimetype": "text/x-python",
   "name": "python",
   "nbconvert_exporter": "python",
   "pygments_lexer": "ipython3",
   "version": "3.10.5"
  },
  "orig_nbformat": 4,
  "vscode": {
   "interpreter": {
    "hash": "5026d2d6e7aaaaba093def813beadff083d8733e4a511af01735cbabd156995d"
   }
  }
 },
 "nbformat": 4,
 "nbformat_minor": 2
}
