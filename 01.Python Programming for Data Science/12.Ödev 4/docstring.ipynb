{
 "cells": [
  {
   "cell_type": "markdown",
   "metadata": {},
   "source": [
    " Görev 1 cat_summary() fonksiyonuna 1 özellik ekleyiniz. Bu özellik argümanla biçimlendirilebilir olsun. Var olan özelliği de argümanla kontrol edilebilir hale getirebilirsiniz.\n"
   ]
  },
  {
   "cell_type": "code",
   "execution_count": null,
   "metadata": {},
   "outputs": [],
   "source": [
    "def check_df(dataframe, head=5, extra_test=False):\n",
    "    print(\"################## Shape ##################\")\n",
    "    print(dataframe.shape)\n",
    "    print(\"################## Types ##################\")\n",
    "    print(dataframe.dtypes)\n",
    "    print(\"################## Head ##################\")\n",
    "    print(dataframe.head(head))\n",
    "    print(\"################## Tail ##################\")\n",
    "    print(dataframe.tail(head))\n",
    "    if extra_test:\n",
    "        print(\"################## NA ##################\")\n",
    "        print(dataframe.isnull().sum())\n",
    "        print(\"################## Quantiles ##################\")\n",
    "        print(dataframe.quantile([0, 0.05, 0.50, 0.95, 0.99, 1]).T)\n",
    "\n",
    "\n",
    "## check_df(df, 5, True)\n"
   ]
  },
  {
   "cell_type": "markdown",
   "metadata": {},
   "source": [
    "check_df(), cat_summary() fonksiyonlarına 4 bilgi (uygunsa) barındıran numpy tarzı docstring\n",
    "yazınız. (task, params, return, example)"
   ]
  },
  {
   "cell_type": "code",
   "execution_count": null,
   "metadata": {},
   "outputs": [],
   "source": [
    "def check_df(dataframe, head=5):\n",
    "    \"\"\"\n",
    "    Checks the dataframe.\n",
    "    Parameters:\n",
    "    ------\n",
    "    dataframe : DataFrame\n",
    "        It can be any dataframe that user prefers.\n",
    "    head : int > 0\n",
    "        Number of rows that wanted to be seen on the output starting from the head of the dataframe.\n",
    "    Returns:\n",
    "    ------\n",
    "    None\n",
    "    \"\"\"\n",
    "    print(\"################## Shape ##################\")\n",
    "    print(dataframe.shape)\n",
    "    print(\"################## Types ##################\")\n",
    "    print(dataframe.dtypes)\n",
    "    print(\"################## Head ##################\")\n",
    "    print(dataframe.head(head))\n",
    "    print(\"################## Tail ##################\")\n",
    "    print(dataframe.tail(head))\n",
    "    print(\"################## NA ##################\")\n",
    "    print(dataframe.isnull().sum())\n",
    "    print(\"################## Quantiles ##################\")\n",
    "    print(dataframe.quantile([0, 0.05, 0.50, 0.95, 0.99, 1]).T)\n",
    "\n",
    "\n",
    "# check_df(df, head=5)\n"
   ]
  },
  {
   "cell_type": "code",
   "execution_count": null,
   "metadata": {},
   "outputs": [],
   "source": [
    "def cat_summary(dataframe, col_name, plot=False):\n",
    "    \"\"\"\n",
    "    Parameters\n",
    "    ----------\n",
    "    dataframe : DataFrame\n",
    "        It can be any dataframe that user prefers.\n",
    "    col_name : str\n",
    "        One of the columns of the dataframe.\n",
    "    plot : bool\n",
    "        Set True if you want to get a plot of the dataframe.\n",
    "    Returns\n",
    "    -------\n",
    "    None\n",
    "    \"\"\"\n",
    "\n",
    "    print(pd.DataFrame({col_name: dataframe[col_name].value_counts(),\n",
    "                        \"Ratio\": 100 * dataframe[col_name].value_counts() / len(dataframe)}))\n",
    "    print(\"####################################\")\n",
    "    if plot:\n",
    "        sns.countplot(x=dataframe[col_name], data=dataframe)\n",
    "        plt.show()\n",
    "\n",
    "# cat_summary(df, \"total\", plot=True)"
   ]
  }
 ],
 "metadata": {
  "kernelspec": {
   "display_name": "Python 3.10.8 64-bit (microsoft store)",
   "language": "python",
   "name": "python3"
  },
  "language_info": {
   "codemirror_mode": {
    "name": "ipython",
    "version": 3
   },
   "file_extension": ".py",
   "mimetype": "text/x-python",
   "name": "python",
   "nbconvert_exporter": "python",
   "pygments_lexer": "ipython3",
   "version": "3.10.8"
  },
  "orig_nbformat": 4,
  "vscode": {
   "interpreter": {
    "hash": "0daec08503c58970086bcc194bf9199038365e35cb0769a7148c99433aa81dcf"
   }
  }
 },
 "nbformat": 4,
 "nbformat_minor": 2
}
