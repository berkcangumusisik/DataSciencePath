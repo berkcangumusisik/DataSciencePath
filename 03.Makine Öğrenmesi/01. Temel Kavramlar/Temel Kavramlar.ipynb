{
 "cells": [
  {
   "cell_type": "markdown",
   "metadata": {},
   "source": [
    "# Makine Öğrenmesine Giriş"
   ]
  },
  {
   "cell_type": "markdown",
   "metadata": {},
   "source": [
    "**Makine Öğrenmesi**\n",
    "\n",
    "Bilgisayarların insanlara benzer şekilde öğrenmesini sağlamak maksadıyla çeşitli algoritma ve tekniklerin geliştirilmesi için çalışan bilimsel çalışma alanıdır."
   ]
  },
  {
   "cell_type": "markdown",
   "metadata": {},
   "source": [
    "## Değişken Türleri\n",
    "- **Sayısal Değişkenler**\n",
    "   - Yaş\n",
    "   - Paket\n",
    "   - Fiyat\n",
    "- **Kategorik Değişkenler (Nominal, Ordinal)**\n",
    "   - Kadın / Erkek (Nominal bir değişken. Sınıflar arası fark yoktur.)\n",
    "   - Eğitim Düzeyi(Ordinal bir değişken. Sınıflar arası fark vardır. Mesela ilköğretim, lise, üniversite, yüksek lisans, doktora)\n",
    "\n",
    "- **Bağımlı Değişken (target, dependent, output, response)**  ilgilendiğimiz problemdeki ana değişken Araba satışı ile ilgileniyorsak bağımlı değişken araba fiyatıdır.\n",
    "\n",
    "    \n",
    "- **Bağımsız Değişken (independent, input, predictor,feature, column, explanotary)**  ilgilendiğimiz problemdeki bağımlı değişkenin oluşturduğu değişken"
   ]
  },
  {
   "cell_type": "markdown",
   "metadata": {},
   "source": [
    "# Öğrenme Türleri\n",
    "<img src=\"https://miro.medium.com/max/1400/1*ks7bEHljYiWi4n8hnkZSuA.png\">"
   ]
  },
  {
   "cell_type": "markdown",
   "metadata": {},
   "source": [
    "**Pekiştirmeli Öğrenme(Reinforcement Learning)**\n",
    "- Bir robot düşünelim. Bir kapalı odaya kapatılarak bu odadan çıkması isteniyor. Başarısız her denemede cezalandırılıyor. Robotun pekiştirme yoluyla odadan çıkmasını sağlatmak örnek verilebilir.\n",
    "- Deneme - yanılmaya dayanır.\n",
    "\n",
    "**Denetimli öğrenme(Supervised Learning)**\n",
    "- Denetimli Öğrenme algoritmasındaki en önemli nokta etiketli bir veri kümesi (labeled dataset) kullanılmasıdır.\n",
    "\n",
    "**Denetimsiz öğrenme(Unsupervised Learning)**\n",
    "- Etiketli bir veri kümesi olmadan veri kümesi kullanılmasıdır."
   ]
  },
  {
   "cell_type": "markdown",
   "metadata": {},
   "source": [
    "# Problem Türleri\n",
    "- Regresyon problemlerinde bağımlı değişken sayısaldır.\n",
    "- Sınıflandırma problemlerinde bağımlı değişken kategorik.\n"
   ]
  },
  {
   "cell_type": "markdown",
   "metadata": {},
   "source": [
    "# Model Başarı Değerlendirme Yöntemleri\n",
    "- Tahminler ne kadar başarılı sorusuna cevap aranır.\n"
   ]
  },
  {
   "cell_type": "markdown",
   "metadata": {},
   "source": [
    "# Model Doğrulama Yöntemleri\n",
    "**Sınama Seti Yöntemi (Holdout Method):**\n",
    "\n",
    "\n",
    "<img src= \"https://miro.medium.com/max/1400/1*IkAdcf1jxa7TcLFvjXoCeg.png\">\n",
    "\n",
    "\n",
    "- Veri seti, eğitim seti ve test seti olarak ikiye bölünür. \n",
    "- Eğitim seti üzerinde modelleme işlemi yani eğitim işlemi (Train) gerçekleştirilir. \n",
    "- Model burada öğrenir. \n",
    "- Daha sonra ilgili model test setinden sorular sorulur ve model test edilir.\n",
    "- Bu şekilde iki setin başarısı değerlendirilir.\n",
    "\n"
   ]
  },
  {
   "cell_type": "markdown",
   "metadata": {},
   "source": [
    "**K-Katlı Çapraz Doğrulama (K-Fold Cross Validation)**\n",
    "- Özellikle veri seti az olduğunda eğitim ve test setinin bölünme işlemlerinde test setinin taşıdığı bilgilerin verimliliği sorgulanabilir. \n",
    "- Bu kapsamda Holdout metoduna alternatif olarak K-Katlı Çapraz Doğrulama Yöntemi Kullanılır. Bu yöntem iki şekilde kullanılabilir:\n",
    "\n",
    "<img src= \"https://miro.medium.com/max/1400/1*YHwJZhzqCakS7ISp1jEu0Q.png\">\n",
    "\n",
    "**Birinci Metot: (Çapraz Doğrulama)**\n",
    "\n",
    "- Orijinal veri seti 5 eşit parçaya bölünür.\n",
    "- 1,2,3,4,5 numaralı parçalardan 1,2,3,4 numaralı ile model kurulur. 5 numaralı parça ile test edilir.\n",
    "- Ardından 1,2,3,5 numaralı parça ile model kurulur ve 4 numaralı parça ile test edilir.\n",
    "- Ardından 1,2,4,5 numara model, 3 numara test, 1,3,4,5 numara model ve 2 numara test ve son olarak 2,3,4,5 numaralı parça model ve 1 numaralı parça test için kullanılır.\n",
    "- Testlerin hatalarının ve başarılarının ortalaması alınır ve Cross Validation hatası bulunur.\n",
    "\n",
    "\n",
    "**İkinci Metot: Özellikle zengin ve bol gözlem değerine sahip bir veri setinde çalışıldığında yaygın bir kullanıma sahiptir.**\n",
    "\n",
    "- Veri Seti, Eğitim ve Test seti olacak şekilde ikiye bölünür.\n",
    "Eğitim setine birinci metottaki Çapraz Doğrulama (Cross Validation) uygulanır.\n",
    "- En son modelin hiç görmediği Test seti ile tekrar test edilir.\n"
   ]
  },
  {
   "cell_type": "markdown",
   "metadata": {},
   "source": [
    "# Yanlılık Varyans Değiş Tokuşu\n",
    "<img src=\"https://rockndata.com/content/images/2021/02/image-5.png\">\n",
    "<br>\n",
    "<img src=\"https://rockndata.com/content/images/2021/02/image-6.png\">"
   ]
  }
 ],
 "metadata": {
  "kernelspec": {
   "display_name": "Python 3.10.8 64-bit (microsoft store)",
   "language": "python",
   "name": "python3"
  },
  "language_info": {
   "name": "python",
   "version": "3.10.8"
  },
  "orig_nbformat": 4,
  "vscode": {
   "interpreter": {
    "hash": "0daec08503c58970086bcc194bf9199038365e35cb0769a7148c99433aa81dcf"
   }
  }
 },
 "nbformat": 4,
 "nbformat_minor": 2
}
