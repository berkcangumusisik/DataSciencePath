{
 "cells": [
  {
   "cell_type": "markdown",
   "metadata": {},
   "source": [
    "# Doğrusal Regresyon (Linear Regression)\n",
    "Amaç bağımlı ve bağımsız değişken/değişkenler arasındaki ilişkiyi doğrusal olarak modellemektir.\n",
    "<img src=\"https://womaneng.com/wp-content/uploads/2018/12/Ekran-Resmi-2018-12-23-21.21.32.png\">\n",
    "<br>"
   ]
  },
  {
   "cell_type": "markdown",
   "metadata": {},
   "source": [
    "## Ağırlıkların Bulunması\n",
    "\n",
    "- Gerçek değerle tahmin edilen değerlerin arasındaki farkların karelerinin toplamını/ortalamasının minimum yapacak b ve w değerlerini bulmaktadır.\n"
   ]
  },
  {
   "cell_type": "markdown",
   "metadata": {},
   "source": [
    "## Regresyon Modellerinin Başarı Değerlendirme (MSE,RMSE,MAE)\n",
    "\n",
    "- MSE: Mean Squared Error\n",
    "  <img src = \"https://miro.medium.com/max/1268/1*k34VPhcncWOmkMw3RQHjdw.png\">\n",
    "\n",
    "<br>\n",
    "- RMSE: Root Mean Squared Error\n",
    "<br>\n",
    " <img src=\"https://editor.analyticsvidhya.com/uploads/69457rmse.png\">\n",
    "\n",
    " <br>\n",
    "- MAE: Mean Absolute Error\n",
    "<br>\n",
    " <img src=\"https://www.googleapis.com/download/storage/v1/b/kaggle-user-content/o/inbox%2F258363%2F7bdebc3b6300dfdd7686c18c131e80f0%2FMAE.png?generation=1594467137394270&alt=media\">\n"
   ]
  },
  {
   "cell_type": "markdown",
   "metadata": {},
   "source": [
    "## Parametrelerin tahmin edilmesi\n",
    "\n",
    "- Analitik Çözüm: Normal Denklemler Yöntemi (En Küçük Kareler)\n",
    "\n",
    "**Simple linear regression**\n",
    "<img src=\"https://miro.medium.com/max/584/1*BDnev89iHmFqbB-HY1MuRQ.png\">\n",
    "\n",
    "**Multiple linear regression**\n",
    "<img src=\"https://veribilimcisi.files.wordpress.com/2017/07/formul_h_teta.png\">\n",
    "\n",
    "<img src=\"https://veribilimcisi.files.wordpress.com/2017/07/x_j_i.png?w=48&zoom=2\"> = i. eğitim verisinin özelliklerinin değeri\n",
    "<br>\n",
    "<img src=\"https://veribilimcisi.files.wordpress.com/2017/07/x_i_.png?w=42&zoom=2\"> = i. eğitim verisinin özellik girdisi\n",
    "<br>\n",
    "m = eğitin verilerinin sayısı\n",
    "<br>\n",
    "n = özelliklerin sayısı\n",
    "\n",
    "- Optimizasyon Çözümü (Gradient Descent)\n",
    "\n",
    "<img src=\"https://miro.medium.com/max/450/1*8Omixzi4P2mnqdsPwIR1GQ.png\">\n"
   ]
  },
  {
   "cell_type": "markdown",
   "metadata": {},
   "source": [
    "## Doğrusal Regresyon İçin Gradient Descent\n",
    "\n",
    "- Gradyanın negatifi olarak tanımlanan 'en dik iniş' yönünde iteratif olarak parametre değerlerini güncelleyerek ilgili fonksiyonun minimum değerini verebilecek parametreleri bulmaktadır.\n",
    "- Cost fonksiyonunu minimize edecek parametreleri bulmak için kullanılır."
   ]
  },
  {
   "cell_type": "markdown",
   "metadata": {},
   "source": [
    "## Basit Doğrusal Regresyon Modeli\n"
   ]
  },
  {
   "cell_type": "code",
   "execution_count": 1,
   "metadata": {},
   "outputs": [
    {
     "data": {
      "text/html": [
       "<div>\n",
       "<style scoped>\n",
       "    .dataframe tbody tr th:only-of-type {\n",
       "        vertical-align: middle;\n",
       "    }\n",
       "\n",
       "    .dataframe tbody tr th {\n",
       "        vertical-align: top;\n",
       "    }\n",
       "\n",
       "    .dataframe thead th {\n",
       "        text-align: right;\n",
       "    }\n",
       "</style>\n",
       "<table border=\"1\" class=\"dataframe\">\n",
       "  <thead>\n",
       "    <tr style=\"text-align: right;\">\n",
       "      <th></th>\n",
       "      <th>TV</th>\n",
       "      <th>radio</th>\n",
       "      <th>newspaper</th>\n",
       "      <th>sales</th>\n",
       "    </tr>\n",
       "  </thead>\n",
       "  <tbody>\n",
       "    <tr>\n",
       "      <th>0</th>\n",
       "      <td>230.10</td>\n",
       "      <td>37.80</td>\n",
       "      <td>69.20</td>\n",
       "      <td>22.10</td>\n",
       "    </tr>\n",
       "    <tr>\n",
       "      <th>1</th>\n",
       "      <td>44.50</td>\n",
       "      <td>39.30</td>\n",
       "      <td>45.10</td>\n",
       "      <td>10.40</td>\n",
       "    </tr>\n",
       "    <tr>\n",
       "      <th>2</th>\n",
       "      <td>17.20</td>\n",
       "      <td>45.90</td>\n",
       "      <td>69.30</td>\n",
       "      <td>9.30</td>\n",
       "    </tr>\n",
       "    <tr>\n",
       "      <th>3</th>\n",
       "      <td>151.50</td>\n",
       "      <td>41.30</td>\n",
       "      <td>58.50</td>\n",
       "      <td>18.50</td>\n",
       "    </tr>\n",
       "    <tr>\n",
       "      <th>4</th>\n",
       "      <td>180.80</td>\n",
       "      <td>10.80</td>\n",
       "      <td>58.40</td>\n",
       "      <td>12.90</td>\n",
       "    </tr>\n",
       "  </tbody>\n",
       "</table>\n",
       "</div>"
      ],
      "text/plain": [
       "      TV  radio  newspaper  sales\n",
       "0 230.10  37.80      69.20  22.10\n",
       "1  44.50  39.30      45.10  10.40\n",
       "2  17.20  45.90      69.30   9.30\n",
       "3 151.50  41.30      58.50  18.50\n",
       "4 180.80  10.80      58.40  12.90"
      ]
     },
     "execution_count": 1,
     "metadata": {},
     "output_type": "execute_result"
    }
   ],
   "source": [
    "from sklearn.model_selection import train_test_split, cross_val_score\n",
    "from sklearn.metrics import mean_squared_error, mean_absolute_error\n",
    "from sklearn.linear_model import LinearRegression\n",
    "import numpy as np\n",
    "import pandas as pd\n",
    "import matplotlib.pyplot as plt\n",
    "import seaborn as sns\n",
    "\n",
    "pd.set_option('display.float_format', lambda x: '%.2f' % x)\n",
    "df = pd.read_csv(\"datasets/advertising.csv\")\n",
    "df.head()"
   ]
  },
  {
   "cell_type": "code",
   "execution_count": 2,
   "metadata": {},
   "outputs": [
    {
     "data": {
      "text/plain": [
       "(200, 4)"
      ]
     },
     "execution_count": 2,
     "metadata": {},
     "output_type": "execute_result"
    }
   ],
   "source": [
    "df.shape\n"
   ]
  },
  {
   "cell_type": "code",
   "execution_count": 3,
   "metadata": {},
   "outputs": [
    {
     "data": {
      "text/html": [
       "<div>\n",
       "<style scoped>\n",
       "    .dataframe tbody tr th:only-of-type {\n",
       "        vertical-align: middle;\n",
       "    }\n",
       "\n",
       "    .dataframe tbody tr th {\n",
       "        vertical-align: top;\n",
       "    }\n",
       "\n",
       "    .dataframe thead th {\n",
       "        text-align: right;\n",
       "    }\n",
       "</style>\n",
       "<table border=\"1\" class=\"dataframe\">\n",
       "  <thead>\n",
       "    <tr style=\"text-align: right;\">\n",
       "      <th></th>\n",
       "      <th>TV</th>\n",
       "    </tr>\n",
       "  </thead>\n",
       "  <tbody>\n",
       "    <tr>\n",
       "      <th>0</th>\n",
       "      <td>230.10</td>\n",
       "    </tr>\n",
       "    <tr>\n",
       "      <th>1</th>\n",
       "      <td>44.50</td>\n",
       "    </tr>\n",
       "    <tr>\n",
       "      <th>2</th>\n",
       "      <td>17.20</td>\n",
       "    </tr>\n",
       "    <tr>\n",
       "      <th>3</th>\n",
       "      <td>151.50</td>\n",
       "    </tr>\n",
       "    <tr>\n",
       "      <th>4</th>\n",
       "      <td>180.80</td>\n",
       "    </tr>\n",
       "  </tbody>\n",
       "</table>\n",
       "</div>"
      ],
      "text/plain": [
       "      TV\n",
       "0 230.10\n",
       "1  44.50\n",
       "2  17.20\n",
       "3 151.50\n",
       "4 180.80"
      ]
     },
     "execution_count": 3,
     "metadata": {},
     "output_type": "execute_result"
    }
   ],
   "source": [
    "X = df[[\"TV\"]]\n",
    "Y = df[[\"sales\"]]\n",
    "X.head()"
   ]
  },
  {
   "cell_type": "code",
   "execution_count": 4,
   "metadata": {},
   "outputs": [
    {
     "data": {
      "text/html": [
       "<div>\n",
       "<style scoped>\n",
       "    .dataframe tbody tr th:only-of-type {\n",
       "        vertical-align: middle;\n",
       "    }\n",
       "\n",
       "    .dataframe tbody tr th {\n",
       "        vertical-align: top;\n",
       "    }\n",
       "\n",
       "    .dataframe thead th {\n",
       "        text-align: right;\n",
       "    }\n",
       "</style>\n",
       "<table border=\"1\" class=\"dataframe\">\n",
       "  <thead>\n",
       "    <tr style=\"text-align: right;\">\n",
       "      <th></th>\n",
       "      <th>sales</th>\n",
       "    </tr>\n",
       "  </thead>\n",
       "  <tbody>\n",
       "    <tr>\n",
       "      <th>0</th>\n",
       "      <td>22.10</td>\n",
       "    </tr>\n",
       "    <tr>\n",
       "      <th>1</th>\n",
       "      <td>10.40</td>\n",
       "    </tr>\n",
       "    <tr>\n",
       "      <th>2</th>\n",
       "      <td>9.30</td>\n",
       "    </tr>\n",
       "    <tr>\n",
       "      <th>3</th>\n",
       "      <td>18.50</td>\n",
       "    </tr>\n",
       "    <tr>\n",
       "      <th>4</th>\n",
       "      <td>12.90</td>\n",
       "    </tr>\n",
       "  </tbody>\n",
       "</table>\n",
       "</div>"
      ],
      "text/plain": [
       "   sales\n",
       "0  22.10\n",
       "1  10.40\n",
       "2   9.30\n",
       "3  18.50\n",
       "4  12.90"
      ]
     },
     "execution_count": 4,
     "metadata": {},
     "output_type": "execute_result"
    }
   ],
   "source": [
    "Y.head()"
   ]
  },
  {
   "cell_type": "code",
   "execution_count": 5,
   "metadata": {},
   "outputs": [
    {
     "data": {
      "text/plain": [
       "7.032593549127695"
      ]
     },
     "execution_count": 5,
     "metadata": {},
     "output_type": "execute_result"
    }
   ],
   "source": [
    "regModel = LinearRegression().fit(X, Y)\n",
    "#sabit (b- bians)\n",
    "regModel.intercept_[0]\n"
   ]
  },
  {
   "cell_type": "code",
   "execution_count": 6,
   "metadata": {},
   "outputs": [
    {
     "data": {
      "text/plain": [
       "0.04753664043301975"
      ]
     },
     "execution_count": 6,
     "metadata": {},
     "output_type": "execute_result"
    }
   ],
   "source": [
    "regModel.coef_[0][0]\n"
   ]
  },
  {
   "cell_type": "markdown",
   "metadata": {},
   "source": [
    "**Tahmin**\n"
   ]
  },
  {
   "cell_type": "code",
   "execution_count": 7,
   "metadata": {},
   "outputs": [
    {
     "data": {
      "text/plain": [
       "14.163089614080658"
      ]
     },
     "execution_count": 7,
     "metadata": {},
     "output_type": "execute_result"
    }
   ],
   "source": [
    "# 150 birimlik TV harcaması olsa ne kadar satış olması beklenir?\n",
    "\n",
    "regModel.intercept_[0] + regModel.coef_[0][0]*150\n"
   ]
  },
  {
   "cell_type": "code",
   "execution_count": 8,
   "metadata": {},
   "outputs": [
    {
     "data": {
      "text/html": [
       "<div>\n",
       "<style scoped>\n",
       "    .dataframe tbody tr th:only-of-type {\n",
       "        vertical-align: middle;\n",
       "    }\n",
       "\n",
       "    .dataframe tbody tr th {\n",
       "        vertical-align: top;\n",
       "    }\n",
       "\n",
       "    .dataframe thead th {\n",
       "        text-align: right;\n",
       "    }\n",
       "</style>\n",
       "<table border=\"1\" class=\"dataframe\">\n",
       "  <thead>\n",
       "    <tr style=\"text-align: right;\">\n",
       "      <th></th>\n",
       "      <th>count</th>\n",
       "      <th>mean</th>\n",
       "      <th>std</th>\n",
       "      <th>min</th>\n",
       "      <th>25%</th>\n",
       "      <th>50%</th>\n",
       "      <th>75%</th>\n",
       "      <th>max</th>\n",
       "    </tr>\n",
       "  </thead>\n",
       "  <tbody>\n",
       "    <tr>\n",
       "      <th>TV</th>\n",
       "      <td>200.00</td>\n",
       "      <td>147.04</td>\n",
       "      <td>85.85</td>\n",
       "      <td>0.70</td>\n",
       "      <td>74.38</td>\n",
       "      <td>149.75</td>\n",
       "      <td>218.82</td>\n",
       "      <td>296.40</td>\n",
       "    </tr>\n",
       "    <tr>\n",
       "      <th>radio</th>\n",
       "      <td>200.00</td>\n",
       "      <td>23.26</td>\n",
       "      <td>14.85</td>\n",
       "      <td>0.00</td>\n",
       "      <td>9.97</td>\n",
       "      <td>22.90</td>\n",
       "      <td>36.52</td>\n",
       "      <td>49.60</td>\n",
       "    </tr>\n",
       "    <tr>\n",
       "      <th>newspaper</th>\n",
       "      <td>200.00</td>\n",
       "      <td>30.55</td>\n",
       "      <td>21.78</td>\n",
       "      <td>0.30</td>\n",
       "      <td>12.75</td>\n",
       "      <td>25.75</td>\n",
       "      <td>45.10</td>\n",
       "      <td>114.00</td>\n",
       "    </tr>\n",
       "    <tr>\n",
       "      <th>sales</th>\n",
       "      <td>200.00</td>\n",
       "      <td>14.02</td>\n",
       "      <td>5.22</td>\n",
       "      <td>1.60</td>\n",
       "      <td>10.38</td>\n",
       "      <td>12.90</td>\n",
       "      <td>17.40</td>\n",
       "      <td>27.00</td>\n",
       "    </tr>\n",
       "  </tbody>\n",
       "</table>\n",
       "</div>"
      ],
      "text/plain": [
       "           count   mean   std  min   25%    50%    75%    max\n",
       "TV        200.00 147.04 85.85 0.70 74.38 149.75 218.82 296.40\n",
       "radio     200.00  23.26 14.85 0.00  9.97  22.90  36.52  49.60\n",
       "newspaper 200.00  30.55 21.78 0.30 12.75  25.75  45.10 114.00\n",
       "sales     200.00  14.02  5.22 1.60 10.38  12.90  17.40  27.00"
      ]
     },
     "execution_count": 8,
     "metadata": {},
     "output_type": "execute_result"
    }
   ],
   "source": [
    "# 500 birimlik tv harcaması olsa ne kadar satış olur?\n",
    "\n",
    "regModel.intercept_[0] + regModel.coef_[0][0]*500\n",
    "\n",
    "df.describe().T"
   ]
  },
  {
   "cell_type": "code",
   "execution_count": 9,
   "metadata": {},
   "outputs": [
    {
     "data": {
      "image/png": "[encoded data removed]",
      "text/plain": [
       "<Figure size 432x288 with 1 Axes>"
      ]
     },
     "metadata": {
      "needs_background": "light"
     },
     "output_type": "display_data"
    }
   ],
   "source": [
    "# Modelin Görselleştirilmesi\n",
    "g = sns.regplot(x=X, y=Y, scatter_kws={'color': 'b', 's': 9},\n",
    "                ci=False, color=\"r\")\n",
    "\n",
    "g.set_title(\n",
    "    f\"Model Denklemi: Sales = {round(regModel.intercept_[0], 2)} + TV*{round(regModel.coef_[0][0], 2)}\")\n",
    "g.set_ylabel(\"Satış Sayısı\")\n",
    "g.set_xlabel(\"TV Harcamaları\")\n",
    "plt.xlim(-10, 310)\n",
    "plt.ylim(bottom=0)\n",
    "plt.show()"
   ]
  },
  {
   "cell_type": "markdown",
   "metadata": {},
   "source": [
    "**Tahmin Başarısı**\n"
   ]
  },
  {
   "cell_type": "code",
   "execution_count": 11,
   "metadata": {},
   "outputs": [
    {
     "data": {
      "text/plain": [
       "sales   5.22\n",
       "dtype: float64"
      ]
     },
     "execution_count": 11,
     "metadata": {},
     "output_type": "execute_result"
    }
   ],
   "source": [
    "yPred = regModel.predict(X)\n",
    "mean_squared_error(Y, yPred)\n",
    "# 10.51\n",
    "Y.mean()\n",
    "Y.std()"
   ]
  },
  {
   "cell_type": "code",
   "execution_count": 12,
   "metadata": {},
   "outputs": [
    {
     "data": {
      "text/plain": [
       "3.2423221486546887"
      ]
     },
     "execution_count": 12,
     "metadata": {},
     "output_type": "execute_result"
    }
   ],
   "source": [
    "\n",
    "# RMSE\n",
    "np.sqrt(mean_squared_error(Y, yPred))\n",
    "# 3.24"
   ]
  },
  {
   "cell_type": "code",
   "execution_count": 13,
   "metadata": {},
   "outputs": [
    {
     "data": {
      "text/plain": [
       "2.549806038927486"
      ]
     },
     "execution_count": 13,
     "metadata": {},
     "output_type": "execute_result"
    }
   ],
   "source": [
    "# MAE\n",
    "mean_absolute_error(Y, yPred)\n",
    "# 2.54\n"
   ]
  },
  {
   "cell_type": "code",
   "execution_count": 14,
   "metadata": {},
   "outputs": [
    {
     "data": {
      "text/plain": [
       "0.611875050850071"
      ]
     },
     "execution_count": 14,
     "metadata": {},
     "output_type": "execute_result"
    }
   ],
   "source": [
    "# R-KARE\n",
    "regModel.score(X, Y)\n"
   ]
  },
  {
   "cell_type": "markdown",
   "metadata": {},
   "source": [
    "**Multiple Linear Regression**\n"
   ]
  },
  {
   "cell_type": "code",
   "execution_count": 15,
   "metadata": {},
   "outputs": [],
   "source": [
    "df = pd.read_csv(\"datasets/advertising.csv\")\n",
    "\n",
    "X = df.drop('sales', axis=1)\n",
    "\n",
    "y = df[[\"sales\"]]"
   ]
  },
  {
   "cell_type": "markdown",
   "metadata": {},
   "source": [
    "**Model**"
   ]
  },
  {
   "cell_type": "code",
   "execution_count": 16,
   "metadata": {},
   "outputs": [
    {
     "data": {
      "text/plain": [
       "(40, 1)"
      ]
     },
     "execution_count": 16,
     "metadata": {},
     "output_type": "execute_result"
    }
   ],
   "source": [
    "\n",
    "X_train, X_test, y_train, y_test = train_test_split(\n",
    "    X, y, test_size=0.20, random_state=1)\n",
    "\n",
    "y_test.shape"
   ]
  },
  {
   "cell_type": "code",
   "execution_count": 17,
   "metadata": {},
   "outputs": [
    {
     "data": {
      "text/plain": [
       "(160, 1)"
      ]
     },
     "execution_count": 17,
     "metadata": {},
     "output_type": "execute_result"
    }
   ],
   "source": [
    "y_train.shape"
   ]
  },
  {
   "cell_type": "code",
   "execution_count": 18,
   "metadata": {},
   "outputs": [
    {
     "data": {
      "text/plain": [
       "array([2.90794702])"
      ]
     },
     "execution_count": 18,
     "metadata": {},
     "output_type": "execute_result"
    }
   ],
   "source": [
    "regModel = LinearRegression().fit(X_train, y_train)\n",
    "\n",
    "# sabit (b - bias)\n",
    "regModel.intercept_"
   ]
  },
  {
   "cell_type": "code",
   "execution_count": 19,
   "metadata": {},
   "outputs": [
    {
     "data": {
      "text/plain": [
       "array([[0.0468431 , 0.17854434, 0.00258619]])"
      ]
     },
     "execution_count": 19,
     "metadata": {},
     "output_type": "execute_result"
    }
   ],
   "source": [
    "# coefficients (w - weights)\n",
    "regModel.coef_\n"
   ]
  },
  {
   "cell_type": "markdown",
   "metadata": {},
   "source": [
    "**Tahmin**"
   ]
  },
  {
   "cell_type": "code",
   "execution_count": 20,
   "metadata": {},
   "outputs": [
    {
     "data": {
      "text/plain": [
       "6.20213102"
      ]
     },
     "execution_count": 20,
     "metadata": {},
     "output_type": "execute_result"
    }
   ],
   "source": [
    "# Aşağıdaki gözlem değerlerine göre satışın beklenen değeri nedir?\n",
    "\n",
    "# TV: 30\n",
    "# radio: 10\n",
    "# newspaper: 40\n",
    "\n",
    "# 2.90\n",
    "# 0.0468431 , 0.17854434, 0.00258619\n",
    "\n",
    "# Sales = 2.90  + TV * 0.04 + radio * 0.17 + newspaper * 0.002\n",
    "\n",
    "2.90794702 + 30 * 0.0468431 + 10 * 0.17854434 + 40 * 0.00258619\n"
   ]
  },
  {
   "cell_type": "code",
   "execution_count": 21,
   "metadata": {},
   "outputs": [
    {
     "name": "stderr",
     "output_type": "stream",
     "text": [
      "c:\\Users\\BERKCAN\\AppData\\Local\\Programs\\Python\\Python310\\lib\\site-packages\\sklearn\\base.py:450: UserWarning: X does not have valid feature names, but LinearRegression was fitted with feature names\n",
      "  warnings.warn(\n"
     ]
    },
    {
     "data": {
      "text/plain": [
       "array([[6.202131]])"
      ]
     },
     "execution_count": 21,
     "metadata": {},
     "output_type": "execute_result"
    }
   ],
   "source": [
    "yeniVeri = [[30], [10], [40]]\n",
    "yeniVeri = pd.DataFrame(yeniVeri).T\n",
    "\n",
    "regModel.predict(yeniVeri)"
   ]
  },
  {
   "cell_type": "markdown",
   "metadata": {},
   "source": [
    "**Tahmin Başarısı**"
   ]
  },
  {
   "cell_type": "code",
   "execution_count": 22,
   "metadata": {},
   "outputs": [
    {
     "data": {
      "text/plain": [
       "1.736902590147092"
      ]
     },
     "execution_count": 22,
     "metadata": {},
     "output_type": "execute_result"
    }
   ],
   "source": [
    "# Train RMSE\n",
    "yPred = regModel.predict(X_train)\n",
    "np.sqrt(mean_squared_error(y_train, yPred))\n"
   ]
  },
  {
   "cell_type": "code",
   "execution_count": 23,
   "metadata": {},
   "outputs": [
    {
     "data": {
      "text/plain": [
       "0.8959372632325174"
      ]
     },
     "execution_count": 23,
     "metadata": {},
     "output_type": "execute_result"
    }
   ],
   "source": [
    "# TRAIN RMAE\n",
    "regModel.score(X_train, y_train)"
   ]
  },
  {
   "cell_type": "code",
   "execution_count": 24,
   "metadata": {},
   "outputs": [
    {
     "data": {
      "text/plain": [
       "1.4113417558581587"
      ]
     },
     "execution_count": 24,
     "metadata": {},
     "output_type": "execute_result"
    }
   ],
   "source": [
    "# Test RMSE\n",
    "y_pred = regModel.predict(X_test)\n",
    "np.sqrt(mean_squared_error(y_test, y_pred))"
   ]
  },
  {
   "cell_type": "code",
   "execution_count": 25,
   "metadata": {},
   "outputs": [
    {
     "data": {
      "text/plain": [
       "0.8927605914615384"
      ]
     },
     "execution_count": 25,
     "metadata": {},
     "output_type": "execute_result"
    }
   ],
   "source": [
    "# Test RKARE\n",
    "regModel.score(X_test, y_test)\n"
   ]
  },
  {
   "cell_type": "code",
   "execution_count": 26,
   "metadata": {},
   "outputs": [
    {
     "data": {
      "text/plain": [
       "1.6913531708051797"
      ]
     },
     "execution_count": 26,
     "metadata": {},
     "output_type": "execute_result"
    }
   ],
   "source": [
    "# 10 Katlı CV RMSE\n",
    "np.mean(np.sqrt(-cross_val_score(regModel,\n",
    "                                 X,\n",
    "                                 y,\n",
    "                                 cv=10,\n",
    "                                 scoring=\"neg_mean_squared_error\")))\n",
    "\n",
    "# 1.69"
   ]
  },
  {
   "cell_type": "code",
   "execution_count": 27,
   "metadata": {},
   "outputs": [
    {
     "data": {
      "text/plain": [
       "1.7175247278732084"
      ]
     },
     "execution_count": 27,
     "metadata": {},
     "output_type": "execute_result"
    }
   ],
   "source": [
    "# 5 Katlı CV RMSE\n",
    "np.mean(np.sqrt(-cross_val_score(regModel,\n",
    "                                 X,\n",
    "                                 y,\n",
    "                                 cv=5,\n",
    "                                 scoring=\"neg_mean_squared_error\")))\n",
    "# 1.71\n"
   ]
  },
  {
   "cell_type": "markdown",
   "metadata": {},
   "source": [
    "**Simple Linear Regression with Gradient Descent from Scratch**"
   ]
  },
  {
   "cell_type": "code",
   "execution_count": 28,
   "metadata": {},
   "outputs": [
    {
     "name": "stdout",
     "output_type": "stream",
     "text": [
      "Starting gradient descent at b = 0.001, w = 0.001, mse = 222.9477491673001\n",
      "iter=0    b=0.01    w=0.3708    mse=53.25\n",
      "iter=100    b=0.28    w=0.4788    mse=41.6\n",
      "iter=200    b=0.54    w=0.4709    mse=40.29\n",
      "iter=300    b=0.79    w=0.4633    mse=39.04\n",
      "iter=400    b=1.03    w=0.4559    mse=37.87\n",
      "iter=500    b=1.27    w=0.4487    mse=36.76\n",
      "iter=600    b=1.49    w=0.4417    mse=35.72\n",
      "iter=700    b=1.72    w=0.4349    mse=34.73\n",
      "iter=800    b=1.93    w=0.4283    mse=33.8\n",
      "iter=900    b=2.14    w=0.4219    mse=32.92\n",
      "iter=1000    b=2.35    w=0.4157    mse=32.09\n",
      "iter=1100    b=2.54    w=0.4096    mse=31.3\n",
      "iter=1200    b=2.74    w=0.4037    mse=30.56\n",
      "iter=1300    b=2.92    w=0.3980    mse=29.87\n",
      "iter=1400    b=3.10    w=0.3925    mse=29.21\n",
      "iter=1500    b=3.28    w=0.3871    mse=28.58\n",
      "iter=1600    b=3.45    w=0.3818    mse=28.0\n",
      "iter=1700    b=3.62    w=0.3767    mse=27.44\n",
      "iter=1800    b=3.78    w=0.3718    mse=26.92\n",
      "iter=1900    b=3.94    w=0.3670    mse=26.42\n",
      "iter=2000    b=4.09    w=0.3623    mse=25.96\n",
      "iter=2100    b=4.24    w=0.3578    mse=25.52\n",
      "iter=2200    b=4.38    w=0.3534    mse=25.1\n",
      "iter=2300    b=4.52    w=0.3491    mse=24.71\n",
      "iter=2400    b=4.66    w=0.3449    mse=24.34\n",
      "iter=2500    b=4.79    w=0.3409    mse=23.99\n",
      "iter=2600    b=4.92    w=0.3369    mse=23.66\n",
      "iter=2700    b=5.04    w=0.3331    mse=23.35\n",
      "iter=2800    b=5.16    w=0.3294    mse=23.05\n",
      "iter=2900    b=5.28    w=0.3258    mse=22.77\n",
      "iter=3000    b=5.40    w=0.3223    mse=22.51\n",
      "iter=3100    b=5.51    w=0.3189    mse=22.26\n",
      "iter=3200    b=5.62    w=0.3156    mse=22.03\n",
      "iter=3300    b=5.72    w=0.3124    mse=21.81\n",
      "iter=3400    b=5.82    w=0.3093    mse=21.6\n",
      "iter=3500    b=5.92    w=0.3062    mse=21.41\n",
      "iter=3600    b=6.02    w=0.3033    mse=21.22\n",
      "iter=3700    b=6.11    w=0.3004    mse=21.05\n",
      "iter=3800    b=6.20    w=0.2976    mse=20.88\n",
      "iter=3900    b=6.29    w=0.2949    mse=20.72\n",
      "iter=4000    b=6.38    w=0.2923    mse=20.58\n",
      "iter=4100    b=6.46    w=0.2898    mse=20.44\n",
      "iter=4200    b=6.54    w=0.2873    mse=20.31\n",
      "iter=4300    b=6.62    w=0.2849    mse=20.18\n",
      "iter=4400    b=6.70    w=0.2825    mse=20.06\n",
      "iter=4500    b=6.77    w=0.2803    mse=19.95\n",
      "iter=4600    b=6.84    w=0.2780    mse=19.85\n",
      "iter=4700    b=6.91    w=0.2759    mse=19.75\n",
      "iter=4800    b=6.98    w=0.2738    mse=19.66\n",
      "iter=4900    b=7.05    w=0.2718    mse=19.57\n",
      "iter=5000    b=7.11    w=0.2698    mse=19.49\n",
      "iter=5100    b=7.17    w=0.2679    mse=19.41\n",
      "iter=5200    b=7.23    w=0.2660    mse=19.34\n",
      "iter=5300    b=7.29    w=0.2642    mse=19.27\n",
      "iter=5400    b=7.35    w=0.2625    mse=19.2\n",
      "iter=5500    b=7.41    w=0.2608    mse=19.14\n",
      "iter=5600    b=7.46    w=0.2591    mse=19.08\n",
      "iter=5700    b=7.51    w=0.2575    mse=19.02\n",
      "iter=5800    b=7.56    w=0.2560    mse=18.97\n",
      "iter=5900    b=7.61    w=0.2544    mse=18.92\n",
      "iter=6000    b=7.66    w=0.2530    mse=18.88\n",
      "iter=6100    b=7.71    w=0.2515    mse=18.83\n",
      "iter=6200    b=7.75    w=0.2501    mse=18.79\n",
      "iter=6300    b=7.80    w=0.2488    mse=18.75\n",
      "iter=6400    b=7.84    w=0.2475    mse=18.72\n",
      "iter=6500    b=7.88    w=0.2462    mse=18.68\n",
      "iter=6600    b=7.92    w=0.2450    mse=18.65\n",
      "iter=6700    b=7.96    w=0.2437    mse=18.62\n",
      "iter=6800    b=8.00    w=0.2426    mse=18.59\n",
      "iter=6900    b=8.04    w=0.2414    mse=18.56\n",
      "iter=7000    b=8.08    w=0.2403    mse=18.53\n",
      "iter=7100    b=8.11    w=0.2393    mse=18.51\n",
      "iter=7200    b=8.14    w=0.2382    mse=18.49\n",
      "iter=7300    b=8.18    w=0.2372    mse=18.46\n",
      "iter=7400    b=8.21    w=0.2362    mse=18.44\n",
      "iter=7500    b=8.24    w=0.2353    mse=18.42\n",
      "iter=7600    b=8.27    w=0.2343    mse=18.4\n",
      "iter=7700    b=8.30    w=0.2334    mse=18.39\n",
      "iter=7800    b=8.33    w=0.2325    mse=18.37\n",
      "iter=7900    b=8.36    w=0.2317    mse=18.35\n",
      "iter=8000    b=8.38    w=0.2309    mse=18.34\n",
      "iter=8100    b=8.41    w=0.2301    mse=18.33\n",
      "iter=8200    b=8.44    w=0.2293    mse=18.31\n",
      "iter=8300    b=8.46    w=0.2285    mse=18.3\n",
      "iter=8400    b=8.49    w=0.2278    mse=18.29\n",
      "iter=8500    b=8.51    w=0.2271    mse=18.28\n",
      "iter=8600    b=8.53    w=0.2264    mse=18.27\n",
      "iter=8700    b=8.55    w=0.2257    mse=18.26\n",
      "iter=8800    b=8.58    w=0.2250    mse=18.25\n",
      "iter=8900    b=8.60    w=0.2244    mse=18.24\n",
      "iter=9000    b=8.62    w=0.2238    mse=18.23\n",
      "iter=9100    b=8.64    w=0.2232    mse=18.22\n",
      "iter=9200    b=8.66    w=0.2226    mse=18.22\n",
      "iter=9300    b=8.67    w=0.2220    mse=18.21\n",
      "iter=9400    b=8.69    w=0.2214    mse=18.2\n",
      "iter=9500    b=8.71    w=0.2209    mse=18.2\n",
      "iter=9600    b=8.73    w=0.2204    mse=18.19\n",
      "iter=9700    b=8.74    w=0.2199    mse=18.19\n",
      "iter=9800    b=8.76    w=0.2194    mse=18.18\n",
      "iter=9900    b=8.78    w=0.2189    mse=18.18\n",
      "iter=10000    b=8.79    w=0.2184    mse=18.17\n",
      "iter=10100    b=8.81    w=0.2180    mse=18.17\n",
      "iter=10200    b=8.82    w=0.2175    mse=18.16\n",
      "iter=10300    b=8.83    w=0.2171    mse=18.16\n",
      "iter=10400    b=8.85    w=0.2167    mse=18.15\n",
      "iter=10500    b=8.86    w=0.2163    mse=18.15\n",
      "iter=10600    b=8.87    w=0.2159    mse=18.15\n",
      "iter=10700    b=8.89    w=0.2155    mse=18.14\n",
      "iter=10800    b=8.90    w=0.2152    mse=18.14\n",
      "iter=10900    b=8.91    w=0.2148    mse=18.14\n",
      "iter=11000    b=8.92    w=0.2144    mse=18.14\n",
      "iter=11100    b=8.93    w=0.2141    mse=18.13\n",
      "iter=11200    b=8.94    w=0.2138    mse=18.13\n",
      "iter=11300    b=8.95    w=0.2135    mse=18.13\n",
      "iter=11400    b=8.96    w=0.2131    mse=18.13\n",
      "iter=11500    b=8.97    w=0.2128    mse=18.13\n",
      "iter=11600    b=8.98    w=0.2125    mse=18.12\n",
      "iter=11700    b=8.99    w=0.2123    mse=18.12\n",
      "iter=11800    b=9.00    w=0.2120    mse=18.12\n",
      "iter=11900    b=9.01    w=0.2117    mse=18.12\n",
      "iter=12000    b=9.02    w=0.2115    mse=18.12\n",
      "iter=12100    b=9.03    w=0.2112    mse=18.12\n",
      "iter=12200    b=9.04    w=0.2110    mse=18.11\n",
      "iter=12300    b=9.04    w=0.2107    mse=18.11\n",
      "iter=12400    b=9.05    w=0.2105    mse=18.11\n",
      "iter=12500    b=9.06    w=0.2103    mse=18.11\n",
      "iter=12600    b=9.07    w=0.2100    mse=18.11\n",
      "iter=12700    b=9.07    w=0.2098    mse=18.11\n",
      "iter=12800    b=9.08    w=0.2096    mse=18.11\n",
      "iter=12900    b=9.09    w=0.2094    mse=18.11\n",
      "iter=13000    b=9.09    w=0.2092    mse=18.11\n",
      "iter=13100    b=9.10    w=0.2090    mse=18.11\n",
      "iter=13200    b=9.10    w=0.2088    mse=18.1\n",
      "iter=13300    b=9.11    w=0.2087    mse=18.1\n",
      "iter=13400    b=9.12    w=0.2085    mse=18.1\n",
      "iter=13500    b=9.12    w=0.2083    mse=18.1\n",
      "iter=13600    b=9.13    w=0.2081    mse=18.1\n",
      "iter=13700    b=9.13    w=0.2080    mse=18.1\n",
      "iter=13800    b=9.14    w=0.2078    mse=18.1\n",
      "iter=13900    b=9.14    w=0.2077    mse=18.1\n",
      "iter=14000    b=9.15    w=0.2075    mse=18.1\n",
      "iter=14100    b=9.15    w=0.2074    mse=18.1\n",
      "iter=14200    b=9.16    w=0.2072    mse=18.1\n",
      "iter=14300    b=9.16    w=0.2071    mse=18.1\n",
      "iter=14400    b=9.17    w=0.2070    mse=18.1\n",
      "iter=14500    b=9.17    w=0.2069    mse=18.1\n",
      "iter=14600    b=9.17    w=0.2067    mse=18.1\n",
      "iter=14700    b=9.18    w=0.2066    mse=18.1\n",
      "iter=14800    b=9.18    w=0.2065    mse=18.1\n",
      "iter=14900    b=9.18    w=0.2064    mse=18.1\n",
      "iter=15000    b=9.19    w=0.2063    mse=18.1\n",
      "iter=15100    b=9.19    w=0.2062    mse=18.1\n",
      "iter=15200    b=9.20    w=0.2061    mse=18.1\n",
      "iter=15300    b=9.20    w=0.2060    mse=18.1\n",
      "iter=15400    b=9.20    w=0.2059    mse=18.1\n",
      "iter=15500    b=9.20    w=0.2058    mse=18.1\n",
      "iter=15600    b=9.21    w=0.2057    mse=18.1\n",
      "iter=15700    b=9.21    w=0.2056    mse=18.1\n",
      "iter=15800    b=9.21    w=0.2055    mse=18.1\n",
      "iter=15900    b=9.22    w=0.2054    mse=18.1\n",
      "iter=16000    b=9.22    w=0.2053    mse=18.09\n",
      "iter=16100    b=9.22    w=0.2052    mse=18.09\n",
      "iter=16200    b=9.22    w=0.2052    mse=18.09\n",
      "iter=16300    b=9.23    w=0.2051    mse=18.09\n",
      "iter=16400    b=9.23    w=0.2050    mse=18.09\n",
      "iter=16500    b=9.23    w=0.2049    mse=18.09\n",
      "iter=16600    b=9.23    w=0.2049    mse=18.09\n",
      "iter=16700    b=9.24    w=0.2048    mse=18.09\n",
      "iter=16800    b=9.24    w=0.2047    mse=18.09\n",
      "iter=16900    b=9.24    w=0.2047    mse=18.09\n",
      "iter=17000    b=9.24    w=0.2046    mse=18.09\n",
      "iter=17100    b=9.24    w=0.2046    mse=18.09\n",
      "iter=17200    b=9.25    w=0.2045    mse=18.09\n",
      "iter=17300    b=9.25    w=0.2044    mse=18.09\n",
      "iter=17400    b=9.25    w=0.2044    mse=18.09\n",
      "iter=17500    b=9.25    w=0.2043    mse=18.09\n",
      "iter=17600    b=9.25    w=0.2043    mse=18.09\n",
      "iter=17700    b=9.25    w=0.2042    mse=18.09\n",
      "iter=17800    b=9.26    w=0.2042    mse=18.09\n",
      "iter=17900    b=9.26    w=0.2041    mse=18.09\n",
      "iter=18000    b=9.26    w=0.2041    mse=18.09\n",
      "iter=18100    b=9.26    w=0.2040    mse=18.09\n",
      "iter=18200    b=9.26    w=0.2040    mse=18.09\n",
      "iter=18300    b=9.26    w=0.2040    mse=18.09\n",
      "iter=18400    b=9.27    w=0.2039    mse=18.09\n",
      "iter=18500    b=9.27    w=0.2039    mse=18.09\n",
      "iter=18600    b=9.27    w=0.2038    mse=18.09\n",
      "iter=18700    b=9.27    w=0.2038    mse=18.09\n",
      "iter=18800    b=9.27    w=0.2038    mse=18.09\n",
      "iter=18900    b=9.27    w=0.2037    mse=18.09\n",
      "iter=19000    b=9.27    w=0.2037    mse=18.09\n",
      "iter=19100    b=9.27    w=0.2037    mse=18.09\n",
      "iter=19200    b=9.27    w=0.2036    mse=18.09\n",
      "iter=19300    b=9.28    w=0.2036    mse=18.09\n",
      "iter=19400    b=9.28    w=0.2036    mse=18.09\n",
      "iter=19500    b=9.28    w=0.2035    mse=18.09\n",
      "iter=19600    b=9.28    w=0.2035    mse=18.09\n",
      "iter=19700    b=9.28    w=0.2035    mse=18.09\n",
      "iter=19800    b=9.28    w=0.2034    mse=18.09\n",
      "iter=19900    b=9.28    w=0.2034    mse=18.09\n",
      "iter=20000    b=9.28    w=0.2034    mse=18.09\n",
      "iter=20100    b=9.28    w=0.2034    mse=18.09\n",
      "iter=20200    b=9.28    w=0.2033    mse=18.09\n",
      "iter=20300    b=9.28    w=0.2033    mse=18.09\n",
      "iter=20400    b=9.29    w=0.2033    mse=18.09\n",
      "iter=20500    b=9.29    w=0.2033    mse=18.09\n",
      "iter=20600    b=9.29    w=0.2032    mse=18.09\n",
      "iter=20700    b=9.29    w=0.2032    mse=18.09\n",
      "iter=20800    b=9.29    w=0.2032    mse=18.09\n",
      "iter=20900    b=9.29    w=0.2032    mse=18.09\n",
      "iter=21000    b=9.29    w=0.2032    mse=18.09\n",
      "iter=21100    b=9.29    w=0.2031    mse=18.09\n",
      "iter=21200    b=9.29    w=0.2031    mse=18.09\n",
      "iter=21300    b=9.29    w=0.2031    mse=18.09\n",
      "iter=21400    b=9.29    w=0.2031    mse=18.09\n",
      "iter=21500    b=9.29    w=0.2031    mse=18.09\n",
      "iter=21600    b=9.29    w=0.2031    mse=18.09\n",
      "iter=21700    b=9.29    w=0.2030    mse=18.09\n",
      "iter=21800    b=9.29    w=0.2030    mse=18.09\n",
      "iter=21900    b=9.29    w=0.2030    mse=18.09\n",
      "iter=22000    b=9.30    w=0.2030    mse=18.09\n",
      "iter=22100    b=9.30    w=0.2030    mse=18.09\n",
      "iter=22200    b=9.30    w=0.2030    mse=18.09\n",
      "iter=22300    b=9.30    w=0.2030    mse=18.09\n",
      "iter=22400    b=9.30    w=0.2029    mse=18.09\n",
      "iter=22500    b=9.30    w=0.2029    mse=18.09\n",
      "iter=22600    b=9.30    w=0.2029    mse=18.09\n",
      "iter=22700    b=9.30    w=0.2029    mse=18.09\n",
      "iter=22800    b=9.30    w=0.2029    mse=18.09\n",
      "iter=22900    b=9.30    w=0.2029    mse=18.09\n",
      "iter=23000    b=9.30    w=0.2029    mse=18.09\n",
      "iter=23100    b=9.30    w=0.2029    mse=18.09\n",
      "iter=23200    b=9.30    w=0.2029    mse=18.09\n",
      "iter=23300    b=9.30    w=0.2028    mse=18.09\n",
      "iter=23400    b=9.30    w=0.2028    mse=18.09\n",
      "iter=23500    b=9.30    w=0.2028    mse=18.09\n",
      "iter=23600    b=9.30    w=0.2028    mse=18.09\n",
      "iter=23700    b=9.30    w=0.2028    mse=18.09\n",
      "iter=23800    b=9.30    w=0.2028    mse=18.09\n",
      "iter=23900    b=9.30    w=0.2028    mse=18.09\n",
      "iter=24000    b=9.30    w=0.2028    mse=18.09\n",
      "iter=24100    b=9.30    w=0.2028    mse=18.09\n",
      "iter=24200    b=9.30    w=0.2028    mse=18.09\n",
      "iter=24300    b=9.30    w=0.2028    mse=18.09\n",
      "iter=24400    b=9.30    w=0.2027    mse=18.09\n",
      "iter=24500    b=9.30    w=0.2027    mse=18.09\n",
      "iter=24600    b=9.30    w=0.2027    mse=18.09\n",
      "iter=24700    b=9.30    w=0.2027    mse=18.09\n",
      "iter=24800    b=9.30    w=0.2027    mse=18.09\n",
      "iter=24900    b=9.30    w=0.2027    mse=18.09\n",
      "iter=25000    b=9.30    w=0.2027    mse=18.09\n",
      "iter=25100    b=9.30    w=0.2027    mse=18.09\n"
     ]
    }
   ],
   "source": [
    "def cost_function(Y, b, w, X):\n",
    "    m = len(Y)\n",
    "    sse = 0\n",
    "\n",
    "    for i in range(0, m):\n",
    "        y_hat = b + w * X[i]\n",
    "        y = Y[i]\n",
    "        sse += (y_hat - y) ** 2\n",
    "\n",
    "    mse = sse / m\n",
    "    return mse\n",
    "\n",
    "# updateWeights\n",
    "def updateWeights(Y, b, w, X, learningRate):\n",
    "    m = len(Y)\n",
    "    bDerivSum = 0\n",
    "    wDerivSum = 0\n",
    "    for i in range(0, m):\n",
    "        yHat = b + w * X[i]\n",
    "        y = Y[i]\n",
    "        bDerivSum += (yHat - y)\n",
    "        wDerivSum += (yHat - y) * X[i]\n",
    "    newB = b - (learningRate * 1 / m * bDerivSum)\n",
    "    newW = w - (learningRate * 1 / m * wDerivSum)\n",
    "    return newB, newW\n",
    "\n",
    "\n",
    "# train fonksiyonu\n",
    "def train(Y, initialB, initialW, X, learningRate, num_iters):\n",
    "\n",
    "    print(\"Starting gradient descent at b = {0}, w = {1}, mse = {2}\".format(initialB, initialW,\n",
    "                                                                   cost_function(Y, initialB, initialW, X)))\n",
    "\n",
    "    b = initialB\n",
    "    w = initialW\n",
    "    costHistory = []\n",
    "\n",
    "    for i in range(num_iters):\n",
    "        b, w = updateWeights(Y, b, w, X, learningRate)\n",
    "        mse = cost_function(Y, b, w, X)\n",
    "        costHistory.append(mse)\n",
    "\n",
    "\n",
    "        if i % 100 == 0:\n",
    "            print(\"iter={:d}    b={:.2f}    w={:.4f}    mse={:.4}\".format(i, b, w, mse))\n",
    "\n",
    "\n",
    "    print(\"After {0} iterations b = {1}, w = {2}, mse = {3}\".format(num_iters, b, w, cost_function(Y, b, w, X)))\n",
    "    return costHistory, b, w\n",
    "\n",
    "df = pd.read_csv(\"datasets/advertising.csv\")\n",
    "\n",
    "X = df[\"radio\"]\n",
    "Y = df[\"sales\"]\n",
    "\n",
    "# hyperparameters\n",
    "learningRate = 0.001\n",
    "initialB = 0.001\n",
    "initialW = 0.001\n",
    "num_iters = 100000\n",
    "\n",
    "cost_history, b, w = train(Y, initialB, initialW, X, learningRate, num_iters)"
   ]
  }
 ],
 "metadata": {
  "kernelspec": {
   "display_name": "Python 3.10.5 64-bit",
   "language": "python",
   "name": "python3"
  },
  "language_info": {
   "codemirror_mode": {
    "name": "ipython",
    "version": 3
   },
   "file_extension": ".py",
   "mimetype": "text/x-python",
   "name": "python",
   "nbconvert_exporter": "python",
   "pygments_lexer": "ipython3",
   "version": "3.10.5"
  },
  "orig_nbformat": 4,
  "vscode": {
   "interpreter": {
    "hash": "5026d2d6e7aaaaba093def813beadff083d8733e4a511af01735cbabd156995d"
   }
  }
 },
 "nbformat": 4,
 "nbformat_minor": 2
}
