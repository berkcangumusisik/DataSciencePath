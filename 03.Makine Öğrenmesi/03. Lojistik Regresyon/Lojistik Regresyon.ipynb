{
 "cells": [
  {
   "cell_type": "markdown",
   "metadata": {},
   "source": [
    "# Lojistik Regresyon\n",
    "- Amaç sınıflandırma problemi için bağımlı ve bağımsız değişkenler arasındaki ilişkiyi doğrusal olarak modellemektir.\n",
    "- Gerçek değerler ile tahmin edilen değerler arasındaki farklara ilişkin log loss değerini minimum yapacak ağırlıkları bularak.\n"
   ]
  },
  {
   "cell_type": "markdown",
   "metadata": {},
   "source": [
    "<img src=\"https://camo.githubusercontent.com/fea7e9dfdbe8261bd17208da05661ec1b8181567e84d93908ac907f3597d9eac/68747470733a2f2f6d69726f2e6d656469756d2e636f6d2f6d61782f313430302f312a57495f493565637a3750516a6545344665624c6644514032782e706e67\">"
   ]
  },
  {
   "cell_type": "markdown",
   "metadata": {},
   "source": [
    "# Confisuion Matrix\n",
    "- Confusion Matrix, veri setinin doğruluk oranlarını gösteren bir matrisdir.\n",
    "\n",
    "\n",
    "<img src= \"https://camo.githubusercontent.com/a3d1d3514224b57dd9addb63551c30edc4d86f58555fd90b712b2f8615d02c29/68747470733a2f2f6d69726f2e6d656469756d2e636f6d2f6d61782f313238362f312a5461756e686d705a334456505072476d6c5144526f672e706e67\">\n",
    "\n",
    "* accuracy = (TP + TN) / (TP + TN + FP + FN) Accuracy değeri, doğru sınıfların oranıdır.\n",
    "* precision = TP / (TP + FP) Precision değeri pozitif sınıfın tahminlerinin başarı oranıdır.\n",
    "* recall = TP / (TP + FN) Recall değeri, pozitif sınıfın doğru tahmin edilme oranıdır."
   ]
  },
  {
   "cell_type": "markdown",
   "metadata": {},
   "source": [
    "# ROC Eğrisi\n",
    "<img src=\"https://upload.wikimedia.org/wikipedia/commons/thumb/1/13/Roc_curve.svg/1024px-Roc_curve.svg.png\">"
   ]
  },
  {
   "cell_type": "markdown",
   "metadata": {},
   "source": [
    "# Area Under the Curve (AUC)\n",
    "- ROC Eğrisinin tek bir sayısal değerle ifade edilişidir.\n",
    "- ROC eğrisi altında kalan alan\n",
    "- AUC değeri, tüm olası sınıflandırma eşikleri için toplu bir performans ölçüsüdür."
   ]
  }
 ],
 "metadata": {
  "language_info": {
   "name": "python"
  },
  "orig_nbformat": 4
 },
 "nbformat": 4,
 "nbformat_minor": 2
}
