{
 "cells": [
  {
   "cell_type": "markdown",
   "metadata": {},
   "source": [
    "# Makine Öğrenmesi ile Maaş Tahmini\n",
    "\n",
    "## İş Problemi\n",
    "Maaş bilgileri ve 1986 yılına ait kariyer istatistikleri paylaşılan beyzbol oyuncularının maaş tahminleri için bir makine öğrenmesi modeli geliştiriniz.\n",
    "\n",
    "## Veri Seti Hikayesi\n",
    "Bu veri seti orijinal olarak Carnegie Mellon Üniversitesi'nde bulunan\n",
    "StatLib kütüphanesinden alınmıştır. Veri seti 1988 ASA Grafik Bölümü\n",
    "Poster Oturumu'nda kullanılan verilerin bir parçasıdır. Maaş verileri\n",
    "orijinal olarak Sports Illustrated, 20 Nisan 1987'den alınmıştır. 1986 ve\n",
    "kariyer istatistikleri, Collier Books, Macmillan Publishing Company,\n",
    "New York tarafından yayınlanan 1987 Beyzbol Ansiklopedisi\n",
    "Güncellemesinden elde edilmiştir.\n",
    "\n",
    "## Değişkenler\n",
    "- AtBat 1986-1987 sezonunda bir beyzbol sopası ile topa yapılan vuruş sayısı\n",
    "- Hits 1986-1987 sezonundaki isabet sayısı\n",
    "- HmRun 1986-1987 sezonundaki en değerli vuruş sayısı\n",
    "- Runs 1986-1987 sezonunda takımına kazandırdığı sayı\n",
    "- RBI Bir vurucunun vuruş yaptıgında koşu yaptırdığı oyuncu sayısı\n",
    "- Walks Karşı oyuncuya yaptırılan hata sayısı\n",
    "- Years Oyuncunun major liginde oynama süresi (sene)\n",
    "- CAtBat Oyuncunun kariyeri boyunca topa vurma sayısı\n",
    "- CHits Oyuncunun kariyeri boyunca yaptığı isabetli vuruş sayısı\n",
    "- CHmRun Oyucunun kariyeri boyunca yaptığı en değerli sayısı\n",
    "- CRuns Oyuncunun kariyeri boyunca takımına kazandırdığı sayı\n",
    "- CRBI Oyuncunun kariyeri boyunca koşu yaptırdırdığı oyuncu sayısı\n",
    "- CWalks Oyuncun kariyeri boyunca karşı oyuncuya yaptırdığı hata sayısı\n",
    "- League Oyuncunun sezon sonuna kadar oynadığı ligi gösteren A ve N seviyelerine sahip bir faktör\n",
    "- Division 1986 sonunda oyuncunun oynadığı pozisyonu gösteren E ve W seviyelerine sahip bir faktör\n",
    "- PutOuts Oyun icinde takım arkadaşınla yardımlaşma\n",
    "- Assits 1986-1987 sezonunda oyuncunun yaptığı asist sayısı\n",
    "- Errors 1986-1987 sezonundaki oyuncunun hata sayısı\n",
    "- Salary Oyuncunun 1986-1987 sezonunda aldığı maaş(bin uzerinden)\n",
    "- NewLeague 1987 sezonunun başında oyuncunun ligini gösteren A ve N seviyelerine sahip bir faktör"
   ]
  },
  {
   "cell_type": "code",
   "execution_count": 1,
   "metadata": {},
   "outputs": [
    {
     "data": {
      "text/html": [
       "<div>\n",
       "<style scoped>\n",
       "    .dataframe tbody tr th:only-of-type {\n",
       "        vertical-align: middle;\n",
       "    }\n",
       "\n",
       "    .dataframe tbody tr th {\n",
       "        vertical-align: top;\n",
       "    }\n",
       "\n",
       "    .dataframe thead th {\n",
       "        text-align: right;\n",
       "    }\n",
       "</style>\n",
       "<table border=\"1\" class=\"dataframe\">\n",
       "  <thead>\n",
       "    <tr style=\"text-align: right;\">\n",
       "      <th></th>\n",
       "      <th>AtBat</th>\n",
       "      <th>Hits</th>\n",
       "      <th>HmRun</th>\n",
       "      <th>Runs</th>\n",
       "      <th>RBI</th>\n",
       "      <th>Walks</th>\n",
       "      <th>Years</th>\n",
       "      <th>CAtBat</th>\n",
       "      <th>CHits</th>\n",
       "      <th>CHmRun</th>\n",
       "      <th>CRuns</th>\n",
       "      <th>CRBI</th>\n",
       "      <th>CWalks</th>\n",
       "      <th>League</th>\n",
       "      <th>Division</th>\n",
       "      <th>PutOuts</th>\n",
       "      <th>Assists</th>\n",
       "      <th>Errors</th>\n",
       "      <th>Salary</th>\n",
       "      <th>NewLeague</th>\n",
       "    </tr>\n",
       "  </thead>\n",
       "  <tbody>\n",
       "    <tr>\n",
       "      <th>0</th>\n",
       "      <td>293</td>\n",
       "      <td>66</td>\n",
       "      <td>1</td>\n",
       "      <td>30</td>\n",
       "      <td>29</td>\n",
       "      <td>14</td>\n",
       "      <td>1</td>\n",
       "      <td>293</td>\n",
       "      <td>66</td>\n",
       "      <td>1</td>\n",
       "      <td>30</td>\n",
       "      <td>29</td>\n",
       "      <td>14</td>\n",
       "      <td>A</td>\n",
       "      <td>E</td>\n",
       "      <td>446</td>\n",
       "      <td>33</td>\n",
       "      <td>20</td>\n",
       "      <td>NaN</td>\n",
       "      <td>A</td>\n",
       "    </tr>\n",
       "    <tr>\n",
       "      <th>1</th>\n",
       "      <td>315</td>\n",
       "      <td>81</td>\n",
       "      <td>7</td>\n",
       "      <td>24</td>\n",
       "      <td>38</td>\n",
       "      <td>39</td>\n",
       "      <td>14</td>\n",
       "      <td>3449</td>\n",
       "      <td>835</td>\n",
       "      <td>69</td>\n",
       "      <td>321</td>\n",
       "      <td>414</td>\n",
       "      <td>375</td>\n",
       "      <td>N</td>\n",
       "      <td>W</td>\n",
       "      <td>632</td>\n",
       "      <td>43</td>\n",
       "      <td>10</td>\n",
       "      <td>475.00</td>\n",
       "      <td>N</td>\n",
       "    </tr>\n",
       "    <tr>\n",
       "      <th>2</th>\n",
       "      <td>479</td>\n",
       "      <td>130</td>\n",
       "      <td>18</td>\n",
       "      <td>66</td>\n",
       "      <td>72</td>\n",
       "      <td>76</td>\n",
       "      <td>3</td>\n",
       "      <td>1624</td>\n",
       "      <td>457</td>\n",
       "      <td>63</td>\n",
       "      <td>224</td>\n",
       "      <td>266</td>\n",
       "      <td>263</td>\n",
       "      <td>A</td>\n",
       "      <td>W</td>\n",
       "      <td>880</td>\n",
       "      <td>82</td>\n",
       "      <td>14</td>\n",
       "      <td>480.00</td>\n",
       "      <td>A</td>\n",
       "    </tr>\n",
       "    <tr>\n",
       "      <th>3</th>\n",
       "      <td>496</td>\n",
       "      <td>141</td>\n",
       "      <td>20</td>\n",
       "      <td>65</td>\n",
       "      <td>78</td>\n",
       "      <td>37</td>\n",
       "      <td>11</td>\n",
       "      <td>5628</td>\n",
       "      <td>1575</td>\n",
       "      <td>225</td>\n",
       "      <td>828</td>\n",
       "      <td>838</td>\n",
       "      <td>354</td>\n",
       "      <td>N</td>\n",
       "      <td>E</td>\n",
       "      <td>200</td>\n",
       "      <td>11</td>\n",
       "      <td>3</td>\n",
       "      <td>500.00</td>\n",
       "      <td>N</td>\n",
       "    </tr>\n",
       "    <tr>\n",
       "      <th>4</th>\n",
       "      <td>321</td>\n",
       "      <td>87</td>\n",
       "      <td>10</td>\n",
       "      <td>39</td>\n",
       "      <td>42</td>\n",
       "      <td>30</td>\n",
       "      <td>2</td>\n",
       "      <td>396</td>\n",
       "      <td>101</td>\n",
       "      <td>12</td>\n",
       "      <td>48</td>\n",
       "      <td>46</td>\n",
       "      <td>33</td>\n",
       "      <td>N</td>\n",
       "      <td>E</td>\n",
       "      <td>805</td>\n",
       "      <td>40</td>\n",
       "      <td>4</td>\n",
       "      <td>91.50</td>\n",
       "      <td>N</td>\n",
       "    </tr>\n",
       "  </tbody>\n",
       "</table>\n",
       "</div>"
      ],
      "text/plain": [
       "   AtBat  Hits  HmRun  Runs  RBI  Walks  Years  CAtBat  CHits  CHmRun  CRuns  \\\n",
       "0    293    66      1    30   29     14      1     293     66       1     30   \n",
       "1    315    81      7    24   38     39     14    3449    835      69    321   \n",
       "2    479   130     18    66   72     76      3    1624    457      63    224   \n",
       "3    496   141     20    65   78     37     11    5628   1575     225    828   \n",
       "4    321    87     10    39   42     30      2     396    101      12     48   \n",
       "\n",
       "   CRBI  CWalks League Division  PutOuts  Assists  Errors  Salary NewLeague  \n",
       "0    29      14      A        E      446       33      20     NaN         A  \n",
       "1   414     375      N        W      632       43      10  475.00         N  \n",
       "2   266     263      A        W      880       82      14  480.00         A  \n",
       "3   838     354      N        E      200       11       3  500.00         N  \n",
       "4    46      33      N        E      805       40       4   91.50         N  "
      ]
     },
     "execution_count": 1,
     "metadata": {},
     "output_type": "execute_result"
    }
   ],
   "source": [
    "import numpy as np\n",
    "import pandas as pd\n",
    "import matplotlib.pyplot as plt\n",
    "import seaborn as sns\n",
    "\n",
    "from sklearn.neighbors import LocalOutlierFactor\n",
    "from sklearn.impute import KNNImputer\n",
    "from sklearn.ensemble import RandomForestClassifier\n",
    "from sklearn.linear_model import LinearRegression\n",
    "from sklearn.metrics import mean_squared_error, mean_absolute_error\n",
    "from sklearn.model_selection import train_test_split, cross_val_score\n",
    "from sklearn.preprocessing import LabelEncoder\n",
    "from sklearn.preprocessing import StandardScaler, MinMaxScaler\n",
    "from sklearn.model_selection import train_test_split\n",
    "from sklearn.metrics import accuracy_score, precision_score, recall_score, f1_score,roc_auc_score\n",
    "import warnings\n",
    "warnings.simplefilter(action=\"ignore\")\n",
    "pd.set_option('display.float_format', lambda x: '%.2f' % x)\n",
    "df = pd.read_csv(\"datasets/hitters.csv\")\n",
    "df.head()\n"
   ]
  },
  {
   "cell_type": "markdown",
   "metadata": {},
   "source": [
    "# Genel Resim"
   ]
  },
  {
   "cell_type": "code",
   "execution_count": 2,
   "metadata": {},
   "outputs": [
    {
     "name": "stdout",
     "output_type": "stream",
     "text": [
      "##### Shape #####\n",
      "(322, 20)\n",
      "\n",
      "##### Types #####\n",
      "AtBat          int64\n",
      "Hits           int64\n",
      "HmRun          int64\n",
      "Runs           int64\n",
      "RBI            int64\n",
      "Walks          int64\n",
      "Years          int64\n",
      "CAtBat         int64\n",
      "CHits          int64\n",
      "CHmRun         int64\n",
      "CRuns          int64\n",
      "CRBI           int64\n",
      "CWalks         int64\n",
      "League        object\n",
      "Division      object\n",
      "PutOuts        int64\n",
      "Assists        int64\n",
      "Errors         int64\n",
      "Salary       float64\n",
      "NewLeague     object\n",
      "dtype: object\n",
      "\n",
      "##### Tail #####\n",
      "     AtBat  Hits  HmRun  Runs  RBI  Walks  Years  CAtBat  CHits  CHmRun  \\\n",
      "314    408   117     11    66   41     34      1     408    117      11   \n",
      "315    593   172     22    82  100     57      1     593    172      22   \n",
      "316    221    53      2    21   23     22      8    1063    283      15   \n",
      "317    497   127      7    65   48     37      5    2703    806      32   \n",
      "318    492   136      5    76   50     94     12    5511   1511      39   \n",
      "319    475   126      3    61   43     52      6    1700    433       7   \n",
      "320    573   144      9    85   60     78      8    3198    857      97   \n",
      "321    631   170      9    77   44     31     11    4908   1457      30   \n",
      "\n",
      "     CRuns  CRBI  CWalks League Division  PutOuts  Assists  Errors  Salary  \\\n",
      "314     66    41      34      N        W      942       72      11  120.00   \n",
      "315     82   100      57      A        W     1222      139      15  165.00   \n",
      "316    107   124     106      N        E      325       58       6     NaN   \n",
      "317    379   311     138      N        E      325        9       3  700.00   \n",
      "318    897   451     875      A        E      313      381      20  875.00   \n",
      "319    217    93     146      A        W       37      113       7  385.00   \n",
      "320    470   420     332      A        E     1314      131      12  960.00   \n",
      "321    775   357     249      A        W      408        4       3 1000.00   \n",
      "\n",
      "    NewLeague  \n",
      "314         N  \n",
      "315         A  \n",
      "316         N  \n",
      "317         N  \n",
      "318         A  \n",
      "319         A  \n",
      "320         A  \n",
      "321         A  \n",
      "\n",
      "##### Head #####\n",
      "   AtBat  Hits  HmRun  Runs  RBI  Walks  Years  CAtBat  CHits  CHmRun  CRuns  \\\n",
      "0    293    66      1    30   29     14      1     293     66       1     30   \n",
      "1    315    81      7    24   38     39     14    3449    835      69    321   \n",
      "2    479   130     18    66   72     76      3    1624    457      63    224   \n",
      "3    496   141     20    65   78     37     11    5628   1575     225    828   \n",
      "4    321    87     10    39   42     30      2     396    101      12     48   \n",
      "5    594   169      4    74   51     35     11    4408   1133      19    501   \n",
      "6    185    37      1    23    8     21      2     214     42       1     30   \n",
      "7    298    73      0    24   24      7      3     509    108       0     41   \n",
      "\n",
      "   CRBI  CWalks League Division  PutOuts  Assists  Errors  Salary NewLeague  \n",
      "0    29      14      A        E      446       33      20     NaN         A  \n",
      "1   414     375      N        W      632       43      10  475.00         N  \n",
      "2   266     263      A        W      880       82      14  480.00         A  \n",
      "3   838     354      N        E      200       11       3  500.00         N  \n",
      "4    46      33      N        E      805       40       4   91.50         N  \n",
      "5   336     194      A        W      282      421      25  750.00         A  \n",
      "6     9      24      N        E       76      127       7   70.00         A  \n",
      "7    37      12      A        W      121      283       9  100.00         A  \n",
      "\n",
      "##### Null Analysis #####\n",
      "AtBat         0\n",
      "Hits          0\n",
      "HmRun         0\n",
      "Runs          0\n",
      "RBI           0\n",
      "Walks         0\n",
      "Years         0\n",
      "CAtBat        0\n",
      "CHits         0\n",
      "CHmRun        0\n",
      "CRuns         0\n",
      "CRBI          0\n",
      "CWalks        0\n",
      "League        0\n",
      "Division      0\n",
      "PutOuts       0\n",
      "Assists       0\n",
      "Errors        0\n",
      "Salary       59\n",
      "NewLeague     0\n",
      "dtype: int64\n",
      "\n",
      "##### Quantiles #####\n",
      "         count    mean     std   min    0%     5%     50%     95%     99%  \\\n",
      "AtBat   322.00  380.93  153.40 16.00 16.00 161.00  379.50  609.90  658.59   \n",
      "Hits    322.00  101.02   46.45  1.00  1.00  39.00   96.00  174.00  210.79   \n",
      "HmRun   322.00   10.77    8.71  0.00  0.00   0.00    8.00   28.95   33.00   \n",
      "Runs    322.00   50.91   26.02  0.00  0.00  17.00   48.00   94.00  107.79   \n",
      "RBI     322.00   48.03   26.17  0.00  0.00  14.00   44.00   96.00  112.37   \n",
      "Walks   322.00   38.74   21.64  0.00  0.00  11.05   35.00   78.00   93.58   \n",
      "Years   322.00    7.44    4.93  1.00  1.00   1.00    6.00   17.00   19.79   \n",
      "CAtBat  322.00 2648.68 2324.21 19.00 19.00 216.50 1928.00 7125.60 8749.97   \n",
      "CHits   322.00  717.57  654.47  4.00  4.00  54.00  508.00 2017.15 2500.34   \n",
      "CHmRun  322.00   69.49   86.27  0.00  0.00   2.00   37.50  265.65  373.12   \n",
      "CRuns   322.00  358.80  334.11  1.00  1.00  27.00  247.00 1032.30 1174.37   \n",
      "CRBI    322.00  330.12  333.22  0.00  0.00  22.05  220.50 1071.75 1310.85   \n",
      "CWalks  322.00  260.24  267.06  0.00  0.00  15.05  170.50  817.60 1139.14   \n",
      "PutOuts 322.00  288.94  280.70  0.00  0.00  33.20  212.00  910.65 1301.19   \n",
      "Assists 322.00  106.91  136.85  0.00  0.00   0.00   39.50  431.45  478.16   \n",
      "Errors  322.00    8.04    6.37  0.00  0.00   0.00    6.00   20.00   25.79   \n",
      "Salary  263.00  535.93  451.12 67.50 67.50  86.60  425.00 1346.00 2032.89   \n",
      "\n",
      "            100%      max  \n",
      "AtBat     687.00   687.00  \n",
      "Hits      238.00   238.00  \n",
      "HmRun      40.00    40.00  \n",
      "Runs      130.00   130.00  \n",
      "RBI       121.00   121.00  \n",
      "Walks     105.00   105.00  \n",
      "Years      24.00    24.00  \n",
      "CAtBat  14053.00 14053.00  \n",
      "CHits    4256.00  4256.00  \n",
      "CHmRun    548.00   548.00  \n",
      "CRuns    2165.00  2165.00  \n",
      "CRBI     1659.00  1659.00  \n",
      "CWalks   1566.00  1566.00  \n",
      "PutOuts  1378.00  1378.00  \n",
      "Assists   492.00   492.00  \n",
      "Errors     32.00    32.00  \n",
      "Salary   2460.00  2460.00  \n"
     ]
    }
   ],
   "source": [
    "def checkDf(dataframe, head = 8):\n",
    "  print(\"##### Shape #####\")\n",
    "  print(dataframe.shape)\n",
    "  print(\"\\n##### Types #####\")\n",
    "  print(dataframe.dtypes)\n",
    "  print(\"\\n##### Tail #####\")\n",
    "  print(dataframe.tail(head))\n",
    "  print(\"\\n##### Head #####\")\n",
    "  print(dataframe.head(head))\n",
    "  print(\"\\n##### Null Analysis #####\")\n",
    "  print(dataframe.isnull().sum())\n",
    "  print(\"\\n##### Quantiles #####\")\n",
    "  print(dataframe.describe([0,0.05, 0.50, 0.95, 0.99, 1]).T)  \n",
    "checkDf(df)"
   ]
  },
  {
   "cell_type": "markdown",
   "metadata": {},
   "source": [
    "# Numerik ve Kategorik Değişkenlerin Yakalanması"
   ]
  },
  {
   "cell_type": "code",
   "execution_count": 3,
   "metadata": {},
   "outputs": [
    {
     "name": "stdout",
     "output_type": "stream",
     "text": [
      "Observations: 322\n",
      "Variables: 20\n",
      "catCols: 3\n",
      "numCols: 17\n",
      "catButCar: 0\n",
      "numButCat: 0\n"
     ]
    }
   ],
   "source": [
    "def grabColNames(dataframe, catTh=10, carTh=20):\n",
    "    \"\"\"\n",
    "\n",
    "    Veri setindeki kategorik, numerik ve kategorik fakat kardinal değişkenlerin isimlerini verir.\n",
    "    Not: Kategorik değişkenlerin içerisine numerik görünümlü kategorik değişkenler de dahildir.\n",
    "\n",
    "    Parameters\n",
    "    ------\n",
    "        dataframe: dataframe\n",
    "                Değişken isimleri alınmak istenilen dataframe\n",
    "        catTh: int, optional\n",
    "                numerik fakat kategorik olan değişkenler için sınıf eşik değeri\n",
    "        carTh: int, optinal\n",
    "                kategorik fakat kardinal değişkenler için sınıf eşik değeri\n",
    "\n",
    "    Returns\n",
    "    ------\n",
    "        catCols: list\n",
    "                Kategorik değişken listesi\n",
    "        numCols: list\n",
    "                Numerik değişken listesi\n",
    "        catButCar: list\n",
    "                Kategorik görünümlü kardinal değişken listesi\n",
    "\n",
    "    Examples\n",
    "    ------\n",
    "        import seaborn as sns\n",
    "        df = sns.load_dataset(\"iris\")\n",
    "        print(grabColNames(df))\n",
    "\n",
    "\n",
    "    Notes\n",
    "    ------\n",
    "        catCols + numCols + catButCar = toplam değişken sayısı\n",
    "        numButCat catCols'un içerisinde.\n",
    "        Return olan 3 liste toplamı toplam değişken sayısına eşittir: catCols + numCols + catButCar = değişken sayısı\n",
    "\n",
    "    \"\"\"\n",
    "\n",
    "    # catCols, catButCar\n",
    "    catCols = [col for col in dataframe.columns if dataframe[col].dtypes == \"O\"]\n",
    "    numButCat = [col for col in dataframe.columns if dataframe[col].nunique() < catTh and\n",
    "                 dataframe[col].dtypes != \"O\"]\n",
    "    catButCar = [col for col in dataframe.columns if dataframe[col].nunique() > carTh and\n",
    "                 dataframe[col].dtypes == \"O\"]\n",
    "    catCols = catCols + numButCat\n",
    "    catCols = [col for col in catCols if col not in catButCar]\n",
    "\n",
    "    # numCols\n",
    "    numCols = [col for col in dataframe.columns if dataframe[col].dtypes != \"O\"]\n",
    "    numCols = [col for col in numCols if col not in numButCat]\n",
    "\n",
    "    print(f\"Observations: {dataframe.shape[0]}\")\n",
    "    print(f\"Variables: {dataframe.shape[1]}\")\n",
    "    print(f'catCols: {len(catCols)}')\n",
    "    print(f'numCols: {len(numCols)}')\n",
    "    print(f'catButCar: {len(catButCar)}')\n",
    "    print(f'numButCat: {len(numButCat)}')\n",
    "    return catCols, numCols, catButCar\n",
    "\n",
    "\n",
    "catCols, numCols, catButCar = grabColNames(df)"
   ]
  },
  {
   "cell_type": "code",
   "execution_count": 4,
   "metadata": {},
   "outputs": [
    {
     "data": {
      "text/plain": [
       "['League', 'Division', 'NewLeague']"
      ]
     },
     "execution_count": 4,
     "metadata": {},
     "output_type": "execute_result"
    }
   ],
   "source": [
    "catCols"
   ]
  },
  {
   "cell_type": "code",
   "execution_count": 5,
   "metadata": {},
   "outputs": [
    {
     "data": {
      "text/plain": [
       "['AtBat',\n",
       " 'Hits',\n",
       " 'HmRun',\n",
       " 'Runs',\n",
       " 'RBI',\n",
       " 'Walks',\n",
       " 'Years',\n",
       " 'CAtBat',\n",
       " 'CHits',\n",
       " 'CHmRun',\n",
       " 'CRuns',\n",
       " 'CRBI',\n",
       " 'CWalks',\n",
       " 'PutOuts',\n",
       " 'Assists',\n",
       " 'Errors',\n",
       " 'Salary']"
      ]
     },
     "execution_count": 5,
     "metadata": {},
     "output_type": "execute_result"
    }
   ],
   "source": [
    "numCols"
   ]
  },
  {
   "cell_type": "markdown",
   "metadata": {},
   "source": [
    "# Numerik ve Kategorik Değişkenlerin Analizi"
   ]
  },
  {
   "cell_type": "code",
   "execution_count": 6,
   "metadata": {},
   "outputs": [
    {
     "name": "stdout",
     "output_type": "stream",
     "text": [
      "   League  Ratio\n",
      "A     175  54.35\n",
      "N     147  45.65\n",
      "##########################################\n"
     ]
    },
    {
     "data": {
      "image/png": "[encoded data removed]",
      "text/plain": [
       "<Figure size 432x288 with 1 Axes>"
      ]
     },
     "metadata": {
      "needs_background": "light"
     },
     "output_type": "display_data"
    },
    {
     "name": "stdout",
     "output_type": "stream",
     "text": [
      "   Division  Ratio\n",
      "W       165  51.24\n",
      "E       157  48.76\n",
      "##########################################\n"
     ]
    },
    {
     "data": {
      "image/png": "[encoded data removed]",
      "text/plain": [
       "<Figure size 432x288 with 1 Axes>"
      ]
     },
     "metadata": {
      "needs_background": "light"
     },
     "output_type": "display_data"
    },
    {
     "name": "stdout",
     "output_type": "stream",
     "text": [
      "   NewLeague  Ratio\n",
      "A        176  54.66\n",
      "N        146  45.34\n",
      "##########################################\n"
     ]
    },
    {
     "data": {
      "image/png": "[encoded data removed]",
      "text/plain": [
       "<Figure size 432x288 with 1 Axes>"
      ]
     },
     "metadata": {
      "needs_background": "light"
     },
     "output_type": "display_data"
    }
   ],
   "source": [
    "def catSummary(dataframe, colName, plot=False):\n",
    "    print(pd.DataFrame({colName: dataframe[colName].value_counts(),\n",
    "                        \"Ratio\": 100 * dataframe[colName].value_counts() / len(dataframe)}))\n",
    "    print(\"##########################################\")\n",
    "\n",
    "    if plot:\n",
    "        sns.countplot(x=dataframe[colName], data=dataframe)\n",
    "        plt.show(block=True)\n",
    "    \n",
    "for col in catCols:\n",
    "    if df[col].dtypes == \"bool\":\n",
    "        print(col)\n",
    "    else:\n",
    "        catSummary(df, col, True)"
   ]
  },
  {
   "cell_type": "code",
   "execution_count": 7,
   "metadata": {},
   "outputs": [
    {
     "name": "stdout",
     "output_type": "stream",
     "text": [
      "count   322.00\n",
      "mean    380.93\n",
      "std     153.40\n",
      "min      16.00\n",
      "5%      161.00\n",
      "10%     194.10\n",
      "20%     221.80\n",
      "30%     281.30\n",
      "40%     321.80\n",
      "50%     379.50\n",
      "60%     430.20\n",
      "70%     490.00\n",
      "80%     535.60\n",
      "90%     584.90\n",
      "95%     609.90\n",
      "99%     658.59\n",
      "100%    687.00\n",
      "max     687.00\n",
      "Name: AtBat, dtype: float64\n"
     ]
    },
    {
     "data": {
      "image/png": "[encoded data removed]",
      "text/plain": [
       "<Figure size 432x288 with 1 Axes>"
      ]
     },
     "metadata": {
      "needs_background": "light"
     },
     "output_type": "display_data"
    },
    {
     "name": "stdout",
     "output_type": "stream",
     "text": [
      "count   322.00\n",
      "mean    101.02\n",
      "std      46.45\n",
      "min       1.00\n",
      "5%       39.00\n",
      "10%      45.10\n",
      "20%      57.00\n",
      "30%      70.00\n",
      "40%      82.00\n",
      "50%      96.00\n",
      "60%     113.00\n",
      "70%     128.70\n",
      "80%     144.00\n",
      "90%     163.00\n",
      "95%     174.00\n",
      "99%     210.79\n",
      "100%    238.00\n",
      "max     238.00\n",
      "Name: Hits, dtype: float64\n"
     ]
    },
    {
     "data": {
      "image/png": "[encoded data removed]",
      "text/plain": [
       "<Figure size 432x288 with 1 Axes>"
      ]
     },
     "metadata": {
      "needs_background": "light"
     },
     "output_type": "display_data"
    },
    {
     "name": "stdout",
     "output_type": "stream",
     "text": [
      "count   322.00\n",
      "mean     10.77\n",
      "std       8.71\n",
      "min       0.00\n",
      "5%        0.00\n",
      "10%       1.00\n",
      "20%       3.00\n",
      "30%       5.00\n",
      "40%       6.00\n",
      "50%       8.00\n",
      "60%      10.60\n",
      "70%      14.00\n",
      "80%      18.00\n",
      "90%      24.00\n",
      "95%      28.95\n",
      "99%      33.00\n",
      "100%     40.00\n",
      "max      40.00\n",
      "Name: HmRun, dtype: float64\n"
     ]
    },
    {
     "data": {
      "image/png": "[encoded data removed]",
      "text/plain": [
       "<Figure size 432x288 with 1 Axes>"
      ]
     },
     "metadata": {
      "needs_background": "light"
     },
     "output_type": "display_data"
    },
    {
     "name": "stdout",
     "output_type": "stream",
     "text": [
      "count   322.00\n",
      "mean     50.91\n",
      "std      26.02\n",
      "min       0.00\n",
      "5%       17.00\n",
      "10%      20.10\n",
      "20%      27.00\n",
      "30%      33.00\n",
      "40%      41.00\n",
      "50%      48.00\n",
      "60%      55.60\n",
      "70%      66.00\n",
      "80%      75.80\n",
      "90%      89.00\n",
      "95%      94.00\n",
      "99%     107.79\n",
      "100%    130.00\n",
      "max     130.00\n",
      "Name: Runs, dtype: float64\n"
     ]
    },
    {
     "data": {
      "image/png": "[encoded data removed]",
      "text/plain": [
       "<Figure size 432x288 with 1 Axes>"
      ]
     },
     "metadata": {
      "needs_background": "light"
     },
     "output_type": "display_data"
    },
    {
     "name": "stdout",
     "output_type": "stream",
     "text": [
      "count   322.00\n",
      "mean     48.03\n",
      "std      26.17\n",
      "min       0.00\n",
      "5%       14.00\n",
      "10%      19.00\n",
      "20%      26.00\n",
      "30%      30.00\n",
      "40%      36.40\n",
      "50%      44.00\n",
      "60%      49.00\n",
      "70%      58.00\n",
      "80%      73.00\n",
      "90%      86.00\n",
      "95%      96.00\n",
      "99%     112.37\n",
      "100%    121.00\n",
      "max     121.00\n",
      "Name: RBI, dtype: float64\n"
     ]
    },
    {
     "data": {
      "image/png": "[encoded data removed]",
      "text/plain": [
       "<Figure size 432x288 with 1 Axes>"
      ]
     },
     "metadata": {
      "needs_background": "light"
     },
     "output_type": "display_data"
    },
    {
     "name": "stdout",
     "output_type": "stream",
     "text": [
      "count   322.00\n",
      "mean     38.74\n",
      "std      21.64\n",
      "min       0.00\n",
      "5%       11.05\n",
      "10%      15.00\n",
      "20%      20.00\n",
      "30%      24.00\n",
      "40%      30.00\n",
      "50%      35.00\n",
      "60%      40.00\n",
      "70%      48.70\n",
      "80%      59.00\n",
      "90%      69.90\n",
      "95%      78.00\n",
      "99%      93.58\n",
      "100%    105.00\n",
      "max     105.00\n",
      "Name: Walks, dtype: float64\n"
     ]
    },
    {
     "data": {
      "image/png": "[encoded data removed]",
      "text/plain": [
       "<Figure size 432x288 with 1 Axes>"
      ]
     },
     "metadata": {
      "needs_background": "light"
     },
     "output_type": "display_data"
    },
    {
     "name": "stdout",
     "output_type": "stream",
     "text": [
      "count   322.00\n",
      "mean      7.44\n",
      "std       4.93\n",
      "min       1.00\n",
      "5%        1.00\n",
      "10%       2.00\n",
      "20%       3.00\n",
      "30%       4.00\n",
      "40%       5.00\n",
      "50%       6.00\n",
      "60%       7.60\n",
      "70%      10.00\n",
      "80%      12.00\n",
      "90%      15.00\n",
      "95%      17.00\n",
      "99%      19.79\n",
      "100%     24.00\n",
      "max      24.00\n",
      "Name: Years, dtype: float64\n"
     ]
    },
    {
     "data": {
      "image/png": "[encoded data removed]",
      "text/plain": [
       "<Figure size 432x288 with 1 Axes>"
      ]
     },
     "metadata": {
      "needs_background": "light"
     },
     "output_type": "display_data"
    },
    {
     "name": "stdout",
     "output_type": "stream",
     "text": [
      "count     322.00\n",
      "mean     2648.68\n",
      "std      2324.21\n",
      "min        19.00\n",
      "5%        216.50\n",
      "10%       342.20\n",
      "20%       667.60\n",
      "30%       963.40\n",
      "40%      1402.20\n",
      "50%      1928.00\n",
      "60%      2654.00\n",
      "70%      3365.00\n",
      "80%      4483.00\n",
      "90%      6123.40\n",
      "95%      7125.60\n",
      "99%      8749.97\n",
      "100%    14053.00\n",
      "max     14053.00\n",
      "Name: CAtBat, dtype: float64\n"
     ]
    },
    {
     "data": {
      "image/png": "[encoded data removed]",
      "text/plain": [
       "<Figure size 432x288 with 1 Axes>"
      ]
     },
     "metadata": {
      "needs_background": "light"
     },
     "output_type": "display_data"
    },
    {
     "name": "stdout",
     "output_type": "stream",
     "text": [
      "count    322.00\n",
      "mean     717.57\n",
      "std      654.47\n",
      "min        4.00\n",
      "5%        54.00\n",
      "10%       86.00\n",
      "20%      164.60\n",
      "30%      238.00\n",
      "40%      355.80\n",
      "50%      508.00\n",
      "60%      708.20\n",
      "70%      911.10\n",
      "80%     1229.20\n",
      "90%     1659.60\n",
      "95%     2017.15\n",
      "99%     2500.34\n",
      "100%    4256.00\n",
      "max     4256.00\n",
      "Name: CHits, dtype: float64\n"
     ]
    },
    {
     "data": {
      "image/png": "[encoded data removed]",
      "text/plain": [
       "<Figure size 432x288 with 1 Axes>"
      ]
     },
     "metadata": {
      "needs_background": "light"
     },
     "output_type": "display_data"
    },
    {
     "name": "stdout",
     "output_type": "stream",
     "text": [
      "count   322.00\n",
      "mean     69.49\n",
      "std      86.27\n",
      "min       0.00\n",
      "5%        2.00\n",
      "10%       4.00\n",
      "20%      10.20\n",
      "30%      16.30\n",
      "40%      27.40\n",
      "50%      37.50\n",
      "60%      51.20\n",
      "70%      72.40\n",
      "80%     103.80\n",
      "90%     194.90\n",
      "95%     265.65\n",
      "99%     373.12\n",
      "100%    548.00\n",
      "max     548.00\n",
      "Name: CHmRun, dtype: float64\n"
     ]
    },
    {
     "data": {
      "image/png": "[encoded data removed]",
      "text/plain": [
       "<Figure size 432x288 with 1 Axes>"
      ]
     },
     "metadata": {
      "needs_background": "light"
     },
     "output_type": "display_data"
    },
    {
     "name": "stdout",
     "output_type": "stream",
     "text": [
      "count    322.00\n",
      "mean     358.80\n",
      "std      334.11\n",
      "min        1.00\n",
      "5%        27.00\n",
      "10%       38.10\n",
      "20%       80.40\n",
      "30%      117.30\n",
      "40%      181.00\n",
      "50%      247.00\n",
      "60%      333.00\n",
      "70%      443.40\n",
      "80%      627.20\n",
      "90%      895.70\n",
      "95%     1032.30\n",
      "99%     1174.37\n",
      "100%    2165.00\n",
      "max     2165.00\n",
      "Name: CRuns, dtype: float64\n"
     ]
    },
    {
     "data": {
      "image/png": "[encoded data removed]",
      "text/plain": [
       "<Figure size 432x288 with 1 Axes>"
      ]
     },
     "metadata": {
      "needs_background": "light"
     },
     "output_type": "display_data"
    },
    {
     "name": "stdout",
     "output_type": "stream",
     "text": [
      "count    322.00\n",
      "mean     330.12\n",
      "std      333.22\n",
      "min        0.00\n",
      "5%        22.05\n",
      "10%       34.10\n",
      "20%       70.20\n",
      "30%      106.30\n",
      "40%      149.00\n",
      "50%      220.50\n",
      "60%      303.60\n",
      "70%      379.10\n",
      "80%      496.20\n",
      "90%      861.60\n",
      "95%     1071.75\n",
      "99%     1310.85\n",
      "100%    1659.00\n",
      "max     1659.00\n",
      "Name: CRBI, dtype: float64\n"
     ]
    },
    {
     "data": {
      "image/png": "[encoded data removed]",
      "text/plain": [
       "<Figure size 432x288 with 1 Axes>"
      ]
     },
     "metadata": {
      "needs_background": "light"
     },
     "output_type": "display_data"
    },
    {
     "name": "stdout",
     "output_type": "stream",
     "text": [
      "count    322.00\n",
      "mean     260.24\n",
      "std      267.06\n",
      "min        0.00\n",
      "5%        15.05\n",
      "10%       30.10\n",
      "20%       55.00\n",
      "30%       82.00\n",
      "40%      117.40\n",
      "50%      170.50\n",
      "60%      226.60\n",
      "70%      300.70\n",
      "80%      421.00\n",
      "90%      643.90\n",
      "95%      817.60\n",
      "99%     1139.14\n",
      "100%    1566.00\n",
      "max     1566.00\n",
      "Name: CWalks, dtype: float64\n"
     ]
    },
    {
     "data": {
      "image/png": "[encoded data removed]",
      "text/plain": [
       "<Figure size 432x288 with 1 Axes>"
      ]
     },
     "metadata": {
      "needs_background": "light"
     },
     "output_type": "display_data"
    },
    {
     "name": "stdout",
     "output_type": "stream",
     "text": [
      "count    322.00\n",
      "mean     288.94\n",
      "std      280.70\n",
      "min        0.00\n",
      "5%        33.20\n",
      "10%       62.20\n",
      "20%       99.60\n",
      "30%      132.00\n",
      "40%      167.00\n",
      "50%      212.00\n",
      "60%      257.40\n",
      "70%      303.00\n",
      "80%      365.80\n",
      "90%      685.60\n",
      "95%      910.65\n",
      "99%     1301.19\n",
      "100%    1378.00\n",
      "max     1378.00\n",
      "Name: PutOuts, dtype: float64\n"
     ]
    },
    {
     "data": {
      "image/png": "[encoded data removed]",
      "text/plain": [
       "<Figure size 432x288 with 1 Axes>"
      ]
     },
     "metadata": {
      "needs_background": "light"
     },
     "output_type": "display_data"
    },
    {
     "name": "stdout",
     "output_type": "stream",
     "text": [
      "count   322.00\n",
      "mean    106.91\n",
      "std     136.85\n",
      "min       0.00\n",
      "5%        0.00\n",
      "10%       2.00\n",
      "20%       5.20\n",
      "30%       9.00\n",
      "40%      15.40\n",
      "50%      39.50\n",
      "60%      76.80\n",
      "70%     134.80\n",
      "80%     210.80\n",
      "90%     353.30\n",
      "95%     431.45\n",
      "99%     478.16\n",
      "100%    492.00\n",
      "max     492.00\n",
      "Name: Assists, dtype: float64\n"
     ]
    },
    {
     "data": {
      "image/png": "[encoded data removed]",
      "text/plain": [
       "<Figure size 432x288 with 1 Axes>"
      ]
     },
     "metadata": {
      "needs_background": "light"
     },
     "output_type": "display_data"
    },
    {
     "name": "stdout",
     "output_type": "stream",
     "text": [
      "count   322.00\n",
      "mean      8.04\n",
      "std       6.37\n",
      "min       0.00\n",
      "5%        0.00\n",
      "10%       1.00\n",
      "20%       3.00\n",
      "30%       4.00\n",
      "40%       5.00\n",
      "50%       6.00\n",
      "60%       8.00\n",
      "70%      10.00\n",
      "80%      13.00\n",
      "90%      17.00\n",
      "95%      20.00\n",
      "99%      25.79\n",
      "100%     32.00\n",
      "max      32.00\n",
      "Name: Errors, dtype: float64\n"
     ]
    },
    {
     "data": {
      "image/png": "[encoded data removed]",
      "text/plain": [
       "<Figure size 432x288 with 1 Axes>"
      ]
     },
     "metadata": {
      "needs_background": "light"
     },
     "output_type": "display_data"
    },
    {
     "name": "stdout",
     "output_type": "stream",
     "text": [
      "count    263.00\n",
      "mean     535.93\n",
      "std      451.12\n",
      "min       67.50\n",
      "5%        86.60\n",
      "10%      100.00\n",
      "20%      155.00\n",
      "30%      221.00\n",
      "40%      300.00\n",
      "50%      425.00\n",
      "60%      538.00\n",
      "70%      700.00\n",
      "80%      809.00\n",
      "90%     1048.67\n",
      "95%     1346.00\n",
      "99%     2032.89\n",
      "100%    2460.00\n",
      "max     2460.00\n",
      "Name: Salary, dtype: float64\n"
     ]
    },
    {
     "data": {
      "image/png": "[encoded data removed]",
      "text/plain": [
       "<Figure size 432x288 with 1 Axes>"
      ]
     },
     "metadata": {
      "needs_background": "light"
     },
     "output_type": "display_data"
    }
   ],
   "source": [
    "def numSummary(dataframe, numericalCol, plot=False):\n",
    "    quantiles = [0.05, 0.1, 0.2, 0.3, 0.4, 0.5, 0.6, 0.7, 0.8, 0.9, 0.95, 0.99, 1]\n",
    "    print(dataframe[numericalCol].describe(quantiles).T)\n",
    "    \n",
    "    if plot:\n",
    "        dataframe[numericalCol].hist()\n",
    "        plt.xlabel(numericalCol)\n",
    "        plt.title(numericalCol)\n",
    "        plt.show(block=True)\n",
    "\n",
    "for col in numCols:\n",
    "    numSummary(df, col, True)"
   ]
  },
  {
   "cell_type": "code",
   "execution_count": 8,
   "metadata": {},
   "outputs": [
    {
     "data": {
      "text/plain": [
       "4       4\n",
       "6       7\n",
       "7       9\n",
       "8      19\n",
       "17     16\n",
       "       ..\n",
       "294    11\n",
       "301    20\n",
       "309     9\n",
       "314    11\n",
       "315    15\n",
       "Name: Errors, Length: 69, dtype: int64"
      ]
     },
     "execution_count": 8,
     "metadata": {},
     "output_type": "execute_result"
    }
   ],
   "source": [
    "dfLowSalary = df[df['Salary'] < 200]\n",
    "dfLowSalary[\"Errors\"]"
   ]
  },
  {
   "cell_type": "code",
   "execution_count": 9,
   "metadata": {},
   "outputs": [
    {
     "data": {
      "text/plain": [
       "<AxesSubplot:xlabel='Salary', ylabel='Errors'>"
      ]
     },
     "execution_count": 9,
     "metadata": {},
     "output_type": "execute_result"
    },
    {
     "data": {
      "image/png": "[encoded data removed]",
      "text/plain": [
       "<Figure size 432x288 with 1 Axes>"
      ]
     },
     "metadata": {
      "needs_background": "light"
     },
     "output_type": "display_data"
    }
   ],
   "source": [
    "sns.scatterplot(x=\"Salary\", y=\"Errors\", data=dfLowSalary)"
   ]
  },
  {
   "cell_type": "markdown",
   "metadata": {},
   "source": [
    "# Hedef Değişken Analizi"
   ]
  },
  {
   "cell_type": "code",
   "execution_count": 10,
   "metadata": {},
   "outputs": [
    {
     "name": "stdout",
     "output_type": "stream",
     "text": [
      "         AtBat\n",
      "Salary        \n",
      "67.50   181.00\n",
      "68.00   209.00\n",
      "70.00   248.60\n",
      "75.00   236.40\n",
      "80.00   399.00\n",
      "...        ...\n",
      "1940.00 514.00\n",
      "1975.00 677.00\n",
      "2127.33  20.00\n",
      "2412.50 618.00\n",
      "2460.00 495.00\n",
      "\n",
      "[150 rows x 1 columns]\n",
      "\n",
      "\n",
      "          Hits\n",
      "Salary        \n",
      "67.50    41.00\n",
      "68.00    54.00\n",
      "70.00    57.40\n",
      "75.00    58.20\n",
      "80.00   102.00\n",
      "...        ...\n",
      "1940.00 144.00\n",
      "1975.00 238.00\n",
      "2127.33   1.00\n",
      "2412.50 200.00\n",
      "2460.00 151.00\n",
      "\n",
      "[150 rows x 1 columns]\n",
      "\n",
      "\n",
      "         HmRun\n",
      "Salary        \n",
      "67.50     1.00\n",
      "68.00     3.00\n",
      "70.00     3.20\n",
      "75.00     3.00\n",
      "80.00     3.00\n",
      "...        ...\n",
      "1940.00   0.00\n",
      "1975.00  31.00\n",
      "2127.33   0.00\n",
      "2412.50  20.00\n",
      "2460.00  17.00\n",
      "\n",
      "[150 rows x 1 columns]\n",
      "\n",
      "\n",
      "          Runs\n",
      "Salary        \n",
      "67.50    15.00\n",
      "68.00    25.00\n",
      "70.00    27.80\n",
      "75.00    25.20\n",
      "80.00    56.00\n",
      "...        ...\n",
      "1940.00  67.00\n",
      "1975.00 117.00\n",
      "2127.33   0.00\n",
      "2412.50  98.00\n",
      "2460.00  61.00\n",
      "\n",
      "[150 rows x 1 columns]\n",
      "\n",
      "\n",
      "           RBI\n",
      "Salary        \n",
      "67.50    21.00\n",
      "68.00    14.00\n",
      "70.00    22.40\n",
      "75.00    22.80\n",
      "80.00    34.00\n",
      "...        ...\n",
      "1940.00  54.00\n",
      "1975.00 113.00\n",
      "2127.33   0.00\n",
      "2412.50 110.00\n",
      "2460.00  84.00\n",
      "\n",
      "[150 rows x 1 columns]\n",
      "\n",
      "\n",
      "         Walks\n",
      "Salary        \n",
      "67.50    33.00\n",
      "68.00    12.00\n",
      "70.00    22.20\n",
      "75.00    21.60\n",
      "80.00    34.00\n",
      "...        ...\n",
      "1940.00  79.00\n",
      "1975.00  53.00\n",
      "2127.33   0.00\n",
      "2412.50  62.00\n",
      "2460.00  78.00\n",
      "\n",
      "[150 rows x 1 columns]\n",
      "\n",
      "\n",
      "         Years\n",
      "Salary        \n",
      "67.50     2.00\n",
      "68.00     1.00\n",
      "70.00     1.40\n",
      "75.00     2.00\n",
      "80.00     5.00\n",
      "...        ...\n",
      "1940.00   9.00\n",
      "1975.00   5.00\n",
      "2127.33   2.00\n",
      "2412.50  13.00\n",
      "2460.00  10.00\n",
      "\n",
      "[150 rows x 1 columns]\n",
      "\n",
      "\n",
      "         CAtBat\n",
      "Salary         \n",
      "67.50    232.00\n",
      "68.00    209.00\n",
      "70.00    256.80\n",
      "75.00    309.20\n",
      "80.00    670.00\n",
      "...         ...\n",
      "1940.00 4739.00\n",
      "1975.00 2223.00\n",
      "2127.33   41.00\n",
      "2412.50 7127.00\n",
      "2460.00 5624.00\n",
      "\n",
      "[150 rows x 1 columns]\n",
      "\n",
      "\n",
      "          CHits\n",
      "Salary         \n",
      "67.50     50.00\n",
      "68.00     54.00\n",
      "70.00     59.60\n",
      "75.00     73.60\n",
      "80.00    167.00\n",
      "...         ...\n",
      "1940.00 1169.00\n",
      "1975.00  737.00\n",
      "2127.33    9.00\n",
      "2412.50 2163.00\n",
      "2460.00 1679.00\n",
      "\n",
      "[150 rows x 1 columns]\n",
      "\n",
      "\n",
      "         CHmRun\n",
      "Salary         \n",
      "67.50      4.00\n",
      "68.00      3.00\n",
      "70.00      3.20\n",
      "75.00      3.60\n",
      "80.00      4.00\n",
      "...         ...\n",
      "1940.00   13.00\n",
      "1975.00   93.00\n",
      "2127.33    2.00\n",
      "2412.50  351.00\n",
      "2460.00  275.00\n",
      "\n",
      "[150 rows x 1 columns]\n",
      "\n",
      "\n",
      "          CRuns\n",
      "Salary         \n",
      "67.50     20.00\n",
      "68.00     25.00\n",
      "70.00     29.60\n",
      "75.00     33.00\n",
      "80.00     89.00\n",
      "...         ...\n",
      "1940.00  583.00\n",
      "1975.00  349.00\n",
      "2127.33    6.00\n",
      "2412.50 1104.00\n",
      "2460.00  884.00\n",
      "\n",
      "[150 rows x 1 columns]\n",
      "\n",
      "\n",
      "           CRBI\n",
      "Salary         \n",
      "67.50     29.00\n",
      "68.00     14.00\n",
      "70.00     23.20\n",
      "75.00     27.00\n",
      "80.00     48.00\n",
      "...         ...\n",
      "1940.00  374.00\n",
      "1975.00  401.00\n",
      "2127.33    7.00\n",
      "2412.50 1289.00\n",
      "2460.00 1015.00\n",
      "\n",
      "[150 rows x 1 columns]\n",
      "\n",
      "\n",
      "         CWalks\n",
      "Salary         \n",
      "67.50     45.00\n",
      "68.00     12.00\n",
      "70.00     23.60\n",
      "75.00     25.60\n",
      "80.00     54.00\n",
      "...         ...\n",
      "1940.00  528.00\n",
      "1975.00  171.00\n",
      "2127.33    4.00\n",
      "2412.50  564.00\n",
      "2460.00  709.00\n",
      "\n",
      "[150 rows x 1 columns]\n",
      "\n",
      "\n",
      "         PutOuts\n",
      "Salary          \n",
      "67.50     326.00\n",
      "68.00     102.00\n",
      "70.00      86.40\n",
      "75.00     210.20\n",
      "80.00     211.00\n",
      "...          ...\n",
      "1940.00   229.00\n",
      "1975.00  1377.00\n",
      "2127.33    78.00\n",
      "2412.50   330.00\n",
      "2460.00  1045.00\n",
      "\n",
      "[150 rows x 1 columns]\n",
      "\n",
      "\n",
      "         Assists\n",
      "Salary          \n",
      "67.50      29.00\n",
      "68.00       6.00\n",
      "70.00      82.20\n",
      "75.00     110.60\n",
      "80.00       9.00\n",
      "...          ...\n",
      "1940.00   453.00\n",
      "1975.00   100.00\n",
      "2127.33   220.00\n",
      "2412.50    16.00\n",
      "2460.00    88.00\n",
      "\n",
      "[150 rows x 1 columns]\n",
      "\n",
      "\n",
      "         Errors\n",
      "Salary         \n",
      "67.50      5.00\n",
      "68.00      3.00\n",
      "70.00     12.60\n",
      "75.00      8.60\n",
      "80.00      3.00\n",
      "...         ...\n",
      "1940.00   15.00\n",
      "1975.00    6.00\n",
      "2127.33    6.00\n",
      "2412.50    8.00\n",
      "2460.00   13.00\n",
      "\n",
      "[150 rows x 1 columns]\n",
      "\n",
      "\n",
      "         Salary\n",
      "Salary         \n",
      "67.50     67.50\n",
      "68.00     68.00\n",
      "70.00     70.00\n",
      "75.00     75.00\n",
      "80.00     80.00\n",
      "...         ...\n",
      "1940.00 1940.00\n",
      "1975.00 1975.00\n",
      "2127.33 2127.33\n",
      "2412.50 2412.50\n",
      "2460.00 2460.00\n",
      "\n",
      "[150 rows x 1 columns]\n",
      "\n",
      "\n"
     ]
    }
   ],
   "source": [
    "def targetSummaryWithNum(dataframe, target, numCol):\n",
    "    print(dataframe.groupby(target).agg({numCol: \"mean\"}), end=\"\\n\\n\\n\")\n",
    "for col in numCols:\n",
    "    targetSummaryWithNum(df, \"Salary\", col)"
   ]
  },
  {
   "cell_type": "code",
   "execution_count": 11,
   "metadata": {},
   "outputs": [
    {
     "name": "stdout",
     "output_type": "stream",
     "text": [
      "        TARGET_MEAN\n",
      "League             \n",
      "A            542.00\n",
      "N            529.12\n",
      "\n",
      "\n",
      "          TARGET_MEAN\n",
      "Division             \n",
      "E              624.27\n",
      "W              450.88\n",
      "\n",
      "\n",
      "           TARGET_MEAN\n",
      "NewLeague             \n",
      "A               537.11\n",
      "N               534.55\n",
      "\n",
      "\n"
     ]
    }
   ],
   "source": [
    "def targetSummaryWithCat(dataframe, target, numCol):\n",
    "    print(pd.DataFrame({\"TARGET_MEAN\": dataframe.groupby(numCol)[target].mean()}), end=\"\\n\\n\\n\")\n",
    "for col in catCols:\n",
    "    targetSummaryWithCat(df, \"Salary\", col)"
   ]
  },
  {
   "cell_type": "markdown",
   "metadata": {},
   "source": [
    "# Korelasyon Analizi"
   ]
  },
  {
   "cell_type": "code",
   "execution_count": 12,
   "metadata": {},
   "outputs": [
    {
     "data": {
      "text/html": [
       "<div>\n",
       "<style scoped>\n",
       "    .dataframe tbody tr th:only-of-type {\n",
       "        vertical-align: middle;\n",
       "    }\n",
       "\n",
       "    .dataframe tbody tr th {\n",
       "        vertical-align: top;\n",
       "    }\n",
       "\n",
       "    .dataframe thead th {\n",
       "        text-align: right;\n",
       "    }\n",
       "</style>\n",
       "<table border=\"1\" class=\"dataframe\">\n",
       "  <thead>\n",
       "    <tr style=\"text-align: right;\">\n",
       "      <th></th>\n",
       "      <th>AtBat</th>\n",
       "      <th>Hits</th>\n",
       "      <th>HmRun</th>\n",
       "      <th>Runs</th>\n",
       "      <th>RBI</th>\n",
       "      <th>Walks</th>\n",
       "      <th>Years</th>\n",
       "      <th>CAtBat</th>\n",
       "      <th>CHits</th>\n",
       "      <th>CHmRun</th>\n",
       "      <th>CRuns</th>\n",
       "      <th>CRBI</th>\n",
       "      <th>CWalks</th>\n",
       "      <th>PutOuts</th>\n",
       "      <th>Assists</th>\n",
       "      <th>Errors</th>\n",
       "      <th>Salary</th>\n",
       "    </tr>\n",
       "  </thead>\n",
       "  <tbody>\n",
       "    <tr>\n",
       "      <th>AtBat</th>\n",
       "      <td>1.00</td>\n",
       "      <td>0.97</td>\n",
       "      <td>0.59</td>\n",
       "      <td>0.91</td>\n",
       "      <td>0.82</td>\n",
       "      <td>0.67</td>\n",
       "      <td>0.05</td>\n",
       "      <td>0.24</td>\n",
       "      <td>0.25</td>\n",
       "      <td>0.24</td>\n",
       "      <td>0.27</td>\n",
       "      <td>0.24</td>\n",
       "      <td>0.17</td>\n",
       "      <td>0.32</td>\n",
       "      <td>0.35</td>\n",
       "      <td>0.35</td>\n",
       "      <td>0.39</td>\n",
       "    </tr>\n",
       "    <tr>\n",
       "      <th>Hits</th>\n",
       "      <td>0.97</td>\n",
       "      <td>1.00</td>\n",
       "      <td>0.56</td>\n",
       "      <td>0.92</td>\n",
       "      <td>0.81</td>\n",
       "      <td>0.64</td>\n",
       "      <td>0.04</td>\n",
       "      <td>0.23</td>\n",
       "      <td>0.26</td>\n",
       "      <td>0.20</td>\n",
       "      <td>0.26</td>\n",
       "      <td>0.23</td>\n",
       "      <td>0.15</td>\n",
       "      <td>0.31</td>\n",
       "      <td>0.32</td>\n",
       "      <td>0.31</td>\n",
       "      <td>0.44</td>\n",
       "    </tr>\n",
       "    <tr>\n",
       "      <th>HmRun</th>\n",
       "      <td>0.59</td>\n",
       "      <td>0.56</td>\n",
       "      <td>1.00</td>\n",
       "      <td>0.65</td>\n",
       "      <td>0.86</td>\n",
       "      <td>0.48</td>\n",
       "      <td>0.12</td>\n",
       "      <td>0.22</td>\n",
       "      <td>0.22</td>\n",
       "      <td>0.49</td>\n",
       "      <td>0.26</td>\n",
       "      <td>0.35</td>\n",
       "      <td>0.23</td>\n",
       "      <td>0.28</td>\n",
       "      <td>-0.11</td>\n",
       "      <td>0.04</td>\n",
       "      <td>0.34</td>\n",
       "    </tr>\n",
       "    <tr>\n",
       "      <th>Runs</th>\n",
       "      <td>0.91</td>\n",
       "      <td>0.92</td>\n",
       "      <td>0.65</td>\n",
       "      <td>1.00</td>\n",
       "      <td>0.80</td>\n",
       "      <td>0.73</td>\n",
       "      <td>0.00</td>\n",
       "      <td>0.19</td>\n",
       "      <td>0.20</td>\n",
       "      <td>0.23</td>\n",
       "      <td>0.25</td>\n",
       "      <td>0.21</td>\n",
       "      <td>0.18</td>\n",
       "      <td>0.28</td>\n",
       "      <td>0.22</td>\n",
       "      <td>0.24</td>\n",
       "      <td>0.42</td>\n",
       "    </tr>\n",
       "    <tr>\n",
       "      <th>RBI</th>\n",
       "      <td>0.82</td>\n",
       "      <td>0.81</td>\n",
       "      <td>0.86</td>\n",
       "      <td>0.80</td>\n",
       "      <td>1.00</td>\n",
       "      <td>0.62</td>\n",
       "      <td>0.15</td>\n",
       "      <td>0.29</td>\n",
       "      <td>0.31</td>\n",
       "      <td>0.44</td>\n",
       "      <td>0.32</td>\n",
       "      <td>0.39</td>\n",
       "      <td>0.25</td>\n",
       "      <td>0.34</td>\n",
       "      <td>0.11</td>\n",
       "      <td>0.19</td>\n",
       "      <td>0.45</td>\n",
       "    </tr>\n",
       "    <tr>\n",
       "      <th>Walks</th>\n",
       "      <td>0.67</td>\n",
       "      <td>0.64</td>\n",
       "      <td>0.48</td>\n",
       "      <td>0.73</td>\n",
       "      <td>0.62</td>\n",
       "      <td>1.00</td>\n",
       "      <td>0.14</td>\n",
       "      <td>0.28</td>\n",
       "      <td>0.28</td>\n",
       "      <td>0.33</td>\n",
       "      <td>0.34</td>\n",
       "      <td>0.31</td>\n",
       "      <td>0.42</td>\n",
       "      <td>0.30</td>\n",
       "      <td>0.15</td>\n",
       "      <td>0.13</td>\n",
       "      <td>0.44</td>\n",
       "    </tr>\n",
       "    <tr>\n",
       "      <th>Years</th>\n",
       "      <td>0.05</td>\n",
       "      <td>0.04</td>\n",
       "      <td>0.12</td>\n",
       "      <td>0.00</td>\n",
       "      <td>0.15</td>\n",
       "      <td>0.14</td>\n",
       "      <td>1.00</td>\n",
       "      <td>0.92</td>\n",
       "      <td>0.90</td>\n",
       "      <td>0.73</td>\n",
       "      <td>0.88</td>\n",
       "      <td>0.87</td>\n",
       "      <td>0.84</td>\n",
       "      <td>-0.00</td>\n",
       "      <td>-0.08</td>\n",
       "      <td>-0.16</td>\n",
       "      <td>0.40</td>\n",
       "    </tr>\n",
       "    <tr>\n",
       "      <th>CAtBat</th>\n",
       "      <td>0.24</td>\n",
       "      <td>0.23</td>\n",
       "      <td>0.22</td>\n",
       "      <td>0.19</td>\n",
       "      <td>0.29</td>\n",
       "      <td>0.28</td>\n",
       "      <td>0.92</td>\n",
       "      <td>1.00</td>\n",
       "      <td>1.00</td>\n",
       "      <td>0.80</td>\n",
       "      <td>0.98</td>\n",
       "      <td>0.95</td>\n",
       "      <td>0.91</td>\n",
       "      <td>0.06</td>\n",
       "      <td>0.00</td>\n",
       "      <td>-0.07</td>\n",
       "      <td>0.53</td>\n",
       "    </tr>\n",
       "    <tr>\n",
       "      <th>CHits</th>\n",
       "      <td>0.25</td>\n",
       "      <td>0.26</td>\n",
       "      <td>0.22</td>\n",
       "      <td>0.20</td>\n",
       "      <td>0.31</td>\n",
       "      <td>0.28</td>\n",
       "      <td>0.90</td>\n",
       "      <td>1.00</td>\n",
       "      <td>1.00</td>\n",
       "      <td>0.78</td>\n",
       "      <td>0.98</td>\n",
       "      <td>0.95</td>\n",
       "      <td>0.89</td>\n",
       "      <td>0.08</td>\n",
       "      <td>-0.00</td>\n",
       "      <td>-0.06</td>\n",
       "      <td>0.55</td>\n",
       "    </tr>\n",
       "    <tr>\n",
       "      <th>CHmRun</th>\n",
       "      <td>0.24</td>\n",
       "      <td>0.20</td>\n",
       "      <td>0.49</td>\n",
       "      <td>0.23</td>\n",
       "      <td>0.44</td>\n",
       "      <td>0.33</td>\n",
       "      <td>0.73</td>\n",
       "      <td>0.80</td>\n",
       "      <td>0.78</td>\n",
       "      <td>1.00</td>\n",
       "      <td>0.82</td>\n",
       "      <td>0.93</td>\n",
       "      <td>0.80</td>\n",
       "      <td>0.11</td>\n",
       "      <td>-0.16</td>\n",
       "      <td>-0.14</td>\n",
       "      <td>0.52</td>\n",
       "    </tr>\n",
       "    <tr>\n",
       "      <th>CRuns</th>\n",
       "      <td>0.27</td>\n",
       "      <td>0.26</td>\n",
       "      <td>0.26</td>\n",
       "      <td>0.25</td>\n",
       "      <td>0.32</td>\n",
       "      <td>0.34</td>\n",
       "      <td>0.88</td>\n",
       "      <td>0.98</td>\n",
       "      <td>0.98</td>\n",
       "      <td>0.82</td>\n",
       "      <td>1.00</td>\n",
       "      <td>0.94</td>\n",
       "      <td>0.93</td>\n",
       "      <td>0.06</td>\n",
       "      <td>-0.02</td>\n",
       "      <td>-0.08</td>\n",
       "      <td>0.56</td>\n",
       "    </tr>\n",
       "    <tr>\n",
       "      <th>CRBI</th>\n",
       "      <td>0.24</td>\n",
       "      <td>0.23</td>\n",
       "      <td>0.35</td>\n",
       "      <td>0.21</td>\n",
       "      <td>0.39</td>\n",
       "      <td>0.31</td>\n",
       "      <td>0.87</td>\n",
       "      <td>0.95</td>\n",
       "      <td>0.95</td>\n",
       "      <td>0.93</td>\n",
       "      <td>0.94</td>\n",
       "      <td>1.00</td>\n",
       "      <td>0.88</td>\n",
       "      <td>0.11</td>\n",
       "      <td>-0.08</td>\n",
       "      <td>-0.10</td>\n",
       "      <td>0.57</td>\n",
       "    </tr>\n",
       "    <tr>\n",
       "      <th>CWalks</th>\n",
       "      <td>0.17</td>\n",
       "      <td>0.15</td>\n",
       "      <td>0.23</td>\n",
       "      <td>0.18</td>\n",
       "      <td>0.25</td>\n",
       "      <td>0.42</td>\n",
       "      <td>0.84</td>\n",
       "      <td>0.91</td>\n",
       "      <td>0.89</td>\n",
       "      <td>0.80</td>\n",
       "      <td>0.93</td>\n",
       "      <td>0.88</td>\n",
       "      <td>1.00</td>\n",
       "      <td>0.06</td>\n",
       "      <td>-0.04</td>\n",
       "      <td>-0.12</td>\n",
       "      <td>0.49</td>\n",
       "    </tr>\n",
       "    <tr>\n",
       "      <th>PutOuts</th>\n",
       "      <td>0.32</td>\n",
       "      <td>0.31</td>\n",
       "      <td>0.28</td>\n",
       "      <td>0.28</td>\n",
       "      <td>0.34</td>\n",
       "      <td>0.30</td>\n",
       "      <td>-0.00</td>\n",
       "      <td>0.06</td>\n",
       "      <td>0.08</td>\n",
       "      <td>0.11</td>\n",
       "      <td>0.06</td>\n",
       "      <td>0.11</td>\n",
       "      <td>0.06</td>\n",
       "      <td>1.00</td>\n",
       "      <td>-0.03</td>\n",
       "      <td>0.11</td>\n",
       "      <td>0.30</td>\n",
       "    </tr>\n",
       "    <tr>\n",
       "      <th>Assists</th>\n",
       "      <td>0.35</td>\n",
       "      <td>0.32</td>\n",
       "      <td>-0.11</td>\n",
       "      <td>0.22</td>\n",
       "      <td>0.11</td>\n",
       "      <td>0.15</td>\n",
       "      <td>-0.08</td>\n",
       "      <td>0.00</td>\n",
       "      <td>-0.00</td>\n",
       "      <td>-0.16</td>\n",
       "      <td>-0.02</td>\n",
       "      <td>-0.08</td>\n",
       "      <td>-0.04</td>\n",
       "      <td>-0.03</td>\n",
       "      <td>1.00</td>\n",
       "      <td>0.71</td>\n",
       "      <td>0.03</td>\n",
       "    </tr>\n",
       "    <tr>\n",
       "      <th>Errors</th>\n",
       "      <td>0.35</td>\n",
       "      <td>0.31</td>\n",
       "      <td>0.04</td>\n",
       "      <td>0.24</td>\n",
       "      <td>0.19</td>\n",
       "      <td>0.13</td>\n",
       "      <td>-0.16</td>\n",
       "      <td>-0.07</td>\n",
       "      <td>-0.06</td>\n",
       "      <td>-0.14</td>\n",
       "      <td>-0.08</td>\n",
       "      <td>-0.10</td>\n",
       "      <td>-0.12</td>\n",
       "      <td>0.11</td>\n",
       "      <td>0.71</td>\n",
       "      <td>1.00</td>\n",
       "      <td>-0.01</td>\n",
       "    </tr>\n",
       "    <tr>\n",
       "      <th>Salary</th>\n",
       "      <td>0.39</td>\n",
       "      <td>0.44</td>\n",
       "      <td>0.34</td>\n",
       "      <td>0.42</td>\n",
       "      <td>0.45</td>\n",
       "      <td>0.44</td>\n",
       "      <td>0.40</td>\n",
       "      <td>0.53</td>\n",
       "      <td>0.55</td>\n",
       "      <td>0.52</td>\n",
       "      <td>0.56</td>\n",
       "      <td>0.57</td>\n",
       "      <td>0.49</td>\n",
       "      <td>0.30</td>\n",
       "      <td>0.03</td>\n",
       "      <td>-0.01</td>\n",
       "      <td>1.00</td>\n",
       "    </tr>\n",
       "  </tbody>\n",
       "</table>\n",
       "</div>"
      ],
      "text/plain": [
       "         AtBat  Hits  HmRun  Runs  RBI  Walks  Years  CAtBat  CHits  CHmRun  \\\n",
       "AtBat     1.00  0.97   0.59  0.91 0.82   0.67   0.05    0.24   0.25    0.24   \n",
       "Hits      0.97  1.00   0.56  0.92 0.81   0.64   0.04    0.23   0.26    0.20   \n",
       "HmRun     0.59  0.56   1.00  0.65 0.86   0.48   0.12    0.22   0.22    0.49   \n",
       "Runs      0.91  0.92   0.65  1.00 0.80   0.73   0.00    0.19   0.20    0.23   \n",
       "RBI       0.82  0.81   0.86  0.80 1.00   0.62   0.15    0.29   0.31    0.44   \n",
       "Walks     0.67  0.64   0.48  0.73 0.62   1.00   0.14    0.28   0.28    0.33   \n",
       "Years     0.05  0.04   0.12  0.00 0.15   0.14   1.00    0.92   0.90    0.73   \n",
       "CAtBat    0.24  0.23   0.22  0.19 0.29   0.28   0.92    1.00   1.00    0.80   \n",
       "CHits     0.25  0.26   0.22  0.20 0.31   0.28   0.90    1.00   1.00    0.78   \n",
       "CHmRun    0.24  0.20   0.49  0.23 0.44   0.33   0.73    0.80   0.78    1.00   \n",
       "CRuns     0.27  0.26   0.26  0.25 0.32   0.34   0.88    0.98   0.98    0.82   \n",
       "CRBI      0.24  0.23   0.35  0.21 0.39   0.31   0.87    0.95   0.95    0.93   \n",
       "CWalks    0.17  0.15   0.23  0.18 0.25   0.42   0.84    0.91   0.89    0.80   \n",
       "PutOuts   0.32  0.31   0.28  0.28 0.34   0.30  -0.00    0.06   0.08    0.11   \n",
       "Assists   0.35  0.32  -0.11  0.22 0.11   0.15  -0.08    0.00  -0.00   -0.16   \n",
       "Errors    0.35  0.31   0.04  0.24 0.19   0.13  -0.16   -0.07  -0.06   -0.14   \n",
       "Salary    0.39  0.44   0.34  0.42 0.45   0.44   0.40    0.53   0.55    0.52   \n",
       "\n",
       "         CRuns  CRBI  CWalks  PutOuts  Assists  Errors  Salary  \n",
       "AtBat     0.27  0.24    0.17     0.32     0.35    0.35    0.39  \n",
       "Hits      0.26  0.23    0.15     0.31     0.32    0.31    0.44  \n",
       "HmRun     0.26  0.35    0.23     0.28    -0.11    0.04    0.34  \n",
       "Runs      0.25  0.21    0.18     0.28     0.22    0.24    0.42  \n",
       "RBI       0.32  0.39    0.25     0.34     0.11    0.19    0.45  \n",
       "Walks     0.34  0.31    0.42     0.30     0.15    0.13    0.44  \n",
       "Years     0.88  0.87    0.84    -0.00    -0.08   -0.16    0.40  \n",
       "CAtBat    0.98  0.95    0.91     0.06     0.00   -0.07    0.53  \n",
       "CHits     0.98  0.95    0.89     0.08    -0.00   -0.06    0.55  \n",
       "CHmRun    0.82  0.93    0.80     0.11    -0.16   -0.14    0.52  \n",
       "CRuns     1.00  0.94    0.93     0.06    -0.02   -0.08    0.56  \n",
       "CRBI      0.94  1.00    0.88     0.11    -0.08   -0.10    0.57  \n",
       "CWalks    0.93  0.88    1.00     0.06    -0.04   -0.12    0.49  \n",
       "PutOuts   0.06  0.11    0.06     1.00    -0.03    0.11    0.30  \n",
       "Assists  -0.02 -0.08   -0.04    -0.03     1.00    0.71    0.03  \n",
       "Errors   -0.08 -0.10   -0.12     0.11     0.71    1.00   -0.01  \n",
       "Salary    0.56  0.57    0.49     0.30     0.03   -0.01    1.00  "
      ]
     },
     "execution_count": 12,
     "metadata": {},
     "output_type": "execute_result"
    }
   ],
   "source": [
    "df.corr()"
   ]
  },
  {
   "cell_type": "code",
   "execution_count": 13,
   "metadata": {},
   "outputs": [
    {
     "data": {
      "text/plain": [
       "['Hits', 'Runs', 'CAtBat', 'CHits', 'CRuns', 'CRBI', 'CWalks']"
      ]
     },
     "execution_count": 13,
     "metadata": {},
     "output_type": "execute_result"
    }
   ],
   "source": [
    "def highCorrelatedCols(dataframe,plot=False,corrTh=0.90):\n",
    "    corr=dataframe.corr()\n",
    "    corrMatrix=corr.abs()\n",
    "    upperTriangleMatrix = corrMatrix.where(np.triu(np.ones(corrMatrix.shape), k=1).astype(np.bool))\n",
    "    dropList = [col for col in upperTriangleMatrix.columns if any(upperTriangleMatrix[col] > 0.90)]\n",
    "    if plot:\n",
    "        import seaborn as sns\n",
    "        import matplotlib.pyplot as plt\n",
    "        sns.set(rc={\"figure.figsize\": (15, 15)})\n",
    "        sns.heatmap(corr, cmap=\"RdBu\")\n",
    "        plt.show()\n",
    "    return dropList\n",
    "\n",
    "dropList = highCorrelatedCols(df)\n",
    "dropList\n"
   ]
  },
  {
   "cell_type": "code",
   "execution_count": 14,
   "metadata": {},
   "outputs": [
    {
     "data": {
      "image/png": "[encoded data removed]",
      "text/plain": [
       "<Figure size 1296x936 with 2 Axes>"
      ]
     },
     "metadata": {
      "needs_background": "light"
     },
     "output_type": "display_data"
    }
   ],
   "source": [
    "f, ax = plt.subplots(figsize=[18, 13])\n",
    "sns.heatmap(df[numCols].corr(), annot=True, fmt=\".2f\", ax=ax, cmap=\"magma\")\n",
    "ax.set_title(\"Correlation Matrix\", fontsize=20)\n",
    "plt.show()"
   ]
  },
  {
   "cell_type": "markdown",
   "metadata": {},
   "source": [
    "# Eksik Gözlemlerin Analizi"
   ]
  },
  {
   "cell_type": "code",
   "execution_count": 15,
   "metadata": {},
   "outputs": [
    {
     "data": {
      "text/plain": [
       "AtBat        False\n",
       "Hits         False\n",
       "HmRun        False\n",
       "Runs         False\n",
       "RBI          False\n",
       "Walks        False\n",
       "Years        False\n",
       "CAtBat       False\n",
       "CHits        False\n",
       "CHmRun       False\n",
       "CRuns        False\n",
       "CRBI         False\n",
       "CWalks       False\n",
       "League       False\n",
       "Division     False\n",
       "PutOuts      False\n",
       "Assists      False\n",
       "Errors       False\n",
       "Salary        True\n",
       "NewLeague    False\n",
       "dtype: bool"
      ]
     },
     "execution_count": 15,
     "metadata": {},
     "output_type": "execute_result"
    }
   ],
   "source": [
    "df.isnull().any()"
   ]
  },
  {
   "cell_type": "code",
   "execution_count": 16,
   "metadata": {},
   "outputs": [
    {
     "name": "stdout",
     "output_type": "stream",
     "text": [
      "        n_miss  ratio\n",
      "Salary      59  18.32\n"
     ]
    }
   ],
   "source": [
    "def missingValuesTable(dataframe,naName = False):\n",
    "    naColums = [col for col in dataframe.columns if dataframe[col].isnull().sum() > 0]\n",
    "    nMiss = dataframe[naColums].isnull().sum().sort_values(ascending=False)\n",
    "    ratio = (dataframe[naColums].isnull().sum() / dataframe.shape[0] * 100).sort_values(ascending=False)\n",
    "    missingDf = pd.concat([nMiss, np.round(ratio, 2)], axis=1, keys=['n_miss', 'ratio'])\n",
    "    print(missingDf,end='\\n')\n",
    "    if naName:\n",
    "        return naColums\n",
    "\n",
    "naColumns = missingValuesTable(df,True)\n"
   ]
  },
  {
   "cell_type": "code",
   "execution_count": 17,
   "metadata": {},
   "outputs": [],
   "source": [
    "imputer = KNNImputer(n_neighbors=5)"
   ]
  },
  {
   "cell_type": "code",
   "execution_count": 18,
   "metadata": {},
   "outputs": [
    {
     "data": {
      "text/html": [
       "<div>\n",
       "<style scoped>\n",
       "    .dataframe tbody tr th:only-of-type {\n",
       "        vertical-align: middle;\n",
       "    }\n",
       "\n",
       "    .dataframe tbody tr th {\n",
       "        vertical-align: top;\n",
       "    }\n",
       "\n",
       "    .dataframe thead th {\n",
       "        text-align: right;\n",
       "    }\n",
       "</style>\n",
       "<table border=\"1\" class=\"dataframe\">\n",
       "  <thead>\n",
       "    <tr style=\"text-align: right;\">\n",
       "      <th></th>\n",
       "      <th>AtBat</th>\n",
       "      <th>Hits</th>\n",
       "      <th>HmRun</th>\n",
       "      <th>Runs</th>\n",
       "      <th>RBI</th>\n",
       "      <th>Walks</th>\n",
       "      <th>Years</th>\n",
       "      <th>CAtBat</th>\n",
       "      <th>CHits</th>\n",
       "      <th>CHmRun</th>\n",
       "      <th>CRuns</th>\n",
       "      <th>CRBI</th>\n",
       "      <th>CWalks</th>\n",
       "      <th>League</th>\n",
       "      <th>Division</th>\n",
       "      <th>PutOuts</th>\n",
       "      <th>Assists</th>\n",
       "      <th>Errors</th>\n",
       "      <th>Salary</th>\n",
       "      <th>NewLeague</th>\n",
       "    </tr>\n",
       "  </thead>\n",
       "  <tbody>\n",
       "    <tr>\n",
       "      <th>0</th>\n",
       "      <td>293.00</td>\n",
       "      <td>66.00</td>\n",
       "      <td>1.00</td>\n",
       "      <td>30.00</td>\n",
       "      <td>29.00</td>\n",
       "      <td>14.00</td>\n",
       "      <td>1.00</td>\n",
       "      <td>293.00</td>\n",
       "      <td>66.00</td>\n",
       "      <td>1.00</td>\n",
       "      <td>30.00</td>\n",
       "      <td>29.00</td>\n",
       "      <td>14.00</td>\n",
       "      <td>A</td>\n",
       "      <td>E</td>\n",
       "      <td>446.00</td>\n",
       "      <td>33.00</td>\n",
       "      <td>20.00</td>\n",
       "      <td>84.50</td>\n",
       "      <td>A</td>\n",
       "    </tr>\n",
       "    <tr>\n",
       "      <th>1</th>\n",
       "      <td>315.00</td>\n",
       "      <td>81.00</td>\n",
       "      <td>7.00</td>\n",
       "      <td>24.00</td>\n",
       "      <td>38.00</td>\n",
       "      <td>39.00</td>\n",
       "      <td>14.00</td>\n",
       "      <td>3449.00</td>\n",
       "      <td>835.00</td>\n",
       "      <td>69.00</td>\n",
       "      <td>321.00</td>\n",
       "      <td>414.00</td>\n",
       "      <td>375.00</td>\n",
       "      <td>N</td>\n",
       "      <td>W</td>\n",
       "      <td>632.00</td>\n",
       "      <td>43.00</td>\n",
       "      <td>10.00</td>\n",
       "      <td>475.00</td>\n",
       "      <td>N</td>\n",
       "    </tr>\n",
       "    <tr>\n",
       "      <th>2</th>\n",
       "      <td>479.00</td>\n",
       "      <td>130.00</td>\n",
       "      <td>18.00</td>\n",
       "      <td>66.00</td>\n",
       "      <td>72.00</td>\n",
       "      <td>76.00</td>\n",
       "      <td>3.00</td>\n",
       "      <td>1624.00</td>\n",
       "      <td>457.00</td>\n",
       "      <td>63.00</td>\n",
       "      <td>224.00</td>\n",
       "      <td>266.00</td>\n",
       "      <td>263.00</td>\n",
       "      <td>A</td>\n",
       "      <td>W</td>\n",
       "      <td>880.00</td>\n",
       "      <td>82.00</td>\n",
       "      <td>14.00</td>\n",
       "      <td>480.00</td>\n",
       "      <td>A</td>\n",
       "    </tr>\n",
       "    <tr>\n",
       "      <th>3</th>\n",
       "      <td>496.00</td>\n",
       "      <td>141.00</td>\n",
       "      <td>20.00</td>\n",
       "      <td>65.00</td>\n",
       "      <td>78.00</td>\n",
       "      <td>37.00</td>\n",
       "      <td>11.00</td>\n",
       "      <td>5628.00</td>\n",
       "      <td>1575.00</td>\n",
       "      <td>225.00</td>\n",
       "      <td>828.00</td>\n",
       "      <td>838.00</td>\n",
       "      <td>354.00</td>\n",
       "      <td>N</td>\n",
       "      <td>E</td>\n",
       "      <td>200.00</td>\n",
       "      <td>11.00</td>\n",
       "      <td>3.00</td>\n",
       "      <td>500.00</td>\n",
       "      <td>N</td>\n",
       "    </tr>\n",
       "    <tr>\n",
       "      <th>4</th>\n",
       "      <td>321.00</td>\n",
       "      <td>87.00</td>\n",
       "      <td>10.00</td>\n",
       "      <td>39.00</td>\n",
       "      <td>42.00</td>\n",
       "      <td>30.00</td>\n",
       "      <td>2.00</td>\n",
       "      <td>396.00</td>\n",
       "      <td>101.00</td>\n",
       "      <td>12.00</td>\n",
       "      <td>48.00</td>\n",
       "      <td>46.00</td>\n",
       "      <td>33.00</td>\n",
       "      <td>N</td>\n",
       "      <td>E</td>\n",
       "      <td>805.00</td>\n",
       "      <td>40.00</td>\n",
       "      <td>4.00</td>\n",
       "      <td>91.50</td>\n",
       "      <td>N</td>\n",
       "    </tr>\n",
       "  </tbody>\n",
       "</table>\n",
       "</div>"
      ],
      "text/plain": [
       "   AtBat   Hits  HmRun  Runs   RBI  Walks  Years  CAtBat   CHits  CHmRun  \\\n",
       "0 293.00  66.00   1.00 30.00 29.00  14.00   1.00  293.00   66.00    1.00   \n",
       "1 315.00  81.00   7.00 24.00 38.00  39.00  14.00 3449.00  835.00   69.00   \n",
       "2 479.00 130.00  18.00 66.00 72.00  76.00   3.00 1624.00  457.00   63.00   \n",
       "3 496.00 141.00  20.00 65.00 78.00  37.00  11.00 5628.00 1575.00  225.00   \n",
       "4 321.00  87.00  10.00 39.00 42.00  30.00   2.00  396.00  101.00   12.00   \n",
       "\n",
       "   CRuns   CRBI  CWalks League Division  PutOuts  Assists  Errors  Salary  \\\n",
       "0  30.00  29.00   14.00      A        E   446.00    33.00   20.00   84.50   \n",
       "1 321.00 414.00  375.00      N        W   632.00    43.00   10.00  475.00   \n",
       "2 224.00 266.00  263.00      A        W   880.00    82.00   14.00  480.00   \n",
       "3 828.00 838.00  354.00      N        E   200.00    11.00    3.00  500.00   \n",
       "4  48.00  46.00   33.00      N        E   805.00    40.00    4.00   91.50   \n",
       "\n",
       "  NewLeague  \n",
       "0         A  \n",
       "1         N  \n",
       "2         A  \n",
       "3         N  \n",
       "4         N  "
      ]
     },
     "execution_count": 18,
     "metadata": {},
     "output_type": "execute_result"
    }
   ],
   "source": [
    "df[numCols] = pd.DataFrame(imputer.fit_transform(df[numCols]), columns=numCols)\n",
    "df.head()"
   ]
  },
  {
   "cell_type": "markdown",
   "metadata": {},
   "source": [
    "# Aykırı Değer Analizi"
   ]
  },
  {
   "cell_type": "code",
   "execution_count": 47,
   "metadata": {},
   "outputs": [
    {
     "name": "stdout",
     "output_type": "stream",
     "text": [
      "ATBAT False\n",
      "HITS False\n",
      "HMRUN False\n",
      "RUNS False\n",
      "RBI False\n",
      "WALKS False\n",
      "YEARS False\n",
      "CATBAT False\n",
      "CHITS False\n",
      "CHMRUN False\n",
      "CRUNS False\n",
      "CRBI False\n",
      "CWALKS False\n",
      "PUTOUTS False\n",
      "ASSISTS False\n",
      "ERRORS False\n",
      "SALARY False\n",
      "NEW_CAREER_YEARS False\n",
      "NEW_RUNS_ATBAT False\n",
      "NEW_ERRORS_RBI False\n",
      "NEW_RUNS_YEARS False\n"
     ]
    }
   ],
   "source": [
    "def outlierThresholds(dataframe, colName, q1=0.25, q3=0.75):\n",
    "    quartile1 = dataframe[colName].quantile(q1)\n",
    "    quartile3 = dataframe[colName].quantile(q3)\n",
    "    interquantileRange = quartile3 - quartile1\n",
    "    upLimit = quartile3 + 1.5 * interquantileRange\n",
    "    lowLimit = quartile1 - 1.5 * interquantileRange\n",
    "    return lowLimit, upLimit\n",
    "\n",
    "def checkOutlier(dataframe, colName):\n",
    "    lowLimit, upLimit = outlierThresholds(dataframe, colName)\n",
    "    if dataframe[(dataframe[colName] > upLimit) | (dataframe[colName] < lowLimit)].any(axis=None):\n",
    "        return True\n",
    "    else:\n",
    "        return False\n",
    "def replaceWithThresholds(dataframe, colName):\n",
    "    low, up = outlierThresholds(dataframe, colName)\n",
    "\n",
    "    dataframe.loc[dataframe[colName] > up, colName] = up\n",
    "    dataframe.loc[dataframe[colName] < low, colName] = low\n",
    "\n",
    "for col in numCols:\n",
    "    print(col,checkOutlier(df, col))\n",
    "    if checkOutlier(df, col):\n",
    "        replaceWithThresholds(df, col)"
   ]
  },
  {
   "cell_type": "code",
   "execution_count": 20,
   "metadata": {},
   "outputs": [
    {
     "data": {
      "image/png": "[encoded data removed]",
      "text/plain": [
       "<Figure size 432x288 with 1 Axes>"
      ]
     },
     "metadata": {
      "needs_background": "light"
     },
     "output_type": "display_data"
    },
    {
     "name": "stdout",
     "output_type": "stream",
     "text": [
      "[-4.95571311 -2.93262983 -2.02795011 -2.012755   -1.98343109 -1.83047826\n",
      " -1.39717115 -1.36378404 -1.36201942 -1.35779008]\n",
      "th: -2.027950112474544\n",
      "(2, 20)\n"
     ]
    }
   ],
   "source": [
    "clf=LocalOutlierFactor(n_neighbors=20)\n",
    "clf.fit_predict(df[numCols])\n",
    "df_scores = clf.negative_outlier_factor_\n",
    "scores = pd.DataFrame(np.sort(df_scores))\n",
    "scores.plot(stacked=True,xlim=[0,50],style=\".-\")\n",
    "plt.show()\n",
    "print(np.sort(df_scores)[0:10])\n",
    "th = np.sort(df_scores)[2]\n",
    "print(f'th: {th}')\n",
    "print(df[df_scores < th].shape)"
   ]
  },
  {
   "cell_type": "code",
   "execution_count": null,
   "metadata": {},
   "outputs": [],
   "source": [
    "df[df_scores < th].index"
   ]
  },
  {
   "cell_type": "code",
   "execution_count": null,
   "metadata": {},
   "outputs": [],
   "source": [
    "df.drop(axis=0, labels=df[df_scores < th].index, inplace=True)"
   ]
  },
  {
   "cell_type": "markdown",
   "metadata": {},
   "source": [
    "# Base Model Kurulumu\n"
   ]
  },
  {
   "cell_type": "code",
   "execution_count": 26,
   "metadata": {},
   "outputs": [
    {
     "data": {
      "text/plain": [
       "0.6750230821350279"
      ]
     },
     "execution_count": 26,
     "metadata": {},
     "output_type": "execute_result"
    }
   ],
   "source": [
    "dff = df.copy()\n",
    "def one_hot_encoder(dataframe, categoricalCols, drop_first=False):\n",
    "    dataframe = pd.get_dummies(dataframe, columns=categoricalCols, drop_first=drop_first)\n",
    "    return dataframe\n",
    "\n",
    "\n",
    "dff = one_hot_encoder(dff, catCols, drop_first=True)\n",
    "y = dff[\"Salary\"]\n",
    "X = dff.drop([\"Salary\"], axis=1)\n",
    "\n",
    "X_train, X_test, y_train, y_test = train_test_split(X, y, test_size=0.30, random_state=159)\n",
    "\n",
    "lin_model = LinearRegression().fit(X_train, y_train)\n",
    "y_pred = lin_model.predict(X_test)\n",
    "\n",
    "lin_model.score(X_test, y_test)\n"
   ]
  },
  {
   "cell_type": "code",
   "execution_count": 27,
   "metadata": {},
   "outputs": [
    {
     "data": {
      "text/plain": [
       "229.08174661146833"
      ]
     },
     "execution_count": 27,
     "metadata": {},
     "output_type": "execute_result"
    }
   ],
   "source": [
    "# Train RMSE\n",
    "yPred = lin_model.predict(X_train)\n",
    "np.sqrt((mean_squared_error(y_train, yPred)))"
   ]
  },
  {
   "cell_type": "code",
   "execution_count": 28,
   "metadata": {},
   "outputs": [
    {
     "data": {
      "text/plain": [
       "253.59961072567535"
      ]
     },
     "execution_count": 28,
     "metadata": {},
     "output_type": "execute_result"
    }
   ],
   "source": [
    "# Test RMSE\n",
    "yPred = lin_model.predict(X_test)\n",
    "np.sqrt((mean_squared_error(y_test, yPred)))"
   ]
  },
  {
   "cell_type": "code",
   "execution_count": 29,
   "metadata": {},
   "outputs": [
    {
     "data": {
      "text/plain": [
       "0.5659626989283189"
      ]
     },
     "execution_count": 29,
     "metadata": {},
     "output_type": "execute_result"
    }
   ],
   "source": [
    "# Train RKARE\n",
    "lin_model.score(X_train, y_train)"
   ]
  },
  {
   "cell_type": "code",
   "execution_count": 30,
   "metadata": {},
   "outputs": [
    {
     "data": {
      "text/plain": [
       "0.6750230821350279"
      ]
     },
     "execution_count": 30,
     "metadata": {},
     "output_type": "execute_result"
    }
   ],
   "source": [
    "# Test RKARE\n",
    "lin_model.score(X_test, y_test)"
   ]
  },
  {
   "cell_type": "markdown",
   "metadata": {},
   "source": [
    "# Özellik Çıkarımı"
   ]
  },
  {
   "cell_type": "code",
   "execution_count": 31,
   "metadata": {},
   "outputs": [
    {
     "name": "stdout",
     "output_type": "stream",
     "text": [
      "Observations: 320\n",
      "Variables: 26\n",
      "catCols: 5\n",
      "numCols: 21\n",
      "catButCar: 0\n",
      "numButCat: 1\n"
     ]
    }
   ],
   "source": [
    "df.columns = [col.upper() for col in df.columns]\n",
    "# Oyuncunun Tecrübe Durumu\n",
    "df[\"NEW_YEARS_CAT\"] = pd.cut(x=df[\"YEARS\"], bins=[0, 5, 10, 15], labels=[\"rookie\", \"experienced\", \"veteran\"])\n",
    "df['NEW_CAREER_YEARS'] = (df['CATBAT'] + df['CHITS'] + df['CHMRUN'] + df['CRUNS'] + df['CRBI'] + df['CWALKS']) / df['YEARS']\n",
    "# Oyuncunun kariyeri boyunca yaptığı başarılı işlerin oynadığı süreye göre ortalaması\n",
    "# Oyuncunun home run puanı alabilme kabiliyeti\n",
    "df.loc[df['HMRUN'] >= 10, 'NEW_HMRUN_CAT'] = 'homerunner'\n",
    "df.loc[df['HMRUN'] < 10, 'NEW_HMRUN_CAT'] = 'not_homerunner'\n",
    "# Oyuncunun 1986-1987 yıllarındaki vuruşlarını skora çevirme oranı\n",
    "df['NEW_RUNS_ATBAT'] = df['RUNS'] / df['ATBAT']\n",
    "\n",
    "# Oyuncunun 1986-1987 yıllarındaki net hata katkısı\n",
    "df['NEW_ERRORS_RBI'] = df['WALKS'] - df['ERRORS']\n",
    "# Oyuncunun tecrübe ve takıma katkısının çarpımı\n",
    "df['NEW_RUNS_YEARS'] = df['RUNS'] * df['YEARS']\n",
    "catCols, numCols, catButCar = grabColNames(df)"
   ]
  },
  {
   "cell_type": "markdown",
   "metadata": {},
   "source": [
    "# Encoding"
   ]
  },
  {
   "cell_type": "code",
   "execution_count": 32,
   "metadata": {},
   "outputs": [
    {
     "data": {
      "text/plain": [
       "['LEAGUE', 'DIVISION', 'NEWLEAGUE', 'NEW_HMRUN_CAT']"
      ]
     },
     "execution_count": 32,
     "metadata": {},
     "output_type": "execute_result"
    }
   ],
   "source": [
    "def labelEncoder(dataframe, binaryCol):\n",
    "    labelencoder = LabelEncoder()\n",
    "    dataframe[binaryCol] = labelencoder.fit_transform(dataframe[binaryCol])\n",
    "    return dataframe\n",
    "\n",
    "binaryCols = [col for col in df.columns if df[col].dtypes == \"O\" and df[col].nunique() == 2]\n",
    "binaryCols"
   ]
  },
  {
   "cell_type": "code",
   "execution_count": 34,
   "metadata": {},
   "outputs": [
    {
     "data": {
      "text/plain": [
       "['LEAGUE', 'DIVISION', 'NEWLEAGUE', 'NEW_HMRUN_CAT', 'NEW_YEARS_CAT']"
      ]
     },
     "execution_count": 34,
     "metadata": {},
     "output_type": "execute_result"
    }
   ],
   "source": [
    "for col in binaryCols:\n",
    "    df = labelEncoder(df, col)\n",
    "catCols"
   ]
  },
  {
   "cell_type": "code",
   "execution_count": 35,
   "metadata": {},
   "outputs": [],
   "source": [
    "df = one_hot_encoder(df, catCols, drop_first=True)"
   ]
  },
  {
   "cell_type": "markdown",
   "metadata": {},
   "source": [
    "# Scaling"
   ]
  },
  {
   "cell_type": "code",
   "execution_count": 36,
   "metadata": {},
   "outputs": [
    {
     "data": {
      "text/html": [
       "<div>\n",
       "<style scoped>\n",
       "    .dataframe tbody tr th:only-of-type {\n",
       "        vertical-align: middle;\n",
       "    }\n",
       "\n",
       "    .dataframe tbody tr th {\n",
       "        vertical-align: top;\n",
       "    }\n",
       "\n",
       "    .dataframe thead th {\n",
       "        text-align: right;\n",
       "    }\n",
       "</style>\n",
       "<table border=\"1\" class=\"dataframe\">\n",
       "  <thead>\n",
       "    <tr style=\"text-align: right;\">\n",
       "      <th></th>\n",
       "      <th>ATBAT</th>\n",
       "      <th>HITS</th>\n",
       "      <th>HMRUN</th>\n",
       "      <th>RUNS</th>\n",
       "      <th>RBI</th>\n",
       "      <th>WALKS</th>\n",
       "      <th>YEARS</th>\n",
       "      <th>CATBAT</th>\n",
       "      <th>CHITS</th>\n",
       "      <th>CHMRUN</th>\n",
       "      <th>...</th>\n",
       "      <th>NEW_CAREER_YEARS</th>\n",
       "      <th>NEW_RUNS_ATBAT</th>\n",
       "      <th>NEW_ERRORS_RBI</th>\n",
       "      <th>NEW_RUNS_YEARS</th>\n",
       "      <th>LEAGUE_1</th>\n",
       "      <th>DIVISION_1</th>\n",
       "      <th>NEWLEAGUE_1</th>\n",
       "      <th>NEW_HMRUN_CAT_1</th>\n",
       "      <th>NEW_YEARS_CAT_experienced</th>\n",
       "      <th>NEW_YEARS_CAT_veteran</th>\n",
       "    </tr>\n",
       "  </thead>\n",
       "  <tbody>\n",
       "    <tr>\n",
       "      <th>0</th>\n",
       "      <td>0.41</td>\n",
       "      <td>0.27</td>\n",
       "      <td>0.03</td>\n",
       "      <td>0.23</td>\n",
       "      <td>0.24</td>\n",
       "      <td>0.14</td>\n",
       "      <td>0.00</td>\n",
       "      <td>0.03</td>\n",
       "      <td>0.03</td>\n",
       "      <td>0.00</td>\n",
       "      <td>...</td>\n",
       "      <td>0.41</td>\n",
       "      <td>0.32</td>\n",
       "      <td>0.05</td>\n",
       "      <td>0.02</td>\n",
       "      <td>0</td>\n",
       "      <td>0</td>\n",
       "      <td>0</td>\n",
       "      <td>1</td>\n",
       "      <td>0</td>\n",
       "      <td>0</td>\n",
       "    </tr>\n",
       "    <tr>\n",
       "      <th>1</th>\n",
       "      <td>0.45</td>\n",
       "      <td>0.33</td>\n",
       "      <td>0.21</td>\n",
       "      <td>0.18</td>\n",
       "      <td>0.32</td>\n",
       "      <td>0.39</td>\n",
       "      <td>0.63</td>\n",
       "      <td>0.40</td>\n",
       "      <td>0.36</td>\n",
       "      <td>0.34</td>\n",
       "      <td>...</td>\n",
       "      <td>0.37</td>\n",
       "      <td>0.18</td>\n",
       "      <td>0.39</td>\n",
       "      <td>0.21</td>\n",
       "      <td>1</td>\n",
       "      <td>1</td>\n",
       "      <td>1</td>\n",
       "      <td>1</td>\n",
       "      <td>0</td>\n",
       "      <td>1</td>\n",
       "    </tr>\n",
       "    <tr>\n",
       "      <th>2</th>\n",
       "      <td>0.69</td>\n",
       "      <td>0.54</td>\n",
       "      <td>0.53</td>\n",
       "      <td>0.52</td>\n",
       "      <td>0.60</td>\n",
       "      <td>0.76</td>\n",
       "      <td>0.10</td>\n",
       "      <td>0.19</td>\n",
       "      <td>0.19</td>\n",
       "      <td>0.31</td>\n",
       "      <td>...</td>\n",
       "      <td>0.93</td>\n",
       "      <td>0.50</td>\n",
       "      <td>0.71</td>\n",
       "      <td>0.12</td>\n",
       "      <td>0</td>\n",
       "      <td>1</td>\n",
       "      <td>0</td>\n",
       "      <td>0</td>\n",
       "      <td>0</td>\n",
       "      <td>0</td>\n",
       "    </tr>\n",
       "    <tr>\n",
       "      <th>3</th>\n",
       "      <td>0.72</td>\n",
       "      <td>0.59</td>\n",
       "      <td>0.59</td>\n",
       "      <td>0.51</td>\n",
       "      <td>0.65</td>\n",
       "      <td>0.37</td>\n",
       "      <td>0.49</td>\n",
       "      <td>0.65</td>\n",
       "      <td>0.67</td>\n",
       "      <td>1.00</td>\n",
       "      <td>...</td>\n",
       "      <td>0.83</td>\n",
       "      <td>0.47</td>\n",
       "      <td>0.44</td>\n",
       "      <td>0.45</td>\n",
       "      <td>1</td>\n",
       "      <td>0</td>\n",
       "      <td>1</td>\n",
       "      <td>0</td>\n",
       "      <td>0</td>\n",
       "      <td>1</td>\n",
       "    </tr>\n",
       "    <tr>\n",
       "      <th>4</th>\n",
       "      <td>0.45</td>\n",
       "      <td>0.36</td>\n",
       "      <td>0.29</td>\n",
       "      <td>0.30</td>\n",
       "      <td>0.35</td>\n",
       "      <td>0.30</td>\n",
       "      <td>0.05</td>\n",
       "      <td>0.04</td>\n",
       "      <td>0.04</td>\n",
       "      <td>0.06</td>\n",
       "      <td>...</td>\n",
       "      <td>0.30</td>\n",
       "      <td>0.42</td>\n",
       "      <td>0.36</td>\n",
       "      <td>0.05</td>\n",
       "      <td>1</td>\n",
       "      <td>0</td>\n",
       "      <td>1</td>\n",
       "      <td>0</td>\n",
       "      <td>0</td>\n",
       "      <td>0</td>\n",
       "    </tr>\n",
       "  </tbody>\n",
       "</table>\n",
       "<p>5 rows × 27 columns</p>\n",
       "</div>"
      ],
      "text/plain": [
       "   ATBAT  HITS  HMRUN  RUNS  RBI  WALKS  YEARS  CATBAT  CHITS  CHMRUN  ...  \\\n",
       "0   0.41  0.27   0.03  0.23 0.24   0.14   0.00    0.03   0.03    0.00  ...   \n",
       "1   0.45  0.33   0.21  0.18 0.32   0.39   0.63    0.40   0.36    0.34  ...   \n",
       "2   0.69  0.54   0.53  0.52 0.60   0.76   0.10    0.19   0.19    0.31  ...   \n",
       "3   0.72  0.59   0.59  0.51 0.65   0.37   0.49    0.65   0.67    1.00  ...   \n",
       "4   0.45  0.36   0.29  0.30 0.35   0.30   0.05    0.04   0.04    0.06  ...   \n",
       "\n",
       "   NEW_CAREER_YEARS  NEW_RUNS_ATBAT  NEW_ERRORS_RBI  NEW_RUNS_YEARS  LEAGUE_1  \\\n",
       "0              0.41            0.32            0.05            0.02         0   \n",
       "1              0.37            0.18            0.39            0.21         1   \n",
       "2              0.93            0.50            0.71            0.12         0   \n",
       "3              0.83            0.47            0.44            0.45         1   \n",
       "4              0.30            0.42            0.36            0.05         1   \n",
       "\n",
       "   DIVISION_1  NEWLEAGUE_1  NEW_HMRUN_CAT_1  NEW_YEARS_CAT_experienced  \\\n",
       "0           0            0                1                          0   \n",
       "1           1            1                1                          0   \n",
       "2           1            0                0                          0   \n",
       "3           0            1                0                          0   \n",
       "4           0            1                0                          0   \n",
       "\n",
       "   NEW_YEARS_CAT_veteran  \n",
       "0                      0  \n",
       "1                      1  \n",
       "2                      0  \n",
       "3                      1  \n",
       "4                      0  \n",
       "\n",
       "[5 rows x 27 columns]"
      ]
     },
     "execution_count": 36,
     "metadata": {},
     "output_type": "execute_result"
    }
   ],
   "source": [
    "scaler = MinMaxScaler()\n",
    "df[numCols] = scaler.fit_transform(df[numCols])\n",
    "df.head()"
   ]
  },
  {
   "cell_type": "markdown",
   "metadata": {},
   "source": [
    "# Modelleme"
   ]
  },
  {
   "cell_type": "code",
   "execution_count": 37,
   "metadata": {},
   "outputs": [
    {
     "data": {
      "text/plain": [
       "0.7127301155265926"
      ]
     },
     "execution_count": 37,
     "metadata": {},
     "output_type": "execute_result"
    }
   ],
   "source": [
    "\n",
    "y = df[\"SALARY\"]\n",
    "X = df.drop([\"SALARY\"], axis=1)\n",
    "\n",
    "X_train, X_test, y_train, y_test = train_test_split(X, y, test_size=0.30, random_state=159)\n",
    "\n",
    "reg_model = LinearRegression().fit(X_train, y_train)\n",
    "y_pred = reg_model.predict(X_test)\n",
    "\n",
    "reg_model.score(X_test, y_test)"
   ]
  },
  {
   "cell_type": "code",
   "execution_count": 38,
   "metadata": {},
   "outputs": [
    {
     "data": {
      "text/plain": [
       "0.21810648878880728"
      ]
     },
     "execution_count": 38,
     "metadata": {},
     "output_type": "execute_result"
    }
   ],
   "source": [
    "reg_model.intercept_"
   ]
  },
  {
   "cell_type": "code",
   "execution_count": 39,
   "metadata": {},
   "outputs": [
    {
     "data": {
      "text/plain": [
       "array([-5.81661243e-01,  1.75022750e-01, -6.75736072e-02,  8.41151175e-01,\n",
       "       -3.60224491e-02,  2.20578392e-02, -2.11779353e-01, -5.20583391e-01,\n",
       "        5.12015265e-01,  1.18133180e-01,  1.45641371e-01,  2.43438737e-01,\n",
       "        2.22142548e-02,  7.96490303e-02,  1.69303242e-02, -4.69341627e-02,\n",
       "        1.65252256e-01, -5.48275315e-01,  3.17887450e-02,  2.14275906e-02,\n",
       "        1.93034989e-04, -2.91871227e-02, -7.60307468e-03, -1.58165407e-02,\n",
       "        1.56628156e-01,  9.62538184e-02])"
      ]
     },
     "execution_count": 39,
     "metadata": {},
     "output_type": "execute_result"
    }
   ],
   "source": [
    "reg_model.coef_"
   ]
  },
  {
   "cell_type": "code",
   "execution_count": 40,
   "metadata": {},
   "outputs": [
    {
     "name": "stdout",
     "output_type": "stream",
     "text": [
      "    Value                    Feature\n",
      "3    0.84                       RUNS\n",
      "8    0.51                      CHITS\n",
      "11   0.24                       CRBI\n",
      "1    0.18                       HITS\n",
      "16   0.17           NEW_CAREER_YEARS\n",
      "24   0.16  NEW_YEARS_CAT_experienced\n",
      "10   0.15                      CRUNS\n",
      "9    0.12                     CHMRUN\n",
      "25   0.10      NEW_YEARS_CAT_veteran\n",
      "13   0.08                    PUTOUTS\n",
      "18   0.03             NEW_ERRORS_RBI\n",
      "12   0.02                     CWALKS\n",
      "5    0.02                      WALKS\n",
      "19   0.02             NEW_RUNS_YEARS\n",
      "14   0.02                    ASSISTS\n",
      "20   0.00                   LEAGUE_1\n",
      "22  -0.01                NEWLEAGUE_1\n",
      "23  -0.02            NEW_HMRUN_CAT_1\n",
      "21  -0.03                 DIVISION_1\n",
      "4   -0.04                        RBI\n",
      "15  -0.05                     ERRORS\n",
      "2   -0.07                      HMRUN\n",
      "6   -0.21                      YEARS\n",
      "7   -0.52                     CATBAT\n",
      "17  -0.55             NEW_RUNS_ATBAT\n",
      "0   -0.58                      ATBAT\n"
     ]
    },
    {
     "data": {
      "image/png": "[encoded data removed]",
      "text/plain": [
       "<Figure size 720x720 with 1 Axes>"
      ]
     },
     "metadata": {
      "needs_background": "light"
     },
     "output_type": "display_data"
    }
   ],
   "source": [
    "def plot_importance(model, features, num=len(X), save=False):\n",
    "    feature_imp = pd.DataFrame({'Value': model.coef_, 'Feature': features.columns})\n",
    "    print(feature_imp.sort_values(\"Value\", ascending=False))\n",
    "    plt.figure(figsize=(10, 10))\n",
    "    sns.set(font_scale=1)\n",
    "    sns.barplot(x=\"Value\", y=\"Feature\", data=feature_imp.sort_values(by=\"Value\",\n",
    "                                                                     ascending=False)[0:num])\n",
    "    plt.title('Features')\n",
    "    plt.tight_layout()\n",
    "    plt.show()\n",
    "    if save:\n",
    "        plt.savefig('importances.png')\n",
    "plot_importance(reg_model,X)"
   ]
  },
  {
   "cell_type": "code",
   "execution_count": 41,
   "metadata": {},
   "outputs": [
    {
     "data": {
      "text/plain": [
       "0.1368804666505278"
      ]
     },
     "execution_count": 41,
     "metadata": {},
     "output_type": "execute_result"
    }
   ],
   "source": [
    "# Train RMSE\n",
    "y_pred=reg_model.predict(X_train)\n",
    "np.sqrt((mean_squared_error(y_train, y_pred)))"
   ]
  },
  {
   "cell_type": "code",
   "execution_count": 42,
   "metadata": {},
   "outputs": [
    {
     "data": {
      "text/plain": [
       "0.15954068608305533"
      ]
     },
     "execution_count": 42,
     "metadata": {},
     "output_type": "execute_result"
    }
   ],
   "source": [
    "# Test RMSE\n",
    "y_pred=reg_model.predict(X_test)\n",
    "np.sqrt((mean_squared_error(y_test, y_pred)))"
   ]
  },
  {
   "cell_type": "code",
   "execution_count": 43,
   "metadata": {},
   "outputs": [
    {
     "data": {
      "text/plain": [
       "0.6538846376472665"
      ]
     },
     "execution_count": 43,
     "metadata": {},
     "output_type": "execute_result"
    }
   ],
   "source": [
    "# Train RKARE\n",
    "reg_model.score(X_train,y_train)"
   ]
  },
  {
   "cell_type": "code",
   "execution_count": 44,
   "metadata": {},
   "outputs": [
    {
     "data": {
      "text/plain": [
       "0.7127301155265926"
      ]
     },
     "execution_count": 44,
     "metadata": {},
     "output_type": "execute_result"
    }
   ],
   "source": [
    "# Test RKARE\n",
    "reg_model.score(X_test,y_test)"
   ]
  },
  {
   "cell_type": "code",
   "execution_count": 45,
   "metadata": {},
   "outputs": [
    {
     "data": {
      "text/plain": [
       "0.33711594702043335"
      ]
     },
     "execution_count": 45,
     "metadata": {},
     "output_type": "execute_result"
    }
   ],
   "source": [
    "# 10 katlı Cross Validation\n",
    "np.mean(np.sqrt(-cross_val_score(reg_model,X,y,cv=10,scoring=\"neg_mean_absolute_error\")))"
   ]
  }
 ],
 "metadata": {
  "kernelspec": {
   "display_name": "Python 3.10.5 64-bit",
   "language": "python",
   "name": "python3"
  },
  "language_info": {
   "codemirror_mode": {
    "name": "ipython",
    "version": 3
   },
   "file_extension": ".py",
   "mimetype": "text/x-python",
   "name": "python",
   "nbconvert_exporter": "python",
   "pygments_lexer": "ipython3",
   "version": "3.10.5"
  },
  "orig_nbformat": 4,
  "vscode": {
   "interpreter": {
    "hash": "5026d2d6e7aaaaba093def813beadff083d8733e4a511af01735cbabd156995d"
   }
  }
 },
 "nbformat": 4,
 "nbformat_minor": 2
}
