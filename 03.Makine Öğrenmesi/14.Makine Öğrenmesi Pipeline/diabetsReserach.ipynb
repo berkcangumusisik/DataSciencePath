{
 "cells": [
  {
   "cell_type": "markdown",
   "metadata": {},
   "source": [
    "1. Exploratory Data Analysis\n",
    "2. Data Preprocessing & Feature Engineering\n",
    "3. Base Models\n",
    "4. Automated Hyperparameter Optimization\n",
    "5. Stacking & Ensemble Learning\n",
    "6. Prediction for a New Observation\n",
    "7. Pipeline Main Function"
   ]
  },
  {
   "cell_type": "code",
   "execution_count": 1,
   "metadata": {},
   "outputs": [],
   "source": [
    "import joblib\n",
    "import pandas as pd\n",
    "import seaborn as sns\n",
    "from matplotlib import pyplot as plt\n",
    "from sklearn.ensemble import RandomForestClassifier, GradientBoostingClassifier, VotingClassifier, AdaBoostClassifier\n",
    "from sklearn.linear_model import LogisticRegression\n",
    "from sklearn.model_selection import cross_validate, GridSearchCV\n",
    "from sklearn.neighbors import KNeighborsClassifier\n",
    "from sklearn.svm import SVC\n",
    "from sklearn.tree import DecisionTreeClassifier\n",
    "from sklearn.preprocessing import StandardScaler\n",
    "\n",
    "# !pip install catboost\n",
    "# !pip install lightgbm\n",
    "# !pip install xgboost\n",
    "\n",
    "from xgboost import XGBClassifier\n",
    "from lightgbm import LGBMClassifier\n",
    "from catboost import CatBoostClassifier\n",
    "\n",
    "pd.set_option('display.max_columns', None)\n",
    "pd.set_option('display.width', 500)\n"
   ]
  },
  {
   "cell_type": "markdown",
   "metadata": {},
   "source": [
    "1. Exploratory Data Analysis"
   ]
  },
  {
   "cell_type": "code",
   "execution_count": 2,
   "metadata": {},
   "outputs": [
    {
     "name": "stdout",
     "output_type": "stream",
     "text": [
      "##################### Shape #####################\n",
      "(768, 9)\n",
      "##################### Types #####################\n",
      "Pregnancies                   int64\n",
      "Glucose                       int64\n",
      "BloodPressure                 int64\n",
      "SkinThickness                 int64\n",
      "Insulin                       int64\n",
      "BMI                         float64\n",
      "DiabetesPedigreeFunction    float64\n",
      "Age                           int64\n",
      "Outcome                       int64\n",
      "dtype: object\n",
      "##################### Head #####################\n",
      "   Pregnancies  Glucose  BloodPressure  SkinThickness  Insulin   BMI  DiabetesPedigreeFunction  Age  Outcome\n",
      "0            6      148             72             35        0  33.6                     0.627   50        1\n",
      "1            1       85             66             29        0  26.6                     0.351   31        0\n",
      "2            8      183             64              0        0  23.3                     0.672   32        1\n",
      "3            1       89             66             23       94  28.1                     0.167   21        0\n",
      "4            0      137             40             35      168  43.1                     2.288   33        1\n",
      "##################### Tail #####################\n",
      "     Pregnancies  Glucose  BloodPressure  SkinThickness  Insulin   BMI  DiabetesPedigreeFunction  Age  Outcome\n",
      "763           10      101             76             48      180  32.9                     0.171   63        0\n",
      "764            2      122             70             27        0  36.8                     0.340   27        0\n",
      "765            5      121             72             23      112  26.2                     0.245   30        0\n",
      "766            1      126             60              0        0  30.1                     0.349   47        1\n",
      "767            1       93             70             31        0  30.4                     0.315   23        0\n",
      "##################### NA #####################\n",
      "Pregnancies                 0\n",
      "Glucose                     0\n",
      "BloodPressure               0\n",
      "SkinThickness               0\n",
      "Insulin                     0\n",
      "BMI                         0\n",
      "DiabetesPedigreeFunction    0\n",
      "Age                         0\n",
      "Outcome                     0\n",
      "dtype: int64\n",
      "##################### Quantiles #####################\n",
      "                            0.00      0.05      0.50       0.95       0.99    1.00\n",
      "Pregnancies                0.000   0.00000    3.0000   10.00000   13.00000   17.00\n",
      "Glucose                    0.000  79.00000  117.0000  181.00000  196.00000  199.00\n",
      "BloodPressure              0.000  38.70000   72.0000   90.00000  106.00000  122.00\n",
      "SkinThickness              0.000   0.00000   23.0000   44.00000   51.33000   99.00\n",
      "Insulin                    0.000   0.00000   30.5000  293.00000  519.90000  846.00\n",
      "BMI                        0.000  21.80000   32.0000   44.39500   50.75900   67.10\n",
      "DiabetesPedigreeFunction   0.078   0.14035    0.3725    1.13285    1.69833    2.42\n",
      "Age                       21.000  21.00000   29.0000   58.00000   67.00000   81.00\n",
      "Outcome                    0.000   0.00000    0.0000    1.00000    1.00000    1.00\n"
     ]
    }
   ],
   "source": [
    "def checkDf(dataframe, head=5):\n",
    "    print(\"##################### Shape #####################\")\n",
    "    print(dataframe.shape)\n",
    "    print(\"##################### Types #####################\")\n",
    "    print(dataframe.dtypes)\n",
    "    print(\"##################### Head #####################\")\n",
    "    print(dataframe.head(head))\n",
    "    print(\"##################### Tail #####################\")\n",
    "    print(dataframe.tail(head))\n",
    "    print(\"##################### NA #####################\")\n",
    "    print(dataframe.isnull().sum())\n",
    "    print(\"##################### Quantiles #####################\")\n",
    "    print(dataframe.quantile([0, 0.05, 0.50, 0.95, 0.99, 1]).T)\n",
    "\n",
    "def catSummary(dataframe, colName, plot=False):\n",
    "    print(pd.DataFrame({colName: dataframe[colName].value_counts(),\n",
    "                        \"Ratio\": 100 * dataframe[colName].value_counts() / len(dataframe)}))\n",
    "    print(\"##########################################\")\n",
    "    if plot:\n",
    "        sns.countplot(x=dataframe[colName], data=dataframe)\n",
    "        plt.show(block=True)\n",
    "\n",
    "def numSummary(dataframe, numericalCol, plot=False):\n",
    "    quantiles = [0.05, 0.10, 0.20, 0.30, 0.40, 0.50, 0.60, 0.70, 0.80, 0.90, 0.95, 0.99]\n",
    "    print(dataframe[numericalCol].describe(quantiles).T)\n",
    "\n",
    "    if plot:\n",
    "        dataframe[numericalCol].hist(bins=20)\n",
    "        plt.xlabel(numericalCol)\n",
    "        plt.title(numericalCol)\n",
    "        plt.show(block=True)\n",
    "\n",
    "def targetSummaryWithNum(dataframe, target, numericalCol):\n",
    "    print(dataframe.groupby(target).agg({numericalCol: \"mean\"}), end=\"\\n\\n\\n\")\n",
    "\n",
    "def targetSummaryWithCat(dataframe, target, categoricalCol):\n",
    "    print(pd.DataFrame({\"TARGET_MEAN\": dataframe.groupby(categoricalCol)[target].mean()}), end=\"\\n\\n\\n\")\n",
    "\n",
    "def correlation_matrix(df, cols):\n",
    "    fig = plt.gcf()\n",
    "    fig.set_size_inches(10, 8)\n",
    "    plt.xticks(fontsize=10)\n",
    "    plt.yticks(fontsize=10)\n",
    "    fig = sns.heatmap(df[cols].corr(), annot=True, linewidths=0.5, annot_kws={'size': 12}, linecolor='w', cmap='RdBu')\n",
    "    plt.show(block=True)\n",
    "\n",
    "def grabColNames(dataframe, cat_th=10, car_th=20):\n",
    "    \"\"\"\n",
    "\n",
    "    Veri setindeki kategorik, numerik ve kategorik fakat kardinal değişkenlerin isimlerini verir.\n",
    "    Not: Kategorik değişkenlerin içerisine numerik görünümlü kategorik değişkenler de dahildir.\n",
    "\n",
    "    Parameters\n",
    "    ------\n",
    "        dataframe: dataframe\n",
    "                Değişken isimleri alınmak istenilen dataframe\n",
    "        cat_th: int, optional\n",
    "                numerik fakat kategorik olan değişkenler için sınıf eşik değeri\n",
    "        car_th: int, optinal\n",
    "                kategorik fakat kardinal değişkenler için sınıf eşik değeri\n",
    "\n",
    "    Returns\n",
    "    ------\n",
    "        catCols: list\n",
    "                Kategorik değişken listesi\n",
    "        numCols: list\n",
    "                Numerik değişken listesi\n",
    "        cat_butCar: list\n",
    "                Kategorik görünümlü kardinal değişken listesi\n",
    "\n",
    "    Examples\n",
    "    ------\n",
    "        import seaborn as sns\n",
    "        df = sns.loadDataset(\"iris\")\n",
    "        print(grabColNames(df))\n",
    "\n",
    "\n",
    "    Notes\n",
    "    ------\n",
    "        catCols + numCols + cat_butCar = toplam değişken sayısı\n",
    "        num_butCat catCols'un içerisinde.\n",
    "        Return olan 3 liste toplamı toplam değişken sayısına eşittir: catCols + numCols + cat_butCar = değişken sayısı\n",
    "\n",
    "    \"\"\"\n",
    "\n",
    "    # catCols, cat_butCar\n",
    "    catCols = [col for col in dataframe.columns if dataframe[col].dtypes == \"O\"]\n",
    "    num_butCat = [col for col in dataframe.columns if dataframe[col].nunique() < cat_th and\n",
    "                   dataframe[col].dtypes != \"O\"]\n",
    "    cat_butCar = [col for col in dataframe.columns if dataframe[col].nunique() > car_th and\n",
    "                   dataframe[col].dtypes == \"O\"]\n",
    "    catCols = catCols + num_butCat\n",
    "    catCols = [col for col in catCols if col not in cat_butCar]\n",
    "\n",
    "    # numCols\n",
    "    numCols = [col for col in dataframe.columns if dataframe[col].dtypes != \"O\"]\n",
    "    numCols = [col for col in numCols if col not in num_butCat]\n",
    "\n",
    "    # print(f\"Observations: {dataframe.shape[0]}\")\n",
    "    # print(f\"Variables: {dataframe.shape[1]}\")\n",
    "    # print(f'catCols: {len(catCols)}')\n",
    "    # print(f'numCols: {len(numCols)}')\n",
    "    # print(f'cat_butCar: {len(cat_butCar)}')\n",
    "    # print(f'num_butCat: {len(num_butCat)}')\n",
    "    return catCols, numCols, cat_butCar\n",
    "\n",
    "df = pd.read_csv(\"datasets/diabetes.csv\")\n",
    "\n",
    "checkDf(df)\n",
    "\n"
   ]
  },
  {
   "cell_type": "code",
   "execution_count": 3,
   "metadata": {},
   "outputs": [],
   "source": [
    "# Değişken türlerinin ayrıştırılması\n",
    "catCols, numCols, catButCar = grabColNames(df, cat_th=5, car_th=20)"
   ]
  },
  {
   "cell_type": "code",
   "execution_count": 4,
   "metadata": {},
   "outputs": [
    {
     "name": "stdout",
     "output_type": "stream",
     "text": [
      "   Outcome      Ratio\n",
      "0      500  65.104167\n",
      "1      268  34.895833\n",
      "##########################################\n"
     ]
    }
   ],
   "source": [
    "# Kategorik değişkenlerin incelenmesi\n",
    "for col in catCols:\n",
    "    catSummary(df, col)\n"
   ]
  },
  {
   "cell_type": "code",
   "execution_count": 5,
   "metadata": {},
   "outputs": [
    {
     "data": {
      "text/html": [
       "<div>\n",
       "<style scoped>\n",
       "    .dataframe tbody tr th:only-of-type {\n",
       "        vertical-align: middle;\n",
       "    }\n",
       "\n",
       "    .dataframe tbody tr th {\n",
       "        vertical-align: top;\n",
       "    }\n",
       "\n",
       "    .dataframe thead th {\n",
       "        text-align: right;\n",
       "    }\n",
       "</style>\n",
       "<table border=\"1\" class=\"dataframe\">\n",
       "  <thead>\n",
       "    <tr style=\"text-align: right;\">\n",
       "      <th></th>\n",
       "      <th>count</th>\n",
       "      <th>mean</th>\n",
       "      <th>std</th>\n",
       "      <th>min</th>\n",
       "      <th>25%</th>\n",
       "      <th>50%</th>\n",
       "      <th>75%</th>\n",
       "      <th>max</th>\n",
       "    </tr>\n",
       "  </thead>\n",
       "  <tbody>\n",
       "    <tr>\n",
       "      <th>Pregnancies</th>\n",
       "      <td>768.0</td>\n",
       "      <td>3.845052</td>\n",
       "      <td>3.369578</td>\n",
       "      <td>0.000</td>\n",
       "      <td>1.00000</td>\n",
       "      <td>3.0000</td>\n",
       "      <td>6.00000</td>\n",
       "      <td>17.00</td>\n",
       "    </tr>\n",
       "    <tr>\n",
       "      <th>Glucose</th>\n",
       "      <td>768.0</td>\n",
       "      <td>120.894531</td>\n",
       "      <td>31.972618</td>\n",
       "      <td>0.000</td>\n",
       "      <td>99.00000</td>\n",
       "      <td>117.0000</td>\n",
       "      <td>140.25000</td>\n",
       "      <td>199.00</td>\n",
       "    </tr>\n",
       "    <tr>\n",
       "      <th>BloodPressure</th>\n",
       "      <td>768.0</td>\n",
       "      <td>69.105469</td>\n",
       "      <td>19.355807</td>\n",
       "      <td>0.000</td>\n",
       "      <td>62.00000</td>\n",
       "      <td>72.0000</td>\n",
       "      <td>80.00000</td>\n",
       "      <td>122.00</td>\n",
       "    </tr>\n",
       "    <tr>\n",
       "      <th>SkinThickness</th>\n",
       "      <td>768.0</td>\n",
       "      <td>20.536458</td>\n",
       "      <td>15.952218</td>\n",
       "      <td>0.000</td>\n",
       "      <td>0.00000</td>\n",
       "      <td>23.0000</td>\n",
       "      <td>32.00000</td>\n",
       "      <td>99.00</td>\n",
       "    </tr>\n",
       "    <tr>\n",
       "      <th>Insulin</th>\n",
       "      <td>768.0</td>\n",
       "      <td>79.799479</td>\n",
       "      <td>115.244002</td>\n",
       "      <td>0.000</td>\n",
       "      <td>0.00000</td>\n",
       "      <td>30.5000</td>\n",
       "      <td>127.25000</td>\n",
       "      <td>846.00</td>\n",
       "    </tr>\n",
       "    <tr>\n",
       "      <th>BMI</th>\n",
       "      <td>768.0</td>\n",
       "      <td>31.992578</td>\n",
       "      <td>7.884160</td>\n",
       "      <td>0.000</td>\n",
       "      <td>27.30000</td>\n",
       "      <td>32.0000</td>\n",
       "      <td>36.60000</td>\n",
       "      <td>67.10</td>\n",
       "    </tr>\n",
       "    <tr>\n",
       "      <th>DiabetesPedigreeFunction</th>\n",
       "      <td>768.0</td>\n",
       "      <td>0.471876</td>\n",
       "      <td>0.331329</td>\n",
       "      <td>0.078</td>\n",
       "      <td>0.24375</td>\n",
       "      <td>0.3725</td>\n",
       "      <td>0.62625</td>\n",
       "      <td>2.42</td>\n",
       "    </tr>\n",
       "    <tr>\n",
       "      <th>Age</th>\n",
       "      <td>768.0</td>\n",
       "      <td>33.240885</td>\n",
       "      <td>11.760232</td>\n",
       "      <td>21.000</td>\n",
       "      <td>24.00000</td>\n",
       "      <td>29.0000</td>\n",
       "      <td>41.00000</td>\n",
       "      <td>81.00</td>\n",
       "    </tr>\n",
       "  </tbody>\n",
       "</table>\n",
       "</div>"
      ],
      "text/plain": [
       "                          count        mean         std     min       25%       50%        75%     max\n",
       "Pregnancies               768.0    3.845052    3.369578   0.000   1.00000    3.0000    6.00000   17.00\n",
       "Glucose                   768.0  120.894531   31.972618   0.000  99.00000  117.0000  140.25000  199.00\n",
       "BloodPressure             768.0   69.105469   19.355807   0.000  62.00000   72.0000   80.00000  122.00\n",
       "SkinThickness             768.0   20.536458   15.952218   0.000   0.00000   23.0000   32.00000   99.00\n",
       "Insulin                   768.0   79.799479  115.244002   0.000   0.00000   30.5000  127.25000  846.00\n",
       "BMI                       768.0   31.992578    7.884160   0.000  27.30000   32.0000   36.60000   67.10\n",
       "DiabetesPedigreeFunction  768.0    0.471876    0.331329   0.078   0.24375    0.3725    0.62625    2.42\n",
       "Age                       768.0   33.240885   11.760232  21.000  24.00000   29.0000   41.00000   81.00"
      ]
     },
     "execution_count": 5,
     "metadata": {},
     "output_type": "execute_result"
    }
   ],
   "source": [
    "# Sayısal değişkenlerin incelenmesi\n",
    "df[numCols].describe().T"
   ]
  },
  {
   "cell_type": "code",
   "execution_count": 6,
   "metadata": {},
   "outputs": [
    {
     "name": "stdout",
     "output_type": "stream",
     "text": [
      "count    768.000000\n",
      "mean       3.845052\n",
      "std        3.369578\n",
      "min        0.000000\n",
      "5%         0.000000\n",
      "10%        0.000000\n",
      "20%        1.000000\n",
      "30%        1.000000\n",
      "40%        2.000000\n",
      "50%        3.000000\n",
      "60%        4.000000\n",
      "70%        5.000000\n",
      "80%        7.000000\n",
      "90%        9.000000\n",
      "95%       10.000000\n",
      "99%       13.000000\n",
      "max       17.000000\n",
      "Name: Pregnancies, dtype: float64\n"
     ]
    },
    {
     "data": {
      "image/png": "[encoded data removed]",
      "text/plain": [
       "<Figure size 432x288 with 1 Axes>"
      ]
     },
     "metadata": {
      "needs_background": "light"
     },
     "output_type": "display_data"
    },
    {
     "name": "stdout",
     "output_type": "stream",
     "text": [
      "count    768.000000\n",
      "mean     120.894531\n",
      "std       31.972618\n",
      "min        0.000000\n",
      "5%        79.000000\n",
      "10%       85.000000\n",
      "20%       95.000000\n",
      "30%      102.000000\n",
      "40%      109.000000\n",
      "50%      117.000000\n",
      "60%      125.000000\n",
      "70%      134.000000\n",
      "80%      147.000000\n",
      "90%      167.000000\n",
      "95%      181.000000\n",
      "99%      196.000000\n",
      "max      199.000000\n",
      "Name: Glucose, dtype: float64\n"
     ]
    },
    {
     "data": {
      "image/png": "[encoded data removed]",
      "text/plain": [
       "<Figure size 432x288 with 1 Axes>"
      ]
     },
     "metadata": {
      "needs_background": "light"
     },
     "output_type": "display_data"
    },
    {
     "name": "stdout",
     "output_type": "stream",
     "text": [
      "count    768.000000\n",
      "mean      69.105469\n",
      "std       19.355807\n",
      "min        0.000000\n",
      "5%        38.700000\n",
      "10%       54.000000\n",
      "20%       60.000000\n",
      "30%       64.000000\n",
      "40%       68.000000\n",
      "50%       72.000000\n",
      "60%       74.000000\n",
      "70%       78.000000\n",
      "80%       82.000000\n",
      "90%       88.000000\n",
      "95%       90.000000\n",
      "99%      106.000000\n",
      "max      122.000000\n",
      "Name: BloodPressure, dtype: float64\n"
     ]
    },
    {
     "data": {
      "image/png": "[encoded data removed]",
      "text/plain": [
       "<Figure size 432x288 with 1 Axes>"
      ]
     },
     "metadata": {
      "needs_background": "light"
     },
     "output_type": "display_data"
    },
    {
     "name": "stdout",
     "output_type": "stream",
     "text": [
      "count    768.000000\n",
      "mean      20.536458\n",
      "std       15.952218\n",
      "min        0.000000\n",
      "5%         0.000000\n",
      "10%        0.000000\n",
      "20%        0.000000\n",
      "30%        8.200000\n",
      "40%       18.000000\n",
      "50%       23.000000\n",
      "60%       27.000000\n",
      "70%       31.000000\n",
      "80%       35.000000\n",
      "90%       40.000000\n",
      "95%       44.000000\n",
      "99%       51.330000\n",
      "max       99.000000\n",
      "Name: SkinThickness, dtype: float64\n"
     ]
    },
    {
     "data": {
      "image/png": "[encoded data removed]",
      "text/plain": [
       "<Figure size 432x288 with 1 Axes>"
      ]
     },
     "metadata": {
      "needs_background": "light"
     },
     "output_type": "display_data"
    },
    {
     "name": "stdout",
     "output_type": "stream",
     "text": [
      "count    768.000000\n",
      "mean      79.799479\n",
      "std      115.244002\n",
      "min        0.000000\n",
      "5%         0.000000\n",
      "10%        0.000000\n",
      "20%        0.000000\n",
      "30%        0.000000\n",
      "40%        0.000000\n",
      "50%       30.500000\n",
      "60%       72.200000\n",
      "70%      106.000000\n",
      "80%      150.000000\n",
      "90%      210.000000\n",
      "95%      293.000000\n",
      "99%      519.900000\n",
      "max      846.000000\n",
      "Name: Insulin, dtype: float64\n"
     ]
    },
    {
     "data": {
      "image/png": "[encoded data removed]",
      "text/plain": [
       "<Figure size 432x288 with 1 Axes>"
      ]
     },
     "metadata": {
      "needs_background": "light"
     },
     "output_type": "display_data"
    },
    {
     "name": "stdout",
     "output_type": "stream",
     "text": [
      "count    768.000000\n",
      "mean      31.992578\n",
      "std        7.884160\n",
      "min        0.000000\n",
      "5%        21.800000\n",
      "10%       23.600000\n",
      "20%       25.900000\n",
      "30%       28.200000\n",
      "40%       30.100000\n",
      "50%       32.000000\n",
      "60%       33.700000\n",
      "70%       35.490000\n",
      "80%       37.800000\n",
      "90%       41.500000\n",
      "95%       44.395000\n",
      "99%       50.759000\n",
      "max       67.100000\n",
      "Name: BMI, dtype: float64\n"
     ]
    },
    {
     "data": {
      "image/png": "[encoded data removed]",
      "text/plain": [
       "<Figure size 432x288 with 1 Axes>"
      ]
     },
     "metadata": {
      "needs_background": "light"
     },
     "output_type": "display_data"
    },
    {
     "name": "stdout",
     "output_type": "stream",
     "text": [
      "count    768.000000\n",
      "mean       0.471876\n",
      "std        0.331329\n",
      "min        0.078000\n",
      "5%         0.140350\n",
      "10%        0.165000\n",
      "20%        0.219400\n",
      "30%        0.259000\n",
      "40%        0.302800\n",
      "50%        0.372500\n",
      "60%        0.454200\n",
      "70%        0.563700\n",
      "80%        0.687000\n",
      "90%        0.878600\n",
      "95%        1.132850\n",
      "99%        1.698330\n",
      "max        2.420000\n",
      "Name: DiabetesPedigreeFunction, dtype: float64\n"
     ]
    },
    {
     "data": {
      "image/png": "[encoded data removed]",
      "text/plain": [
       "<Figure size 432x288 with 1 Axes>"
      ]
     },
     "metadata": {
      "needs_background": "light"
     },
     "output_type": "display_data"
    },
    {
     "name": "stdout",
     "output_type": "stream",
     "text": [
      "count    768.000000\n",
      "mean      33.240885\n",
      "std       11.760232\n",
      "min       21.000000\n",
      "5%        21.000000\n",
      "10%       22.000000\n",
      "20%       23.000000\n",
      "30%       25.000000\n",
      "40%       27.000000\n",
      "50%       29.000000\n",
      "60%       33.000000\n",
      "70%       38.000000\n",
      "80%       42.600000\n",
      "90%       51.000000\n",
      "95%       58.000000\n",
      "99%       67.000000\n",
      "max       81.000000\n",
      "Name: Age, dtype: float64\n"
     ]
    },
    {
     "data": {
      "image/png": "[encoded data removed]",
      "text/plain": [
       "<Figure size 432x288 with 1 Axes>"
      ]
     },
     "metadata": {
      "needs_background": "light"
     },
     "output_type": "display_data"
    }
   ],
   "source": [
    "for col in numCols:\n",
    "    numSummary(df, col, plot=True)"
   ]
  },
  {
   "cell_type": "code",
   "execution_count": 7,
   "metadata": {},
   "outputs": [
    {
     "data": {
      "image/png": "[encoded data removed]",
      "text/plain": [
       "<Figure size 720x576 with 2 Axes>"
      ]
     },
     "metadata": {
      "needs_background": "light"
     },
     "output_type": "display_data"
    }
   ],
   "source": [
    "# Sayısal değişkenkerin birbirleri ile korelasyonu\n",
    "correlation_matrix(df, numCols)\n"
   ]
  },
  {
   "cell_type": "code",
   "execution_count": 8,
   "metadata": {},
   "outputs": [
    {
     "name": "stdout",
     "output_type": "stream",
     "text": [
      "         Pregnancies\n",
      "Outcome             \n",
      "0           3.298000\n",
      "1           4.865672\n",
      "\n",
      "\n",
      "            Glucose\n",
      "Outcome            \n",
      "0        109.980000\n",
      "1        141.257463\n",
      "\n",
      "\n",
      "         BloodPressure\n",
      "Outcome               \n",
      "0            68.184000\n",
      "1            70.824627\n",
      "\n",
      "\n",
      "         SkinThickness\n",
      "Outcome               \n",
      "0            19.664000\n",
      "1            22.164179\n",
      "\n",
      "\n",
      "            Insulin\n",
      "Outcome            \n",
      "0         68.792000\n",
      "1        100.335821\n",
      "\n",
      "\n",
      "               BMI\n",
      "Outcome           \n",
      "0        30.304200\n",
      "1        35.142537\n",
      "\n",
      "\n",
      "         DiabetesPedigreeFunction\n",
      "Outcome                          \n",
      "0                        0.429734\n",
      "1                        0.550500\n",
      "\n",
      "\n",
      "               Age\n",
      "Outcome           \n",
      "0        31.190000\n",
      "1        37.067164\n",
      "\n",
      "\n"
     ]
    }
   ],
   "source": [
    "# Target ile sayısal değişkenlerin incelemesi\n",
    "for col in numCols:\n",
    "    targetSummaryWithNum(df, \"Outcome\", col)"
   ]
  },
  {
   "cell_type": "markdown",
   "metadata": {},
   "source": [
    "2. Data Preprocessing & Feature Engineering"
   ]
  },
  {
   "cell_type": "code",
   "execution_count": 9,
   "metadata": {},
   "outputs": [
    {
     "data": {
      "text/html": [
       "<div>\n",
       "<style scoped>\n",
       "    .dataframe tbody tr th:only-of-type {\n",
       "        vertical-align: middle;\n",
       "    }\n",
       "\n",
       "    .dataframe tbody tr th {\n",
       "        vertical-align: top;\n",
       "    }\n",
       "\n",
       "    .dataframe thead th {\n",
       "        text-align: right;\n",
       "    }\n",
       "</style>\n",
       "<table border=\"1\" class=\"dataframe\">\n",
       "  <thead>\n",
       "    <tr style=\"text-align: right;\">\n",
       "      <th></th>\n",
       "      <th>Pregnancies</th>\n",
       "      <th>Glucose</th>\n",
       "      <th>BloodPressure</th>\n",
       "      <th>SkinThickness</th>\n",
       "      <th>Insulin</th>\n",
       "      <th>BMI</th>\n",
       "      <th>DiabetesPedigreeFunction</th>\n",
       "      <th>Age</th>\n",
       "      <th>Outcome</th>\n",
       "    </tr>\n",
       "  </thead>\n",
       "  <tbody>\n",
       "    <tr>\n",
       "      <th>0</th>\n",
       "      <td>6</td>\n",
       "      <td>148</td>\n",
       "      <td>72</td>\n",
       "      <td>35</td>\n",
       "      <td>0</td>\n",
       "      <td>33.6</td>\n",
       "      <td>0.627</td>\n",
       "      <td>50</td>\n",
       "      <td>1</td>\n",
       "    </tr>\n",
       "    <tr>\n",
       "      <th>1</th>\n",
       "      <td>1</td>\n",
       "      <td>85</td>\n",
       "      <td>66</td>\n",
       "      <td>29</td>\n",
       "      <td>0</td>\n",
       "      <td>26.6</td>\n",
       "      <td>0.351</td>\n",
       "      <td>31</td>\n",
       "      <td>0</td>\n",
       "    </tr>\n",
       "    <tr>\n",
       "      <th>2</th>\n",
       "      <td>8</td>\n",
       "      <td>183</td>\n",
       "      <td>64</td>\n",
       "      <td>0</td>\n",
       "      <td>0</td>\n",
       "      <td>23.3</td>\n",
       "      <td>0.672</td>\n",
       "      <td>32</td>\n",
       "      <td>1</td>\n",
       "    </tr>\n",
       "    <tr>\n",
       "      <th>3</th>\n",
       "      <td>1</td>\n",
       "      <td>89</td>\n",
       "      <td>66</td>\n",
       "      <td>23</td>\n",
       "      <td>94</td>\n",
       "      <td>28.1</td>\n",
       "      <td>0.167</td>\n",
       "      <td>21</td>\n",
       "      <td>0</td>\n",
       "    </tr>\n",
       "    <tr>\n",
       "      <th>4</th>\n",
       "      <td>0</td>\n",
       "      <td>137</td>\n",
       "      <td>40</td>\n",
       "      <td>35</td>\n",
       "      <td>168</td>\n",
       "      <td>43.1</td>\n",
       "      <td>2.288</td>\n",
       "      <td>33</td>\n",
       "      <td>1</td>\n",
       "    </tr>\n",
       "  </tbody>\n",
       "</table>\n",
       "</div>"
      ],
      "text/plain": [
       "   Pregnancies  Glucose  BloodPressure  SkinThickness  Insulin   BMI  DiabetesPedigreeFunction  Age  Outcome\n",
       "0            6      148             72             35        0  33.6                     0.627   50        1\n",
       "1            1       85             66             29        0  26.6                     0.351   31        0\n",
       "2            8      183             64              0        0  23.3                     0.672   32        1\n",
       "3            1       89             66             23       94  28.1                     0.167   21        0\n",
       "4            0      137             40             35      168  43.1                     2.288   33        1"
      ]
     },
     "execution_count": 9,
     "metadata": {},
     "output_type": "execute_result"
    }
   ],
   "source": [
    "def outlierThresholds(dataframe, colName, q1=0.25, q3=0.75):\n",
    "    quartile1 = dataframe[colName].quantile(q1)\n",
    "    quartile3 = dataframe[colName].quantile(q3)\n",
    "    interquantile_range = quartile3 - quartile1\n",
    "    upLimit = quartile3 + 1.5 * interquantile_range\n",
    "    lowLimit = quartile1 - 1.5 * interquantile_range\n",
    "    return lowLimit, upLimit\n",
    "\n",
    "def replaceWithThresholds(dataframe, variable):\n",
    "    lowLimit, upLimit = outlierThresholds(dataframe, variable)\n",
    "    dataframe.loc[(dataframe[variable] < lowLimit), variable] = lowLimit\n",
    "    dataframe.loc[(dataframe[variable] > upLimit), variable] = upLimit\n",
    "\n",
    "def check_outlier(dataframe, colName, q1=0.25, q3=0.75):\n",
    "    lowLimit, upLimit = outlierThresholds(dataframe, colName, q1, q3)\n",
    "    if dataframe[(dataframe[colName] > upLimit) | (dataframe[colName] < lowLimit)].any(axis=None):\n",
    "        return True\n",
    "    else:\n",
    "        return False\n",
    "\n",
    "def oneHotEncoder(dataframe, categorical_cols, drop_first=False):\n",
    "    dataframe = pd.get_dummies(dataframe, columns=categorical_cols, drop_first=drop_first)\n",
    "    return dataframe\n",
    "\n",
    "df.head()"
   ]
  },
  {
   "cell_type": "code",
   "execution_count": 10,
   "metadata": {},
   "outputs": [],
   "source": [
    "# Değişken isimleri büyütmek\n",
    "df.columns = [col.upper() for col in df.columns]"
   ]
  },
  {
   "cell_type": "code",
   "execution_count": 11,
   "metadata": {},
   "outputs": [
    {
     "name": "stdout",
     "output_type": "stream",
     "text": [
      "##################### Shape #####################\n",
      "(768, 13)\n",
      "##################### Types #####################\n",
      "PREGNANCIES                    int64\n",
      "GLUCOSE                        int64\n",
      "BLOODPRESSURE                  int64\n",
      "SKINTHICKNESS                  int64\n",
      "INSULIN                        int64\n",
      "BMI                          float64\n",
      "DIABETESPEDIGREEFUNCTION     float64\n",
      "AGE                            int64\n",
      "OUTCOME                        int64\n",
      "NEW_GLUCOSE_CAT             category\n",
      "NEW_AGE_CAT                   object\n",
      "NEW_BMI_RANGE               category\n",
      "NEW_BLOODPRESSURE           category\n",
      "dtype: object\n",
      "##################### Head #####################\n",
      "   PREGNANCIES  GLUCOSE  BLOODPRESSURE  SKINTHICKNESS  INSULIN   BMI  DIABETESPEDIGREEFUNCTION  AGE  OUTCOME NEW_GLUCOSE_CAT NEW_AGE_CAT NEW_BMI_RANGE NEW_BLOODPRESSURE\n",
      "0            6      148             72             35        0  33.6                     0.627   50        1     prediabetes   middleage         obese            normal\n",
      "1            1       85             66             29        0  26.6                     0.351   31        0          normal       young    overweight            normal\n",
      "2            8      183             64              0        0  23.3                     0.672   32        1     prediabetes       young        healty            normal\n",
      "3            1       89             66             23       94  28.1                     0.167   21        0          normal       young    overweight            normal\n",
      "4            0      137             40             35      168  43.1                     2.288   33        1          normal       young         obese            normal\n",
      "##################### Tail #####################\n",
      "     PREGNANCIES  GLUCOSE  BLOODPRESSURE  SKINTHICKNESS  INSULIN   BMI  DIABETESPEDIGREEFUNCTION  AGE  OUTCOME NEW_GLUCOSE_CAT NEW_AGE_CAT NEW_BMI_RANGE NEW_BLOODPRESSURE\n",
      "763           10      101             76             48      180  32.9                     0.171   63        0          normal         old         obese            normal\n",
      "764            2      122             70             27        0  36.8                     0.340   27        0          normal       young         obese            normal\n",
      "765            5      121             72             23      112  26.2                     0.245   30        0          normal       young    overweight            normal\n",
      "766            1      126             60              0        0  30.1                     0.349   47        1          normal   middleage         obese            normal\n",
      "767            1       93             70             31        0  30.4                     0.315   23        0          normal       young         obese            normal\n",
      "##################### NA #####################\n",
      "PREGNANCIES                 0\n",
      "GLUCOSE                     0\n",
      "BLOODPRESSURE               0\n",
      "SKINTHICKNESS               0\n",
      "INSULIN                     0\n",
      "BMI                         0\n",
      "DIABETESPEDIGREEFUNCTION    0\n",
      "AGE                         0\n",
      "OUTCOME                     0\n",
      "NEW_GLUCOSE_CAT             0\n",
      "NEW_AGE_CAT                 0\n",
      "NEW_BMI_RANGE               0\n",
      "NEW_BLOODPRESSURE           0\n",
      "dtype: int64\n",
      "##################### Quantiles #####################\n",
      "                            0.00      0.05      0.50       0.95       0.99    1.00\n",
      "PREGNANCIES                0.000   0.00000    3.0000   10.00000   13.00000   17.00\n",
      "GLUCOSE                    0.000  79.00000  117.0000  181.00000  196.00000  199.00\n",
      "BLOODPRESSURE              0.000  38.70000   72.0000   90.00000  106.00000  122.00\n",
      "SKINTHICKNESS              0.000   0.00000   23.0000   44.00000   51.33000   99.00\n",
      "INSULIN                    0.000   0.00000   30.5000  293.00000  519.90000  846.00\n",
      "BMI                        0.000  21.80000   32.0000   44.39500   50.75900   67.10\n",
      "DIABETESPEDIGREEFUNCTION   0.078   0.14035    0.3725    1.13285    1.69833    2.42\n",
      "AGE                       21.000  21.00000   29.0000   58.00000   67.00000   81.00\n",
      "OUTCOME                    0.000   0.00000    0.0000    1.00000    1.00000    1.00\n"
     ]
    }
   ],
   "source": [
    "# Glucose\n",
    "df['NEW_GLUCOSE_CAT'] = pd.cut(x=df['GLUCOSE'], bins=[-1, 139, 200], labels=[\"normal\", \"prediabetes\"])\n",
    "\n",
    "# Age\n",
    "df.loc[(df['AGE'] < 35), \"NEW_AGE_CAT\"] = 'young'\n",
    "df.loc[(df['AGE'] >= 35) & (df['AGE'] <= 55), \"NEW_AGE_CAT\"] = 'middleage'\n",
    "df.loc[(df['AGE'] > 55), \"NEW_AGE_CAT\"] = 'old'\n",
    "\n",
    "\n",
    "# BMI\n",
    "df['NEW_BMI_RANGE'] = pd.cut(x=df['BMI'], bins=[-1, 18.5, 24.9, 29.9, 100],\n",
    "                             labels=[\"underweight\", \"healty\", \"overweight\", \"obese\"])\n",
    "\n",
    "# BloodPressure\n",
    "df['NEW_BLOODPRESSURE'] = pd.cut(x=df['BLOODPRESSURE'], bins=[-1, 79, 89, 123], labels=[\"normal\", \"hs1\", \"hs2\"])\n",
    "\n",
    "checkDf(df)"
   ]
  },
  {
   "cell_type": "code",
   "execution_count": 15,
   "metadata": {},
   "outputs": [
    {
     "name": "stdout",
     "output_type": "stream",
     "text": [
      "##################### Shape #####################\n",
      "(768, 17)\n",
      "##################### Types #####################\n",
      "PREGNANCIES                      int64\n",
      "GLUCOSE                          int64\n",
      "BLOODPRESSURE                    int64\n",
      "SKINTHICKNESS                    int64\n",
      "INSULIN                          int64\n",
      "BMI                            float64\n",
      "DIABETESPEDIGREEFUNCTION       float64\n",
      "AGE                              int64\n",
      "OUTCOME                          int64\n",
      "NEW_AGE_CAT_old                  uint8\n",
      "NEW_AGE_CAT_young                uint8\n",
      "NEW_GLUCOSE_CAT_prediabetes      uint8\n",
      "NEW_BMI_RANGE_healty             uint8\n",
      "NEW_BMI_RANGE_overweight         uint8\n",
      "NEW_BMI_RANGE_obese              uint8\n",
      "NEW_BLOODPRESSURE_hs1            uint8\n",
      "NEW_BLOODPRESSURE_hs2            uint8\n",
      "dtype: object\n",
      "##################### Head #####################\n",
      "   PREGNANCIES  GLUCOSE  BLOODPRESSURE  SKINTHICKNESS  INSULIN   BMI  DIABETESPEDIGREEFUNCTION  AGE  OUTCOME  NEW_AGE_CAT_old  NEW_AGE_CAT_young  NEW_GLUCOSE_CAT_prediabetes  NEW_BMI_RANGE_healty  NEW_BMI_RANGE_overweight  NEW_BMI_RANGE_obese  NEW_BLOODPRESSURE_hs1  NEW_BLOODPRESSURE_hs2\n",
      "0            6      148             72             35        0  33.6                     0.627   50        1                0                  0                            1                     0                         0                    1                      0                      0\n",
      "1            1       85             66             29        0  26.6                     0.351   31        0                0                  1                            0                     0                         1                    0                      0                      0\n",
      "2            8      183             64              0        0  23.3                     0.672   32        1                0                  1                            1                     1                         0                    0                      0                      0\n",
      "3            1       89             66             23       94  28.1                     0.167   21        0                0                  1                            0                     0                         1                    0                      0                      0\n",
      "4            0      137             40             35      168  43.1                     2.288   33        1                0                  1                            0                     0                         0                    1                      0                      0\n",
      "##################### Tail #####################\n",
      "     PREGNANCIES  GLUCOSE  BLOODPRESSURE  SKINTHICKNESS  INSULIN   BMI  DIABETESPEDIGREEFUNCTION  AGE  OUTCOME  NEW_AGE_CAT_old  NEW_AGE_CAT_young  NEW_GLUCOSE_CAT_prediabetes  NEW_BMI_RANGE_healty  NEW_BMI_RANGE_overweight  NEW_BMI_RANGE_obese  NEW_BLOODPRESSURE_hs1  NEW_BLOODPRESSURE_hs2\n",
      "763           10      101             76             48      180  32.9                     0.171   63        0                1                  0                            0                     0                         0                    1                      0                      0\n",
      "764            2      122             70             27        0  36.8                     0.340   27        0                0                  1                            0                     0                         0                    1                      0                      0\n",
      "765            5      121             72             23      112  26.2                     0.245   30        0                0                  1                            0                     0                         1                    0                      0                      0\n",
      "766            1      126             60              0        0  30.1                     0.349   47        1                0                  0                            0                     0                         0                    1                      0                      0\n",
      "767            1       93             70             31        0  30.4                     0.315   23        0                0                  1                            0                     0                         0                    1                      0                      0\n",
      "##################### NA #####################\n",
      "PREGNANCIES                    0\n",
      "GLUCOSE                        0\n",
      "BLOODPRESSURE                  0\n",
      "SKINTHICKNESS                  0\n",
      "INSULIN                        0\n",
      "BMI                            0\n",
      "DIABETESPEDIGREEFUNCTION       0\n",
      "AGE                            0\n",
      "OUTCOME                        0\n",
      "NEW_AGE_CAT_old                0\n",
      "NEW_AGE_CAT_young              0\n",
      "NEW_GLUCOSE_CAT_prediabetes    0\n",
      "NEW_BMI_RANGE_healty           0\n",
      "NEW_BMI_RANGE_overweight       0\n",
      "NEW_BMI_RANGE_obese            0\n",
      "NEW_BLOODPRESSURE_hs1          0\n",
      "NEW_BLOODPRESSURE_hs2          0\n",
      "dtype: int64\n",
      "##################### Quantiles #####################\n",
      "                               0.00      0.05      0.50       0.95       0.99    1.00\n",
      "PREGNANCIES                   0.000   0.00000    3.0000   10.00000   13.00000   17.00\n",
      "GLUCOSE                       0.000  79.00000  117.0000  181.00000  196.00000  199.00\n",
      "BLOODPRESSURE                 0.000  38.70000   72.0000   90.00000  106.00000  122.00\n",
      "SKINTHICKNESS                 0.000   0.00000   23.0000   44.00000   51.33000   99.00\n",
      "INSULIN                       0.000   0.00000   30.5000  293.00000  519.90000  846.00\n",
      "BMI                           0.000  21.80000   32.0000   44.39500   50.75900   67.10\n",
      "DIABETESPEDIGREEFUNCTION      0.078   0.14035    0.3725    1.13285    1.69833    2.42\n",
      "AGE                          21.000  21.00000   29.0000   58.00000   67.00000   81.00\n",
      "OUTCOME                       0.000   0.00000    0.0000    1.00000    1.00000    1.00\n",
      "NEW_AGE_CAT_old               0.000   0.00000    0.0000    1.00000    1.00000    1.00\n",
      "NEW_AGE_CAT_young             0.000   0.00000    1.0000    1.00000    1.00000    1.00\n",
      "NEW_GLUCOSE_CAT_prediabetes   0.000   0.00000    0.0000    1.00000    1.00000    1.00\n",
      "NEW_BMI_RANGE_healty          0.000   0.00000    0.0000    1.00000    1.00000    1.00\n",
      "NEW_BMI_RANGE_overweight      0.000   0.00000    0.0000    1.00000    1.00000    1.00\n",
      "NEW_BMI_RANGE_obese           0.000   0.00000    1.0000    1.00000    1.00000    1.00\n",
      "NEW_BLOODPRESSURE_hs1         0.000   0.00000    0.0000    1.00000    1.00000    1.00\n",
      "NEW_BLOODPRESSURE_hs2         0.000   0.00000    0.0000    1.00000    1.00000    1.00\n"
     ]
    }
   ],
   "source": [
    "cat_cols = [col for col in catCols if \"OUTCOME\" not in col]\n",
    "\n",
    "df = oneHotEncoder(df, cat_cols, drop_first=True)\n",
    "\n",
    "checkDf(df)\n"
   ]
  },
  {
   "cell_type": "code",
   "execution_count": 17,
   "metadata": {},
   "outputs": [
    {
     "name": "stdout",
     "output_type": "stream",
     "text": [
      "PREGNANCIES False\n",
      "GLUCOSE False\n",
      "BLOODPRESSURE False\n",
      "SKINTHICKNESS False\n",
      "INSULIN True\n",
      "BMI False\n",
      "DIABETESPEDIGREEFUNCTION False\n",
      "AGE False\n"
     ]
    }
   ],
   "source": [
    "catCols, numCols, cat_butCar = grabColNames(df, cat_th=5, car_th=20)\n",
    "catCols = [col for col in catCols if \"OUTCOME\" not in col]\n",
    "\n",
    "for col in numCols:\n",
    "    print(col, check_outlier(df, col, 0.05, 0.95))"
   ]
  },
  {
   "cell_type": "code",
   "execution_count": 18,
   "metadata": {},
   "outputs": [],
   "source": [
    "\n",
    "replaceWithThresholds(df, \"INSULIN\")\n"
   ]
  },
  {
   "cell_type": "markdown",
   "metadata": {},
   "source": [
    "# Standartlaştırma"
   ]
  },
  {
   "cell_type": "code",
   "execution_count": 19,
   "metadata": {},
   "outputs": [
    {
     "name": "stdout",
     "output_type": "stream",
     "text": [
      "##################### Shape #####################\n",
      "(768, 16)\n",
      "##################### Types #####################\n",
      "PREGNANCIES                    float64\n",
      "GLUCOSE                        float64\n",
      "BLOODPRESSURE                  float64\n",
      "SKINTHICKNESS                  float64\n",
      "INSULIN                        float64\n",
      "BMI                            float64\n",
      "DIABETESPEDIGREEFUNCTION       float64\n",
      "AGE                            float64\n",
      "NEW_AGE_CAT_old                  uint8\n",
      "NEW_AGE_CAT_young                uint8\n",
      "NEW_GLUCOSE_CAT_prediabetes      uint8\n",
      "NEW_BMI_RANGE_healty             uint8\n",
      "NEW_BMI_RANGE_overweight         uint8\n",
      "NEW_BMI_RANGE_obese              uint8\n",
      "NEW_BLOODPRESSURE_hs1            uint8\n",
      "NEW_BLOODPRESSURE_hs2            uint8\n",
      "dtype: object\n",
      "##################### Head #####################\n",
      "   PREGNANCIES   GLUCOSE  BLOODPRESSURE  SKINTHICKNESS   INSULIN       BMI  DIABETESPEDIGREEFUNCTION       AGE  NEW_AGE_CAT_old  NEW_AGE_CAT_young  NEW_GLUCOSE_CAT_prediabetes  NEW_BMI_RANGE_healty  NEW_BMI_RANGE_overweight  NEW_BMI_RANGE_obese  NEW_BLOODPRESSURE_hs1  NEW_BLOODPRESSURE_hs2\n",
      "0     0.639947  0.848324       0.149641       0.907270 -0.787602  0.204013                  0.468492  1.425995                0                  0                            1                     0                         0                    1                      0                      0\n",
      "1    -0.844885 -1.123396      -0.160546       0.530902 -0.787602 -0.684422                 -0.365061 -0.190672                0                  1                            0                     0                         1                    0                      0                      0\n",
      "2     1.233880  1.943724      -0.263941      -1.288212 -0.787602 -1.103255                  0.604397 -0.105584                0                  1                            1                     1                         0                    0                      0                      0\n",
      "3    -0.844885 -0.998208      -0.160546       0.154533  0.217583 -0.494043                 -0.920763 -1.041549                0                  1                            0                     0                         1                    0                      0                      0\n",
      "4    -1.141852  0.504055      -1.504687       0.907270  1.008900  1.409746                  5.484909 -0.020496                0                  1                            0                     0                         0                    1                      0                      0\n",
      "##################### Tail #####################\n",
      "     PREGNANCIES   GLUCOSE  BLOODPRESSURE  SKINTHICKNESS   INSULIN       BMI  DIABETESPEDIGREEFUNCTION       AGE  NEW_AGE_CAT_old  NEW_AGE_CAT_young  NEW_GLUCOSE_CAT_prediabetes  NEW_BMI_RANGE_healty  NEW_BMI_RANGE_overweight  NEW_BMI_RANGE_obese  NEW_BLOODPRESSURE_hs1  NEW_BLOODPRESSURE_hs2\n",
      "763     1.827813 -0.622642       0.356432       1.722735  1.137221  0.115169                 -0.908682  2.532136                1                  0                            0                     0                         0                    1                      0                      0\n",
      "764    -0.547919  0.034598       0.046245       0.405445 -0.787602  0.610154                 -0.398282 -0.531023                0                  1                            0                     0                         0                    1                      0                      0\n",
      "765     0.342981  0.003301       0.149641       0.154533  0.410066 -0.735190                 -0.685193 -0.275760                0                  1                            0                     0                         1                    0                      0                      0\n",
      "766    -0.844885  0.159787      -0.470732      -1.288212 -0.787602 -0.240205                 -0.371101  1.170732                0                  0                            0                     0                         0                    1                      0                      0\n",
      "767    -0.844885 -0.873019       0.046245       0.656358 -0.787602 -0.202129                 -0.473785 -0.871374                0                  1                            0                     0                         0                    1                      0                      0\n",
      "##################### NA #####################\n",
      "PREGNANCIES                    0\n",
      "GLUCOSE                        0\n",
      "BLOODPRESSURE                  0\n",
      "SKINTHICKNESS                  0\n",
      "INSULIN                        0\n",
      "BMI                            0\n",
      "DIABETESPEDIGREEFUNCTION       0\n",
      "AGE                            0\n",
      "NEW_AGE_CAT_old                0\n",
      "NEW_AGE_CAT_young              0\n",
      "NEW_GLUCOSE_CAT_prediabetes    0\n",
      "NEW_BMI_RANGE_healty           0\n",
      "NEW_BMI_RANGE_overweight       0\n",
      "NEW_BMI_RANGE_obese            0\n",
      "NEW_BLOODPRESSURE_hs1          0\n",
      "NEW_BLOODPRESSURE_hs2          0\n",
      "dtype: int64\n",
      "##################### Quantiles #####################\n",
      "                                 0.00      0.05      0.50      0.95      0.99      1.00\n",
      "PREGNANCIES                 -1.141852 -1.141852 -0.250952  1.827813  2.718712  3.906578\n",
      "GLUCOSE                     -3.783654 -1.311179 -0.121888  1.881130  2.350587  2.444478\n",
      "BLOODPRESSURE               -3.572597 -1.571894  0.149641  1.080200  1.907364  2.734528\n",
      "SKINTHICKNESS               -1.288212 -1.288212  0.154533  1.471822  1.931619  4.921866\n",
      "INSULIN                     -0.787602 -0.787602 -0.461451  2.345582  2.614256  2.614256\n",
      "BMI                         -4.060474 -1.293634  0.000942  1.574106  2.381820  4.455807\n",
      "DIABETESPEDIGREEFUNCTION    -1.189553 -1.001249 -0.300128  1.996219  3.704036  5.883565\n",
      "AGE                         -1.041549 -1.041549 -0.360847  2.106697  2.872487  4.063716\n",
      "NEW_AGE_CAT_old              0.000000  0.000000  0.000000  1.000000  1.000000  1.000000\n",
      "NEW_AGE_CAT_young            0.000000  0.000000  1.000000  1.000000  1.000000  1.000000\n",
      "NEW_GLUCOSE_CAT_prediabetes  0.000000  0.000000  0.000000  1.000000  1.000000  1.000000\n",
      "NEW_BMI_RANGE_healty         0.000000  0.000000  0.000000  1.000000  1.000000  1.000000\n",
      "NEW_BMI_RANGE_overweight     0.000000  0.000000  0.000000  1.000000  1.000000  1.000000\n",
      "NEW_BMI_RANGE_obese          0.000000  0.000000  1.000000  1.000000  1.000000  1.000000\n",
      "NEW_BLOODPRESSURE_hs1        0.000000  0.000000  0.000000  1.000000  1.000000  1.000000\n",
      "NEW_BLOODPRESSURE_hs2        0.000000  0.000000  0.000000  1.000000  1.000000  1.000000\n"
     ]
    }
   ],
   "source": [
    "X_scaled = StandardScaler().fit_transform(df[numCols])\n",
    "df[numCols] = pd.DataFrame(X_scaled, columns=df[numCols].columns)\n",
    "\n",
    "y = df[\"OUTCOME\"]\n",
    "X = df.drop([\"OUTCOME\"], axis=1)\n",
    "\n",
    "checkDf(X)"
   ]
  },
  {
   "cell_type": "code",
   "execution_count": 21,
   "metadata": {},
   "outputs": [],
   "source": [
    "def diabetes_data_prep(dataframe):\n",
    "    dataframe.columns = [col.upper() for col in dataframe.columns]\n",
    "\n",
    "    # Glucose\n",
    "    dataframe['NEW_GLUCOSE_CAT'] = pd.cut(x=dataframe['GLUCOSE'], bins=[-1, 139, 200], labels=[\"normal\", \"prediabetes\"])\n",
    "\n",
    "    # Age\n",
    "    dataframe.loc[(dataframe['AGE'] < 35), \"NEW_AGE_CAT\"] = 'young'\n",
    "    dataframe.loc[(dataframe['AGE'] >= 35) & (dataframe['AGE'] <= 55), \"NEW_AGE_CAT\"] = 'middleage'\n",
    "    dataframe.loc[(dataframe['AGE'] > 55), \"NEW_AGE_CAT\"] = 'old'\n",
    "\n",
    "    # BMI\n",
    "    dataframe['NEW_BMI_RANGE'] = pd.cut(x=dataframe['BMI'], bins=[-1, 18.5, 24.9, 29.9, 100],\n",
    "                                        labels=[\"underweight\", \"healty\", \"overweight\", \"obese\"])\n",
    "\n",
    "    # BloodPressure\n",
    "    dataframe['NEW_BLOODPRESSURE'] = pd.cut(x=dataframe['BLOODPRESSURE'], bins=[-1, 79, 89, 123],\n",
    "                                            labels=[\"normal\", \"hs1\", \"hs2\"])\n",
    "\n",
    "    cat_cols, num_cols, cat_but_car = grabColNames(dataframe, cat_th=5, car_th=20)\n",
    "\n",
    "    cat_cols = [col for col in cat_cols if \"OUTCOME\" not in col]\n",
    "\n",
    "    df = oneHotEncoder(dataframe, cat_cols, drop_first=True)\n",
    "\n",
    "    df.columns = [col.upper() for col in df.columns]\n",
    "\n",
    "    cat_cols, num_cols, cat_but_car = grabColNames(df, cat_th=5, car_th=20)\n",
    "\n",
    "    cat_cols = [col for col in cat_cols if \"OUTCOME\" not in col]\n",
    "\n",
    "    replaceWithThresholds(df, \"INSULIN\")\n",
    "\n",
    "    X_scaled = StandardScaler().fit_transform(df[num_cols])\n",
    "    df[num_cols] = pd.DataFrame(X_scaled, columns=df[num_cols].columns)\n",
    "\n",
    "    y = df[\"OUTCOME\"]\n",
    "    X = df.drop([\"OUTCOME\"], axis=1)\n",
    "\n",
    "    return X, y"
   ]
  },
  {
   "cell_type": "code",
   "execution_count": 22,
   "metadata": {},
   "outputs": [
    {
     "name": "stdout",
     "output_type": "stream",
     "text": [
      "##################### Shape #####################\n",
      "(768, 9)\n",
      "##################### Types #####################\n",
      "Pregnancies                   int64\n",
      "Glucose                       int64\n",
      "BloodPressure                 int64\n",
      "SkinThickness                 int64\n",
      "Insulin                       int64\n",
      "BMI                         float64\n",
      "DiabetesPedigreeFunction    float64\n",
      "Age                           int64\n",
      "Outcome                       int64\n",
      "dtype: object\n",
      "##################### Head #####################\n",
      "   Pregnancies  Glucose  BloodPressure  SkinThickness  Insulin   BMI  DiabetesPedigreeFunction  Age  Outcome\n",
      "0            6      148             72             35        0  33.6                     0.627   50        1\n",
      "1            1       85             66             29        0  26.6                     0.351   31        0\n",
      "2            8      183             64              0        0  23.3                     0.672   32        1\n",
      "3            1       89             66             23       94  28.1                     0.167   21        0\n",
      "4            0      137             40             35      168  43.1                     2.288   33        1\n",
      "##################### Tail #####################\n",
      "     Pregnancies  Glucose  BloodPressure  SkinThickness  Insulin   BMI  DiabetesPedigreeFunction  Age  Outcome\n",
      "763           10      101             76             48      180  32.9                     0.171   63        0\n",
      "764            2      122             70             27        0  36.8                     0.340   27        0\n",
      "765            5      121             72             23      112  26.2                     0.245   30        0\n",
      "766            1      126             60              0        0  30.1                     0.349   47        1\n",
      "767            1       93             70             31        0  30.4                     0.315   23        0\n",
      "##################### NA #####################\n",
      "Pregnancies                 0\n",
      "Glucose                     0\n",
      "BloodPressure               0\n",
      "SkinThickness               0\n",
      "Insulin                     0\n",
      "BMI                         0\n",
      "DiabetesPedigreeFunction    0\n",
      "Age                         0\n",
      "Outcome                     0\n",
      "dtype: int64\n",
      "##################### Quantiles #####################\n",
      "                            0.00      0.05      0.50       0.95       0.99    1.00\n",
      "Pregnancies                0.000   0.00000    3.0000   10.00000   13.00000   17.00\n",
      "Glucose                    0.000  79.00000  117.0000  181.00000  196.00000  199.00\n",
      "BloodPressure              0.000  38.70000   72.0000   90.00000  106.00000  122.00\n",
      "SkinThickness              0.000   0.00000   23.0000   44.00000   51.33000   99.00\n",
      "Insulin                    0.000   0.00000   30.5000  293.00000  519.90000  846.00\n",
      "BMI                        0.000  21.80000   32.0000   44.39500   50.75900   67.10\n",
      "DiabetesPedigreeFunction   0.078   0.14035    0.3725    1.13285    1.69833    2.42\n",
      "Age                       21.000  21.00000   29.0000   58.00000   67.00000   81.00\n",
      "Outcome                    0.000   0.00000    0.0000    1.00000    1.00000    1.00\n"
     ]
    }
   ],
   "source": [
    "df = pd.read_csv(\"datasets/diabetes.csv\")\n",
    "\n",
    "checkDf(df)"
   ]
  },
  {
   "cell_type": "code",
   "execution_count": 23,
   "metadata": {},
   "outputs": [
    {
     "name": "stdout",
     "output_type": "stream",
     "text": [
      "##################### Shape #####################\n",
      "(768, 16)\n",
      "##################### Types #####################\n",
      "PREGNANCIES                    float64\n",
      "GLUCOSE                        float64\n",
      "BLOODPRESSURE                  float64\n",
      "SKINTHICKNESS                  float64\n",
      "INSULIN                        float64\n",
      "BMI                            float64\n",
      "DIABETESPEDIGREEFUNCTION       float64\n",
      "AGE                            float64\n",
      "NEW_AGE_CAT_OLD                  uint8\n",
      "NEW_AGE_CAT_YOUNG                uint8\n",
      "NEW_GLUCOSE_CAT_PREDIABETES      uint8\n",
      "NEW_BMI_RANGE_HEALTY             uint8\n",
      "NEW_BMI_RANGE_OVERWEIGHT         uint8\n",
      "NEW_BMI_RANGE_OBESE              uint8\n",
      "NEW_BLOODPRESSURE_HS1            uint8\n",
      "NEW_BLOODPRESSURE_HS2            uint8\n",
      "dtype: object\n",
      "##################### Head #####################\n",
      "   PREGNANCIES   GLUCOSE  BLOODPRESSURE  SKINTHICKNESS   INSULIN       BMI  DIABETESPEDIGREEFUNCTION       AGE  NEW_AGE_CAT_OLD  NEW_AGE_CAT_YOUNG  NEW_GLUCOSE_CAT_PREDIABETES  NEW_BMI_RANGE_HEALTY  NEW_BMI_RANGE_OVERWEIGHT  NEW_BMI_RANGE_OBESE  NEW_BLOODPRESSURE_HS1  NEW_BLOODPRESSURE_HS2\n",
      "0     0.639947  0.848324       0.149641       0.907270 -0.787602  0.204013                  0.468492  1.425995                0                  0                            1                     0                         0                    1                      0                      0\n",
      "1    -0.844885 -1.123396      -0.160546       0.530902 -0.787602 -0.684422                 -0.365061 -0.190672                0                  1                            0                     0                         1                    0                      0                      0\n",
      "2     1.233880  1.943724      -0.263941      -1.288212 -0.787602 -1.103255                  0.604397 -0.105584                0                  1                            1                     1                         0                    0                      0                      0\n",
      "3    -0.844885 -0.998208      -0.160546       0.154533  0.217583 -0.494043                 -0.920763 -1.041549                0                  1                            0                     0                         1                    0                      0                      0\n",
      "4    -1.141852  0.504055      -1.504687       0.907270  1.008900  1.409746                  5.484909 -0.020496                0                  1                            0                     0                         0                    1                      0                      0\n",
      "##################### Tail #####################\n",
      "     PREGNANCIES   GLUCOSE  BLOODPRESSURE  SKINTHICKNESS   INSULIN       BMI  DIABETESPEDIGREEFUNCTION       AGE  NEW_AGE_CAT_OLD  NEW_AGE_CAT_YOUNG  NEW_GLUCOSE_CAT_PREDIABETES  NEW_BMI_RANGE_HEALTY  NEW_BMI_RANGE_OVERWEIGHT  NEW_BMI_RANGE_OBESE  NEW_BLOODPRESSURE_HS1  NEW_BLOODPRESSURE_HS2\n",
      "763     1.827813 -0.622642       0.356432       1.722735  1.137221  0.115169                 -0.908682  2.532136                1                  0                            0                     0                         0                    1                      0                      0\n",
      "764    -0.547919  0.034598       0.046245       0.405445 -0.787602  0.610154                 -0.398282 -0.531023                0                  1                            0                     0                         0                    1                      0                      0\n",
      "765     0.342981  0.003301       0.149641       0.154533  0.410066 -0.735190                 -0.685193 -0.275760                0                  1                            0                     0                         1                    0                      0                      0\n",
      "766    -0.844885  0.159787      -0.470732      -1.288212 -0.787602 -0.240205                 -0.371101  1.170732                0                  0                            0                     0                         0                    1                      0                      0\n",
      "767    -0.844885 -0.873019       0.046245       0.656358 -0.787602 -0.202129                 -0.473785 -0.871374                0                  1                            0                     0                         0                    1                      0                      0\n",
      "##################### NA #####################\n",
      "PREGNANCIES                    0\n",
      "GLUCOSE                        0\n",
      "BLOODPRESSURE                  0\n",
      "SKINTHICKNESS                  0\n",
      "INSULIN                        0\n",
      "BMI                            0\n",
      "DIABETESPEDIGREEFUNCTION       0\n",
      "AGE                            0\n",
      "NEW_AGE_CAT_OLD                0\n",
      "NEW_AGE_CAT_YOUNG              0\n",
      "NEW_GLUCOSE_CAT_PREDIABETES    0\n",
      "NEW_BMI_RANGE_HEALTY           0\n",
      "NEW_BMI_RANGE_OVERWEIGHT       0\n",
      "NEW_BMI_RANGE_OBESE            0\n",
      "NEW_BLOODPRESSURE_HS1          0\n",
      "NEW_BLOODPRESSURE_HS2          0\n",
      "dtype: int64\n",
      "##################### Quantiles #####################\n",
      "                                 0.00      0.05      0.50      0.95      0.99      1.00\n",
      "PREGNANCIES                 -1.141852 -1.141852 -0.250952  1.827813  2.718712  3.906578\n",
      "GLUCOSE                     -3.783654 -1.311179 -0.121888  1.881130  2.350587  2.444478\n",
      "BLOODPRESSURE               -3.572597 -1.571894  0.149641  1.080200  1.907364  2.734528\n",
      "SKINTHICKNESS               -1.288212 -1.288212  0.154533  1.471822  1.931619  4.921866\n",
      "INSULIN                     -0.787602 -0.787602 -0.461451  2.345582  2.614256  2.614256\n",
      "BMI                         -4.060474 -1.293634  0.000942  1.574106  2.381820  4.455807\n",
      "DIABETESPEDIGREEFUNCTION    -1.189553 -1.001249 -0.300128  1.996219  3.704036  5.883565\n",
      "AGE                         -1.041549 -1.041549 -0.360847  2.106697  2.872487  4.063716\n",
      "NEW_AGE_CAT_OLD              0.000000  0.000000  0.000000  1.000000  1.000000  1.000000\n",
      "NEW_AGE_CAT_YOUNG            0.000000  0.000000  1.000000  1.000000  1.000000  1.000000\n",
      "NEW_GLUCOSE_CAT_PREDIABETES  0.000000  0.000000  0.000000  1.000000  1.000000  1.000000\n",
      "NEW_BMI_RANGE_HEALTY         0.000000  0.000000  0.000000  1.000000  1.000000  1.000000\n",
      "NEW_BMI_RANGE_OVERWEIGHT     0.000000  0.000000  0.000000  1.000000  1.000000  1.000000\n",
      "NEW_BMI_RANGE_OBESE          0.000000  0.000000  1.000000  1.000000  1.000000  1.000000\n",
      "NEW_BLOODPRESSURE_HS1        0.000000  0.000000  0.000000  1.000000  1.000000  1.000000\n",
      "NEW_BLOODPRESSURE_HS2        0.000000  0.000000  0.000000  1.000000  1.000000  1.000000\n"
     ]
    }
   ],
   "source": [
    "X, y = diabetes_data_prep(df)\n",
    "\n",
    "checkDf(X)\n"
   ]
  },
  {
   "cell_type": "markdown",
   "metadata": {},
   "source": [
    "3. Base Models"
   ]
  },
  {
   "cell_type": "code",
   "execution_count": 24,
   "metadata": {},
   "outputs": [
    {
     "name": "stdout",
     "output_type": "stream",
     "text": [
      "Base Models....\n",
      "accuracy: 0.7604 (LR) \n",
      "accuracy: 0.7617 (KNN) \n",
      "accuracy: 0.7656 (SVC) \n",
      "accuracy: 0.6849 (CART) \n",
      "accuracy: 0.7708 (RF) \n",
      "accuracy: 0.7578 (Adaboost) \n",
      "accuracy: 0.7526 (GBM) \n",
      "accuracy: 0.7448 (XGBoost) \n",
      "accuracy: 0.7383 (LightGBM) \n"
     ]
    }
   ],
   "source": [
    "def base_models(X, y, scoring=\"roc_auc\"):\n",
    "    print(\"Base Models....\")\n",
    "    classifiers = [('LR', LogisticRegression()),\n",
    "                   ('KNN', KNeighborsClassifier()),\n",
    "                   (\"SVC\", SVC()),\n",
    "                   (\"CART\", DecisionTreeClassifier()),\n",
    "                   (\"RF\", RandomForestClassifier()),\n",
    "                   ('Adaboost', AdaBoostClassifier()),\n",
    "                   ('GBM', GradientBoostingClassifier()),\n",
    "                   ('XGBoost', XGBClassifier(use_label_encoder=False, eval_metric='logloss')),\n",
    "                   ('LightGBM', LGBMClassifier()),\n",
    "                   # ('CatBoost', CatBoostClassifier(verbose=False))\n",
    "                   ]\n",
    "\n",
    "    for name, classifier in classifiers:\n",
    "        cv_results = cross_validate(classifier, X, y, cv=3, scoring=scoring)\n",
    "        print(f\"{scoring}: {round(cv_results['test_score'].mean(), 4)} ({name}) \")\n",
    "\n",
    "base_models(X, y, scoring=\"accuracy\")"
   ]
  },
  {
   "cell_type": "markdown",
   "metadata": {},
   "source": [
    "4. Automated Hyperparameter Optimization"
   ]
  },
  {
   "cell_type": "code",
   "execution_count": 25,
   "metadata": {},
   "outputs": [
    {
     "name": "stdout",
     "output_type": "stream",
     "text": [
      "Hyperparameter Optimization....\n",
      "########## KNN ##########\n",
      "roc_auc (Before): 0.791\n",
      "roc_auc (After): 0.8211\n",
      "KNN best params: {'n_neighbors': 20}\n",
      "\n",
      "########## CART ##########\n",
      "roc_auc (Before): 0.6504\n",
      "roc_auc (After): 0.7943\n",
      "CART best params: {'max_depth': 6, 'min_samples_split': 23}\n",
      "\n",
      "########## RF ##########\n",
      "roc_auc (Before): 0.8256\n",
      "roc_auc (After): 0.8302\n",
      "RF best params: {'max_depth': 8, 'max_features': 7, 'min_samples_split': 15, 'n_estimators': 200}\n",
      "\n",
      "########## XGBoost ##########\n",
      "roc_auc (Before): 0.8015\n",
      "roc_auc (After): 0.8179\n",
      "XGBoost best params: {'learning_rate': 0.01, 'max_depth': 5, 'n_estimators': 200}\n",
      "\n",
      "########## LightGBM ##########\n",
      "roc_auc (Before): 0.807\n",
      "roc_auc (After): 0.8185\n",
      "LightGBM best params: {'learning_rate': 0.01, 'n_estimators': 300}\n",
      "\n"
     ]
    }
   ],
   "source": [
    "\n",
    "knn_params = {\"n_neighbors\": range(2, 50)}\n",
    "\n",
    "cart_params = {'max_depth': range(1, 20),\n",
    "               \"min_samples_split\": range(2, 30)}\n",
    "\n",
    "rf_params = {\"max_depth\": [8, 15, None],\n",
    "             \"max_features\": [5, 7, \"auto\"],\n",
    "             \"min_samples_split\": [15, 20],\n",
    "             \"n_estimators\": [200, 300]}\n",
    "\n",
    "xgboost_params = {\"learning_rate\": [0.1, 0.01],\n",
    "                  \"max_depth\": [5, 8],\n",
    "                  \"n_estimators\": [100, 200]}\n",
    "\n",
    "lightgbm_params = {\"learning_rate\": [0.01, 0.1],\n",
    "                   \"n_estimators\": [300, 500]}\n",
    "\n",
    "\n",
    "classifiers = [('KNN', KNeighborsClassifier(), knn_params),\n",
    "               (\"CART\", DecisionTreeClassifier(), cart_params),\n",
    "               (\"RF\", RandomForestClassifier(), rf_params),\n",
    "               ('XGBoost', XGBClassifier(use_label_encoder=False, eval_metric='logloss'), xgboost_params),\n",
    "               ('LightGBM', LGBMClassifier(), lightgbm_params)]\n",
    "\n",
    "\n",
    "\n",
    "def hyperparameter_optimization(X, y, cv=3, scoring=\"roc_auc\"):\n",
    "    print(\"Hyperparameter Optimization....\")\n",
    "    best_models = {}\n",
    "    for name, classifier, params in classifiers:\n",
    "        print(f\"########## {name} ##########\")\n",
    "        cv_results = cross_validate(classifier, X, y, cv=cv, scoring=scoring)\n",
    "        print(f\"{scoring} (Before): {round(cv_results['test_score'].mean(), 4)}\")\n",
    "\n",
    "        gs_best = GridSearchCV(classifier, params, cv=cv, n_jobs=-1, verbose=False).fit(X, y)\n",
    "        final_model = classifier.set_params(**gs_best.best_params_)\n",
    "\n",
    "        cv_results = cross_validate(final_model, X, y, cv=cv, scoring=scoring)\n",
    "        print(f\"{scoring} (After): {round(cv_results['test_score'].mean(), 4)}\")\n",
    "        print(f\"{name} best params: {gs_best.best_params_}\", end=\"\\n\\n\")\n",
    "        best_models[name] = final_model\n",
    "    return best_models\n",
    "\n",
    "best_models = hyperparameter_optimization(X, y)"
   ]
  },
  {
   "cell_type": "markdown",
   "metadata": {},
   "source": [
    "5. Stacking & Ensemble Learning"
   ]
  },
  {
   "cell_type": "code",
   "execution_count": 26,
   "metadata": {},
   "outputs": [
    {
     "name": "stdout",
     "output_type": "stream",
     "text": [
      "Voting Classifier...\n",
      "Accuracy: 0.7708333333333334\n",
      "F1Score: 0.6386882178024879\n",
      "ROC_AUC: 0.8360776003758619\n"
     ]
    }
   ],
   "source": [
    "def voting_classifier(best_models, X, y):\n",
    "    print(\"Voting Classifier...\")\n",
    "\n",
    "    voting_clf = VotingClassifier(estimators=[('KNN', best_models[\"KNN\"]),\n",
    "                                              ('RF', best_models[\"RF\"]),\n",
    "                                              ('LightGBM', best_models[\"LightGBM\"])],\n",
    "                                  voting='soft').fit(X, y)\n",
    "\n",
    "    cv_results = cross_validate(voting_clf, X, y, cv=3, scoring=[\"accuracy\", \"f1\", \"roc_auc\"])\n",
    "    print(f\"Accuracy: {cv_results['test_accuracy'].mean()}\")\n",
    "    print(f\"F1Score: {cv_results['test_f1'].mean()}\")\n",
    "    print(f\"ROC_AUC: {cv_results['test_roc_auc'].mean()}\")\n",
    "    return voting_clf\n",
    "\n",
    "voting_clf = voting_classifier(best_models, X, y)\n"
   ]
  },
  {
   "cell_type": "markdown",
   "metadata": {},
   "source": [
    "6. Prediction for a New Observation"
   ]
  },
  {
   "cell_type": "code",
   "execution_count": 27,
   "metadata": {},
   "outputs": [
    {
     "data": {
      "text/plain": [
       "Index(['PREGNANCIES', 'GLUCOSE', 'BLOODPRESSURE', 'SKINTHICKNESS', 'INSULIN', 'BMI', 'DIABETESPEDIGREEFUNCTION', 'AGE', 'NEW_AGE_CAT_OLD', 'NEW_AGE_CAT_YOUNG', 'NEW_GLUCOSE_CAT_PREDIABETES', 'NEW_BMI_RANGE_HEALTY', 'NEW_BMI_RANGE_OVERWEIGHT', 'NEW_BMI_RANGE_OBESE', 'NEW_BLOODPRESSURE_HS1', 'NEW_BLOODPRESSURE_HS2'], dtype='object')"
      ]
     },
     "execution_count": 27,
     "metadata": {},
     "output_type": "execute_result"
    }
   ],
   "source": [
    "X.columns\n"
   ]
  },
  {
   "cell_type": "code",
   "execution_count": 28,
   "metadata": {},
   "outputs": [
    {
     "data": {
      "text/plain": [
       "array([1], dtype=int64)"
      ]
     },
     "execution_count": 28,
     "metadata": {},
     "output_type": "execute_result"
    }
   ],
   "source": [
    "random_user = X.sample(1, random_state=45)\n",
    "voting_clf.predict(random_user)\n",
    "\n",
    "joblib.dump(voting_clf, \"voting_clf2.pkl\")\n",
    "\n",
    "new_model = joblib.load(\"voting_clf2.pkl\")\n",
    "new_model.predict(random_user)"
   ]
  }
 ],
 "metadata": {
  "kernelspec": {
   "display_name": "Python 3.10.5 64-bit",
   "language": "python",
   "name": "python3"
  },
  "language_info": {
   "codemirror_mode": {
    "name": "ipython",
    "version": 3
   },
   "file_extension": ".py",
   "mimetype": "text/x-python",
   "name": "python",
   "nbconvert_exporter": "python",
   "pygments_lexer": "ipython3",
   "version": "3.10.5"
  },
  "orig_nbformat": 4,
  "vscode": {
   "interpreter": {
    "hash": "5026d2d6e7aaaaba093def813beadff083d8733e4a511af01735cbabd156995d"
   }
  }
 },
 "nbformat": 4,
 "nbformat_minor": 2
}
